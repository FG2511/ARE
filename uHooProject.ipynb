{
  "nbformat": 4,
  "nbformat_minor": 0,
  "metadata": {
    "colab": {
      "name": "uHooProject.ipynb",
      "version": "0.3.2",
      "provenance": [],
      "include_colab_link": true
    },
    "kernelspec": {
      "name": "python3",
      "display_name": "Python 3"
    }
  },
  "cells": [
    {
      "cell_type": "markdown",
      "metadata": {
        "id": "view-in-github",
        "colab_type": "text"
      },
      "source": [
        "<a href=\"https://colab.research.google.com/github/FG2511/ARE/blob/master/uHooProject.ipynb\" target=\"_parent\"><img src=\"https://colab.research.google.com/assets/colab-badge.svg\" alt=\"Open In Colab\"/></a>"
      ]
    },
    {
      "metadata": {
        "id": "whVTHDGcOOFR",
        "colab_type": "code",
        "colab": {}
      },
      "cell_type": "code",
      "source": [
        "'''\n",
        "@File name: uHooProject.ipynb\n",
        "@Created on 2018-12-14\n",
        "@Authors: Federica Gerina, Francesca Moi, Silvia Maria Massa\n",
        "@Description: Given a time-series dataset that contains minute-by-minute data \n",
        "about different kind of gases, collected by the uHoo air quality sensor, train\n",
        "a NN that classifies if a minute belongs to the class \"Pasto\" (1) otherwise to\n",
        "the class \"Other\" (0).\n",
        "'''\n",
        "import numpy as np\n",
        "from pandas import DataFrame\n",
        "from pandas import read_csv\n",
        "from keras.models import Sequential\n",
        "from keras.layers import Dense, LSTM\n",
        "from keras.preprocessing import sequence\n",
        "import matplotlib.pyplot as plt\n",
        "from sklearn.preprocessing import LabelEncoder\n",
        "\n",
        "#FIRST STEP: PREPARING THE DATA\n",
        "print(\"Preparing the data...\")\n",
        "\n",
        "#Loading dataset\n",
        "dataframe = read_csv('uHooDataset.csv', usecols=[\"Date and time\",\"Temperature\",\"Relative Humidity\",\"PM2.5\",\"TVOC\",\"CO2\",\"CO\",\"Air Pressure\",\"Ozone\",\"NO2\",\"Activity\"])\n",
        "\n",
        "#Converting class 'Pasto' to 1 and class 'Other' to 0\n",
        "encoder = LabelEncoder()\n",
        "dataframe['Activity'] = encoder.fit_transform(['Other', 'Pasto'])\n",
        "\n",
        "#Converting values to float32\n",
        "dataset = dataframe.values\n",
        "dataset = dataset.astype('float32')\n",
        "\n",
        "#Normalizing and rescaling the data\n",
        "mean = dataset[:].mean(axis=0)\n",
        "dataset -= mean\n",
        "std = dataset[:].std(axis=0)\n",
        "dataset /= std\n",
        "\n",
        "#Converting timeseries into supervised learning problem ???\n",
        "\n",
        "#Determining data for training, validation and test set\n",
        "tr_rate = 30\n",
        "val_rate = 40\n",
        "train_start = round(int(len(dataset) * (tr_rate / 100)))\n",
        "validation_start = round(train_start + int(len(dataset)) * (val_rate / 100))\n",
        "test_start = validation_row + 1\n",
        "\n",
        "#Generator parameters\n",
        "#lookback = 144\n",
        "#steps = 96 \n",
        "#delay = 96 \n",
        "#batchSize = 64 \n",
        "\n",
        "#Creating generators\n",
        "#trainig_gen = generator(dataset,lookback=lookback, delay=delay, min_index=0, max_index=train_start, shuffle=True, batch_size=batchSize, step=steps)\n",
        "#validation_gen = generator(dataset,lookback=lookback, delay=delay, min_index=train_start+1, max_index=validation_start, shuffle=True, batch_size=batchSize, step=steps)\n",
        "#test_gen = generator(dataset, lookback=lookback, delay=delay, min_index=test_start, max_index=None, batch_size=batchSize, step=steps)\n",
        "\n",
        "#SECOND STEP: TRAINING THE LSTM MODEL\n",
        "print(\"Training the model...\")\n",
        "\n",
        "#Simple LSTM model\n",
        "model = Sequential()\n",
        "model.add(LSTM(128, activation='softmax', return_sequences = True, dropout=0.2, recurrent_dropout=0.2))\n",
        "model.add(LSTM(256, activation='softmax', dropout=0.2, recurrent_dropout=0.2))\n",
        "model.add(Dense(1)) #activation'sigmoid' ? \n",
        "\n",
        "model.compile(optimizer='rmsprop',loss='binary_crossentropy',metrics=['acc'])\n",
        "\n",
        "#history = model.fit(input_train, y_train,epochs=3,batch_size=128, validation_split=0.2)\n",
        "\n",
        "model.save('lstm_model.h5')\n",
        "\n",
        "\n",
        "#THIRD STEP: MODEL EVALUATION AND PLOTTING RESULTS\n",
        "\n",
        "#Evaluate model\n",
        "print(\"Evaluate model...\")\n",
        "\n",
        "#Plot results\n",
        "print(\"Plot results...\")"
      ],
      "execution_count": 0,
      "outputs": []
    },
    {
      "metadata": {
        "id": "TgMVDW5jsL_C",
        "colab_type": "code",
        "colab": {}
      },
      "cell_type": "code",
      "source": [
        "\n"
      ],
      "execution_count": 0,
      "outputs": []
    },
    {
      "metadata": {
        "id": "EJFQTCOAsAVZ",
        "colab_type": "code",
        "colab": {}
      },
      "cell_type": "code",
      "source": [
        ""
      ],
      "execution_count": 0,
      "outputs": []
    },
    {
      "metadata": {
        "id": "9mMe3XqbdJk_",
        "colab_type": "code",
        "colab": {}
      },
      "cell_type": "code",
      "source": [
        "'''\n",
        "@Description: Transforms a timeseries into a supervised learning problem: \n",
        "              organization of data into input and output patterns where the \n",
        "              observation at the previous time step is used as an input to \n",
        "              forecast the observation at the current time timestep.\n",
        "@Source code: https://machinelearningmastery.com/use-timesteps-lstm-networks-time-series-forecasting\n",
        "'''\n",
        "def timeseries_to_supervised(data, lag=1):\n",
        "\tdf = DataFrame(data)\n",
        "\tcolumns = [df.shift(i) for i in range(1, lag+1)]\n",
        "\tcolumns.append(df)\n",
        "\tdf = concat(columns, axis=1)\n",
        "\treturn df"
      ],
      "execution_count": 0,
      "outputs": []
    },
    {
      "metadata": {
        "id": "LYu9BjS7TOWv",
        "colab_type": "code",
        "colab": {}
      },
      "cell_type": "code",
      "source": [
        "'''\n",
        "@Description: Generator method for timestep forecasting.\n",
        "@Source code: \"Deep Learning with Python\", Francois Chollet\n",
        "'''\n",
        "'''\n",
        "@param: \n",
        "  - data: the original array of floating-point data (nomalized).\n",
        "  - lookback: how many timesteps back the input data should go.\n",
        "  - delay: how many timesteps in the future the target should be.\n",
        "  - min_index and max_index: indices in the data array that delimit which timesteps\n",
        "    to draw from. This is useful for keeping a segment of the data for validation\n",
        "    and another for testing.\n",
        "  - shuffle: whether to shuffle the samples or draw them in chronological order.\n",
        "  - batch_size: the number of samples per batch.\n",
        "  - step: the period, in timesteps, at which you sample data.\n",
        "'''\n",
        "def generator(data, lookback, delay, min_index, max_index, shuffle=False, batch_size, step):\n",
        "  if max_index is None:\n",
        "    max_index = len(data) - delay - 1\n",
        "  i = min_index + lookback\n",
        "  \n",
        "  while 1:\n",
        "    if shuffle:\n",
        "      rows = np.random.randint(min_index + lookback, max_index, size=batch_size)\n",
        "    else:\n",
        "        if i + batch_size >= max_index:\n",
        "          i = min_index + lookback\n",
        "        rows = np.arange(i, min(i + batch_size, max_index))\n",
        "        i += len(rows)\n",
        "        \n",
        "    samples = np.zeros((len(rows), lookback // step, data.shape[-1]))\n",
        "    targets = np.zeros((len(rows),))\n",
        "    \n",
        "    for j, row in enumerate(rows):\n",
        "      indices = range(rows[j] - lookback, rows[j], step)\n",
        "      samples[j] = data[indices]\n",
        "      targets[j] = data[rows[j] + delay][1]\n",
        "    yield samples, targets"
      ],
      "execution_count": 0,
      "outputs": []
    }
  ]
}