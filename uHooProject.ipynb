{
  "nbformat": 4,
  "nbformat_minor": 0,
  "metadata": {
    "colab": {
      "name": "uHooProject.ipynb",
      "version": "0.3.2",
      "provenance": [],
      "include_colab_link": true
    },
    "kernelspec": {
      "name": "python3",
      "display_name": "Python 3"
    }
  },
  "cells": [
    {
      "cell_type": "markdown",
      "metadata": {
        "id": "view-in-github",
        "colab_type": "text"
      },
      "source": [
        "<a href=\"https://colab.research.google.com/github/FG2511/ARE/blob/master/uHooProject.ipynb\" target=\"_parent\"><img src=\"https://colab.research.google.com/assets/colab-badge.svg\" alt=\"Open In Colab\"/></a>"
      ]
    },
    {
      "metadata": {
        "id": "whVTHDGcOOFR",
        "colab_type": "code",
        "colab": {}
      },
      "cell_type": "code",
      "source": [
        "'''\n",
        "@Created on 2018-12-14\n",
        "@Authors: Federica Gerina, Francesca Moi, Silvia Maria Massa\n",
        "@Description: Given a time-series dataset that contains minute-by-minute data \n",
        "about different kind of gases, collected by the uHoo air quality sensor, train\n",
        "a NN that classifies if a minute belongs to the class \"Pasto\" (1) otherwise to\n",
        "the class \"Other\" (0).\n",
        "'''\n",
        "\n",
        "from keras.models import Sequential\n",
        "from keras.layers import Embedding, Dense, LSTM\n",
        "from keras.preprocessing import sequence\n",
        "import matplotlib.pyplot as plt\n",
        "\n",
        "#FIRST STEP: PREPARING THE DATA\n",
        "print(\"Preparing the data...\")\n",
        "\n",
        "#SECOND STEP: TRAINING THE MODEL WITH LSTM\n",
        "print(\"Training the model...\")\n",
        "\n",
        "model = Sequential()\n",
        "model.add(LSTM(128, activation='softmax', return_sequences = True, dropout=0.2, recurrent_dropout=0.2))\n",
        "model.add(LSTM(256, activation='softmax', dropout=0.2, recurrent_dropout=0.2))\n",
        "model.add(Dense(1, activation='sigmoid'))\n",
        "model.compile(optimizer='rmsprop',loss='binary_crossentropy',metrics=['acc'])\n",
        "\n",
        "history = model.fit(input_train, y_train,epochs=10,batch_size=128, validation_split=0.2)\n",
        "\n",
        "model.save('lstm_model.h5')\n",
        "\n",
        "#THIRD STEP: PLOT RESULTS\n",
        "print(\"Plot results...\")"
      ],
      "execution_count": 0,
      "outputs": []
    },
    {
      "metadata": {
        "id": "LYu9BjS7TOWv",
        "colab_type": "code",
        "colab": {}
      },
      "cell_type": "code",
      "source": [
        "'''\n",
        "@Description: Generator method for timestep forecasting.\n",
        "@Source code: \"Deep Learning with Python\", Francois Chollet\n",
        "'''\n",
        "def generator(data, lookback, delay, min_index, max_index, shuffle=False, batch_size=64, step=1):\n",
        "  if max_index is None:\n",
        "    max_index = len(data) - delay - 1\n",
        "  i = min_index + lookback\n",
        "  \n",
        "  while 1:\n",
        "    if shuffle:\n",
        "      rows = np.random.randint(min_index + lookback, max_index, size=batch_size)\n",
        "    else:\n",
        "        if i + batch_size >= max_index:\n",
        "          i = min_index + lookback\n",
        "        rows = np.arange(i, min(i + batch_size, max_index))\n",
        "        i += len(rows)\n",
        "        \n",
        "    samples = np.zeros((len(rows), lookback // step, data.shape[-1]))\n",
        "    targets = np.zeros((len(rows),))\n",
        "    \n",
        "    for j, row in enumerate(rows):\n",
        "      indices = range(rows[j] - lookback, rows[j], step)\n",
        "      samples[j] = data[indices]\n",
        "      targets[j] = data[rows[j] + delay][1]\n",
        "    yield samples, targets"
      ],
      "execution_count": 0,
      "outputs": []
    }
  ]
}