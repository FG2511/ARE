{
  "nbformat": 4,
  "nbformat_minor": 0,
  "metadata": {
    "colab": {
      "name": "model1_cross_validation.ipynb",
      "version": "0.3.2",
      "provenance": [],
      "collapsed_sections": [],
      "include_colab_link": true
    },
    "kernelspec": {
      "name": "python3",
      "display_name": "Python 3"
    }
  },
  "cells": [
    {
      "cell_type": "markdown",
      "metadata": {
        "id": "view-in-github",
        "colab_type": "text"
      },
      "source": [
        "<a href=\"https://colab.research.google.com/github/FG2511/ARE/blob/master/model1_cross_validation_Silvia.ipynb\" target=\"_parent\"><img src=\"https://colab.research.google.com/assets/colab-badge.svg\" alt=\"Open In Colab\"/></a>"
      ]
    },
    {
      "metadata": {
        "id": "5xC7KT-lYae2",
        "colab_type": "code",
        "outputId": "4dd9fc2e-34e9-4e34-bd81-66a21ad0fc19",
        "colab": {
          "base_uri": "https://localhost:8080/",
          "height": 34
        }
      },
      "cell_type": "code",
      "source": [
        "'''\n",
        "@File name: model1.ipynb\n",
        "@Created on 2018-12-20\n",
        "@Authors: Federica Gerina, Francesca Moi, Silvia Maria Massa\n",
        "@Description: Given a time-series dataset that contains minute-by-minute data \n",
        "about different kind of gases, collected by the uHoo air quality sensor, train\n",
        "a NN that classifies if a minute belongs to the class \"Pasto\" (1) otherwise to\n",
        "the class \"Other\" (0).\n",
        "'''\n",
        "\n",
        "!pip install liac-arff\n",
        "\n",
        "import arff\n",
        "import csv\n",
        "\n",
        "import math\n",
        "\n",
        "'''Provides a high-performance multidimensional array object, \n",
        "and tools for working with these arrays'''\n",
        "import numpy as np\n",
        "'''Save an array to a text file.'''\n",
        "from numpy import savetxt\n",
        "\n",
        "'''Providing high-performance, easy-to-use data structures and data analysis tools'''\n",
        "import pandas as pd\n",
        "'''Two-dimensional size-mutable, \n",
        "potentially heterogeneous tabular data structure with labeled axes (rows and columns). \n",
        "Arithmetic operations align on both row and column labels.'''\n",
        "from pandas import DataFrame\n",
        "'''Read CSV file into DataFrame.\n",
        "Supports optionally iterating or breaking of the file into chunks.'''\n",
        "from pandas import read_csv\n",
        "'''Concatenate pandas objects along a particular axis with optional set logic along the other axes.\n",
        "Can also add a layer of hierarchical indexing on the concatenation axis, \n",
        "which may be useful if the labels are the same (or overlapping) on the passed axis number'''\n",
        "from pandas import concat\n",
        "\n",
        "from keras import optimizers\n",
        "'''Linear stack of layers.'''\n",
        "from keras.models import Sequential\n",
        "'''Loads a model saved via save_model.'''\n",
        "from keras.models import load_model\n",
        "'''Dense: just your regular densely-connected NN layer.\n",
        "Dropout: applies Dropout to the input.'''\n",
        "from keras.layers import Dense, Dropout, BatchNormalization,Activation\n",
        "from keras.callbacks import EarlyStopping\n",
        "from keras.preprocessing import sequence\n",
        "\n",
        "from sklearn.utils import compute_class_weight\n",
        "from sklearn.model_selection import KFold\n",
        "from sklearn.metrics import confusion_matrix\n",
        "\n",
        "import matplotlib.pyplot as plt\n",
        "from matplotlib.pyplot import legend\n",
        "\n",
        "# fix random seed for reproducibility\n",
        "seed = 7\n",
        "np.random.seed(seed)"
      ],
      "execution_count": 24,
      "outputs": [
        {
          "output_type": "stream",
          "text": [
            "Requirement already satisfied: liac-arff in /usr/local/lib/python3.6/dist-packages (2.3.1)\n"
          ],
          "name": "stdout"
        }
      ]
    },
    {
      "metadata": {
        "id": "HWFtL_iIYf25",
        "colab_type": "code",
        "colab": {}
      },
      "cell_type": "code",
      "source": [
        "def generate_model(shape):\n",
        "  \n",
        "  model = Sequential()\n",
        "  model.add(BatchNormalization())\n",
        " \n",
        "  '''model.add(Dense(113, input_dim=shape, kernel_initializer='random_uniform',  bias_initializer='zeros', activation='relu'))'''\n",
        "  model.add(Dense(113, input_dim=shape, kernel_initializer='random_uniform', use_bias = False))\n",
        "  model.add(BatchNormalization())\n",
        "  model.add(Activation('relu'))\n",
        "  model.add(Dropout(0,5))\n",
        "  \n",
        "  '''model.add(Dense(229, kernel_initializer='random_uniform',  bias_initializer='zeros', activation='relu'))'''\n",
        "  model.add(Dense(229, kernel_initializer='random_uniform', use_bias = False))\n",
        "  model.add(BatchNormalization())\n",
        "  model.add(Activation('relu'))\n",
        "  model.add(Dropout(0,5))\n",
        "  \n",
        "  '''model.add(Dense(153, kernel_initializer='random_uniform',  bias_initializer='zeros', activation='relu'))'''\n",
        "  model.add(Dense(153, kernel_initializer='random_uniform', use_bias = False))\n",
        "  model.add(BatchNormalization())\n",
        "  model.add(Activation('relu'))\n",
        "  model.add(Dropout(0,5))\n",
        "  \n",
        "  model.add(Dense(1, activation='sigmoid'))\n",
        "  \n",
        "  #print(model.summary())\n",
        "\n",
        "  return model"
      ],
      "execution_count": 0,
      "outputs": []
    },
    {
      "metadata": {
        "id": "lUfQeqZVYk7H",
        "colab_type": "code",
        "outputId": "f9ba43fb-8822-4368-8b72-80dc566ada96",
        "colab": {
          "base_uri": "https://localhost:8080/",
          "height": 87
        }
      },
      "cell_type": "code",
      "source": [
        "#LOAD DATA\n",
        "print(\"Loading data...\")\n",
        "\n",
        "dataset = '/root/data/6_uHoo_featureDataset.arff'\n",
        "\n",
        "with open (dataset, encoding='utf-8') as f:\n",
        "  dataDictionary = arff.load(f)\n",
        "\n",
        "data = np.array(dataDictionary['data'])\n",
        "print(\"DATASET LOADED\")\n",
        "\n",
        "#CONVERTING VALUES\n",
        "print(\"Converting values...\")\n",
        "for i in data:\n",
        "  if(i[-1] == 'Other'): i[-1] = 0\n",
        "  elif(i[-1] == 'Pasto') : i[-1] = 1\n",
        "\n",
        "dataset = data.astype('float32')\n",
        "print(\"CONVERSION DONE\")\n",
        "\n",
        "#SPLIT INTO INPUT (X) AND OUTPUT (Y) VARIABLES\n",
        "s = dataset.shape[-1]\n",
        "X = dataset[:,0:s-1]\n",
        "Y = dataset[:,s-1]"
      ],
      "execution_count": 8,
      "outputs": [
        {
          "output_type": "stream",
          "text": [
            "Loading data...\n",
            "DATASET LOADED\n",
            "Converting values...\n",
            "CONVERSION DONE\n"
          ],
          "name": "stdout"
        }
      ]
    },
    {
      "metadata": {
        "id": "fpBXmGFPYoHA",
        "colab_type": "code",
        "outputId": "87275e04-742e-457b-ccd9-475cdb8370ba",
        "colab": {
          "base_uri": "https://localhost:8080/",
          "height": 298
        }
      },
      "cell_type": "code",
      "source": [
        "#OPTIMIZERS\n",
        "#sgd = optimizers.SGD(lr=0.0001)\n",
        "adm = optimizers.Adam(lr=0.0001)\n",
        "#ada = optimizers.Adadelta(lr=0.0001)\n",
        "#rms = optimizers.RMSprop(lr=0.001)\n",
        "\n",
        "#DEFINE 10-FOLD CROSS-VALIDATION\n",
        "kfold = KFold(n_splits=10, shuffle=False)\n",
        "cvscores = []\n",
        "predictions = []\n",
        "tpTot = []\n",
        "tnTot = []\n",
        "\n",
        "dimSplit = math.floor(len(dataset[:,0])/10)\n",
        "startIndex = 0\n",
        "finishIndex = dimSplit-1\n",
        "\n",
        "i = 1\n",
        "\n",
        "for train, test in kfold.split(X, Y):\n",
        "  print(\"\\nFOLD: %d\" %i)\n",
        "  \n",
        "  #COMPUTE CLASS WEIGHT\n",
        "  labels = np.unique(Y[train])\n",
        "  classWeight = compute_class_weight('balanced', labels, Y[train])\n",
        "  classWeight = dict(zip(labels,classWeight))\n",
        "  \n",
        "  #GENERATE MODEL\n",
        "  model = generate_model(X[train].shape[-1])\n",
        "\n",
        "  #COMPILE MODEL\n",
        "  model.compile(loss = 'binary_crossentropy', optimizer = adm , metrics=['accuracy'])\n",
        "  \n",
        "  #EARLY STOPPING\n",
        "  #es = EarlyStopping(monitor='val_acc', min_delta=0, patience=2, verbose=0, mode='auto')\n",
        "  \n",
        "  #FIT MODEL\n",
        "  history = model.fit(X[train], Y[train], epochs=10, batch_size = 128, shuffle = True, verbose=1, class_weight = classWeight) #callbacks = [es])\n",
        "\n",
        "  #EVALUATE MODEL\n",
        "  scores_test = model.evaluate(X[test], Y[test], batch_size= 128, verbose = 1)\n",
        "  print(\"Test loss: %.2f%%\" % (scores_test[0] * 100))\n",
        "  print(\"Test accuracy: %.2f%%\" % (scores_test[1] * 100))\n",
        "  \n",
        "  cvscores.append(scores_test[1] * 100)\n",
        "  \n",
        "  #CALCULATE PREDICTIONS AND SAVE IN A CSV FILE\n",
        "  pred = model.predict_classes(X[test], batch_size=128, verbose=1)\n",
        "  predictions.append([i,pred])\n",
        "  \n",
        "  #LOAD SENSORE DATA\n",
        "  datasetSensor = '/root/data/6_uHoo_featureDataset_Reduced.arff'\n",
        "\n",
        "  with open (datasetSensor, encoding='utf-8') as fs:\n",
        "    dataSensor = arff.load(fs)\n",
        "\n",
        "  dataS = np.array(dataSensor['data'])\n",
        "\n",
        "  #CONVERTING VALUES\n",
        "  for y in dataS:\n",
        "    if(y[-1] == 'Other'): y[-1] = 0\n",
        "    else : y[-1] = 1\n",
        "  \n",
        "  #TEST DATA SENSOR \n",
        "  dataT = dataS[startIndex:finishIndex, :]\n",
        "  startIndex = startIndex + dimSplit\n",
        "  finishIndex = dimSplit + finishIndex\n",
        "\n",
        "  new_rows = []\n",
        "\n",
        "  for x,j,z in zip(dataT, Y[test], pred):\n",
        "    new_dict = {}\n",
        "    new_dict['Temperature'] = x[0]\n",
        "    new_dict['CO2'] =  x[1]\n",
        "    new_dict['Actual'] = j\n",
        "    new_dict['Predicted'] = z\n",
        "\n",
        "    new_rows.append(new_dict)\n",
        "\n",
        "  keys = new_rows[0].keys()\n",
        "  \n",
        "  s = \"/root/data/out{}.csv\".format(i)\n",
        "\n",
        "  with open(s, \"w\", newline='') as o:\n",
        "    w = csv.DictWriter(o, keys)\n",
        "    w.writeheader()\n",
        "    w.writerows(new_rows)\n",
        " \n",
        "  #CONFUSION MATRIX\n",
        "  y_true = Y[test]\n",
        "  y_pred = pred\n",
        "  tn, fp, fn, tp = confusion_matrix(y_true, y_pred).ravel()\n",
        "  print(\"TN\", tn)\n",
        "  print(\"FP\", fp)\n",
        "  print(\"FN\", fn)\n",
        "  print(\"TP\", tp)\n",
        "  other = 100*tn/(tn+fp)\n",
        "  pasto = 100*tp/(fn+tp)\n",
        "  print(\"Other corretti: %.2f %%\" % other)\n",
        "  print(\"Pasto corretti: %.2f %%\" % pasto)\n",
        "  \n",
        "  tpTot.append(pasto)\n",
        "  tnTot.append(other)\n",
        "  \n",
        "  i = i+1\n",
        "\n",
        "print(\"MEAN ACCURACY: %.2f%% (STANDARD DEVIATION: +/- %.2f%%)\" % (np.mean(cvscores), np.std(cvscores)))\n",
        "print(\"MEAN TP: %.2f%% (STANDARD DEVIATION: +/- %.2f%%)\" % (np.mean(tpTot), np.std(tpTot)))\n",
        "print(\"MEAN TN: %.2f%% (STANDARD DEVIATION: +/- %.2f%%)\" % (np.mean(tnTot), np.std(tnTot)))\n"
      ],
      "execution_count": 0,
      "outputs": [
        {
          "output_type": "stream",
          "text": [
            "\n",
            "FOLD: 1\n",
            "Epoch 1/10\n",
            "206937/206937 [==============================] - 20s 98us/step - loss: 0.4550 - acc: 0.7775\n",
            "Epoch 2/10\n",
            "206937/206937 [==============================] - 18s 85us/step - loss: 0.3695 - acc: 0.8332\n",
            "Epoch 3/10\n",
            "206937/206937 [==============================] - 16s 77us/step - loss: 0.3245 - acc: 0.8543\n",
            "Epoch 4/10\n",
            "206937/206937 [==============================] - 16s 78us/step - loss: 0.2938 - acc: 0.8694\n",
            "Epoch 5/10\n",
            "206937/206937 [==============================] - 16s 77us/step - loss: 0.2647 - acc: 0.8832\n",
            "Epoch 6/10\n",
            "206937/206937 [==============================] - 16s 79us/step - loss: 0.2389 - acc: 0.8938\n",
            "Epoch 7/10\n",
            "188032/206937 [==========================>...] - ETA: 1s - loss: 0.2223 - acc: 0.9010"
          ],
          "name": "stdout"
        }
      ]
    },
    {
      "metadata": {
        "id": "gAdSdADmUm5S",
        "colab_type": "code",
        "colab": {}
      },
      "cell_type": "code",
      "source": [
        ""
      ],
      "execution_count": 0,
      "outputs": []
    },
    {
      "metadata": {
        "id": "3_vL2BWwjIgo",
        "colab_type": "code",
        "colab": {}
      },
      "cell_type": "code",
      "source": [
        "#model.save('my_model1_cv.h5')\n",
        "\n",
        "#model = load_model('my_model1_cv.h5')"
      ],
      "execution_count": 0,
      "outputs": []
    }
  ]
}