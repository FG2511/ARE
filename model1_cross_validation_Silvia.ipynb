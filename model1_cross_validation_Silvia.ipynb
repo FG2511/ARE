{
  "nbformat": 4,
  "nbformat_minor": 0,
  "metadata": {
    "colab": {
      "name": "model1_cross_validation.ipynb",
      "version": "0.3.2",
      "provenance": [],
      "collapsed_sections": [],
      "include_colab_link": true
    },
    "kernelspec": {
      "name": "python3",
      "display_name": "Python 3"
    }
  },
  "cells": [
    {
      "cell_type": "markdown",
      "metadata": {
        "id": "view-in-github",
        "colab_type": "text"
      },
      "source": [
        "<a href=\"https://colab.research.google.com/github/FG2511/ARE/blob/master/model1_cross_validation_Silvia.ipynb\" target=\"_parent\"><img src=\"https://colab.research.google.com/assets/colab-badge.svg\" alt=\"Open In Colab\"/></a>"
      ]
    },
    {
      "metadata": {
        "id": "5xC7KT-lYae2",
        "colab_type": "code",
        "outputId": "8e9a9c08-0817-418d-cf62-3a7a21e7eb14",
        "colab": {
          "base_uri": "https://localhost:8080/",
          "height": 175
        }
      },
      "cell_type": "code",
      "source": [
        "'''\n",
        "@File name: model1.ipynb\n",
        "@Created on 2018-12-20\n",
        "@Authors: Federica Gerina, Francesca Moi, Silvia Maria Massa\n",
        "@Description: Given a time-series dataset that contains minute-by-minute data \n",
        "about different kind of gases, collected by the uHoo air quality sensor, train\n",
        "a NN that classifies if a minute belongs to the class \"Pasto\" (1) otherwise to\n",
        "the class \"Other\" (0).\n",
        "'''\n",
        "\n",
        "!pip install liac-arff\n",
        "\n",
        "import arff\n",
        "\n",
        "import numpy as np\n",
        "from numpy import savetxt\n",
        "\n",
        "import pandas as pd\n",
        "from pandas import DataFrame\n",
        "from pandas import read_csv\n",
        "from pandas import concat\n",
        "\n",
        "from keras import optimizers\n",
        "from keras.models import Sequential\n",
        "from keras.models import load_model\n",
        "from keras.layers import Dense, Dropout, LeakyReLU, BatchNormalization\n",
        "from keras.callbacks import EarlyStopping\n",
        "from keras.preprocessing import sequence\n",
        "\n",
        "from sklearn.utils import compute_class_weight\n",
        "from sklearn.model_selection import StratifiedKFold\n",
        "\n",
        "import matplotlib.pyplot as plt\n",
        "from matplotlib.pyplot import legend\n",
        "\n",
        "# fix random seed for reproducibility\n",
        "seed = 7\n",
        "np.random.seed(seed)"
      ],
      "execution_count": 3,
      "outputs": [
        {
          "output_type": "stream",
          "text": [
            "Collecting liac-arff\n",
            "  Downloading https://files.pythonhosted.org/packages/c9/c3/6966861e2f4d302ac3a36821f7ac503b57d98cb9cc3b28e9cd8ef8b7df65/liac-arff-2.3.1.tar.gz\n",
            "Building wheels for collected packages: liac-arff\n",
            "  Running setup.py bdist_wheel for liac-arff ... \u001b[?25l-\b \bdone\n",
            "\u001b[?25h  Stored in directory: /root/.cache/pip/wheels/81/f0/15/97687f0a23a6859a7ced7e09271d321930c6641c2675d04745\n",
            "Successfully built liac-arff\n",
            "Installing collected packages: liac-arff\n",
            "Successfully installed liac-arff-2.3.1\n"
          ],
          "name": "stdout"
        },
        {
          "output_type": "stream",
          "text": [
            "Using TensorFlow backend.\n"
          ],
          "name": "stderr"
        }
      ]
    },
    {
      "metadata": {
        "id": "HWFtL_iIYf25",
        "colab_type": "code",
        "colab": {}
      },
      "cell_type": "code",
      "source": [
        "def generate_model(shape):\n",
        "  \n",
        "  model = Sequential()\n",
        "  model.add(BatchNormalization())\n",
        " \n",
        "  model.add(Dense(113, input_dim=shape, kernel_initializer='random_uniform',  bias_initializer='zeros', activation='relu'))\n",
        "  model.add(Dropout(0.1))\n",
        "  model.add(Dense(76, kernel_initializer='random_uniform',  bias_initializer='zeros', activation='relu'))\n",
        "  model.add(Dropout(0.1))\n",
        "  '''\n",
        "  model.add(Dense(177, kernel_initializer='random_uniform',  bias_initializer='zeros', activation='relu'))\n",
        "  model.add(Dropout(0.1))\n",
        "  model.add(Dense(102, kernel_initializer='random_uniform',  bias_initializer='zeros', activation='relu'))\n",
        "  model.add(Dropout(0.1))\n",
        "  '''\n",
        "  model.add(Dense(1, activation='sigmoid'))\n",
        "  #print(model.summary())\n",
        "\n",
        "  return model"
      ],
      "execution_count": 0,
      "outputs": []
    },
    {
      "metadata": {
        "id": "lUfQeqZVYk7H",
        "colab_type": "code",
        "outputId": "e8d63a45-914c-4f19-ee24-4676ed0317b0",
        "colab": {
          "base_uri": "https://localhost:8080/",
          "height": 255
        }
      },
      "cell_type": "code",
      "source": [
        "#LOAD DATA\n",
        "print(\"Loading data...\")\n",
        "\n",
        "dataset = '/root/data/Half_uHoo_featureDataset.arff'\n",
        "\n",
        "with open (dataset, encoding='utf-8') as f:\n",
        "  dataDictionary = arff.load(f)\n",
        "\n",
        "data = np.array(dataDictionary['data'])\n",
        "print(\"DATASET LOADED\")\n",
        "\n",
        "#CONVERTING VALUES\n",
        "print(\"Converting values...\")\n",
        "for i in data:\n",
        "  if(i[-1] == 'Other'): i[-1] = 0\n",
        "  elif(i[-1] == 'Pasto') : i[-1] = 1\n",
        "\n",
        "dataset = data.astype('float32')\n",
        "print(\"CONVERSION DONE\")\n",
        "\n",
        "#SPLIT INTO INPUT (X) AND OUTPUT (Y) VARIABLES\n",
        "s = dataset.shape[-1]\n",
        "X = dataset[:,0:s-1]\n",
        "Y = dataset[:,s-1]"
      ],
      "execution_count": 5,
      "outputs": [
        {
          "output_type": "stream",
          "text": [
            "Loading data...\n"
          ],
          "name": "stdout"
        },
        {
          "output_type": "error",
          "ename": "FileNotFoundError",
          "evalue": "ignored",
          "traceback": [
            "\u001b[0;31m---------------------------------------------------------------------------\u001b[0m",
            "\u001b[0;31mFileNotFoundError\u001b[0m                         Traceback (most recent call last)",
            "\u001b[0;32m<ipython-input-5-c5dec2b8f49a>\u001b[0m in \u001b[0;36m<module>\u001b[0;34m()\u001b[0m\n\u001b[1;32m      3\u001b[0m \u001b[0mdataset\u001b[0m \u001b[0;34m=\u001b[0m \u001b[0;34m'/root/data/Half_uHoo_featureDataset.arff'\u001b[0m\u001b[0;34m\u001b[0m\u001b[0;34m\u001b[0m\u001b[0m\n\u001b[1;32m      4\u001b[0m \u001b[0;34m\u001b[0m\u001b[0m\n\u001b[0;32m----> 5\u001b[0;31m \u001b[0;32mwith\u001b[0m \u001b[0mopen\u001b[0m \u001b[0;34m(\u001b[0m\u001b[0mdataset\u001b[0m\u001b[0;34m,\u001b[0m \u001b[0mencoding\u001b[0m\u001b[0;34m=\u001b[0m\u001b[0;34m'utf-8'\u001b[0m\u001b[0;34m)\u001b[0m \u001b[0;32mas\u001b[0m \u001b[0mf\u001b[0m\u001b[0;34m:\u001b[0m\u001b[0;34m\u001b[0m\u001b[0;34m\u001b[0m\u001b[0m\n\u001b[0m\u001b[1;32m      6\u001b[0m   \u001b[0mdataDictionary\u001b[0m \u001b[0;34m=\u001b[0m \u001b[0marff\u001b[0m\u001b[0;34m.\u001b[0m\u001b[0mload\u001b[0m\u001b[0;34m(\u001b[0m\u001b[0mf\u001b[0m\u001b[0;34m)\u001b[0m\u001b[0;34m\u001b[0m\u001b[0;34m\u001b[0m\u001b[0m\n\u001b[1;32m      7\u001b[0m \u001b[0;34m\u001b[0m\u001b[0m\n",
            "\u001b[0;31mFileNotFoundError\u001b[0m: [Errno 2] No such file or directory: '/root/data/Half_uHoo_featureDataset.arff'"
          ]
        }
      ]
    },
    {
      "metadata": {
        "id": "fpBXmGFPYoHA",
        "colab_type": "code",
        "outputId": "fa530a03-6798-440c-d827-f0d7e6cdf53b",
        "colab": {
          "base_uri": "https://localhost:8080/",
          "height": 238
        }
      },
      "cell_type": "code",
      "source": [
        "#OPTIMIZERS\n",
        "sgd = optimizers.SGD(lr=0.0001)\n",
        "adm = optimizers.Adam(lr=0.0001)\n",
        "ada = optimizers.Adadelta(lr=0.0001)\n",
        "#rms = optimizers.RMSprop(lr=0.001)\n",
        "\n",
        "#DEFINE 10-FOLD CROSS-VALIDATION\n",
        "kfold = StratifiedKFold(n_splits=10, shuffle=True, random_state=seed)\n",
        "cvscores = []\n",
        "predictions = []\n",
        "\n",
        "i = 1\n",
        "\n",
        "for train, test in kfold.split(X, Y):\n",
        "  \n",
        "  print(\"\\nFOLD: %d\" %i)\n",
        "  #COMPUTE CLASS WEIGHT\n",
        "  labels = np.unique(Y[train])\n",
        "  classWeight = compute_class_weight('balanced', labels, Y[train])\n",
        "  classWeight = dict(zip(labels,classWeight))\n",
        "\n",
        "  #GENERATE MODEL\n",
        "  model = generate_model(X[train].shape[-1])\n",
        "\n",
        "  #COMPILE MODEL\n",
        "  model.compile(loss='binary_crossentropy', optimizer = adm , metrics=['accuracy'])\n",
        "  \n",
        "  #EARLY STOPPING\n",
        "  #es = EarlyStopping(monitor='val_acc', min_delta=0, patience=2, verbose=0, mode='auto')\n",
        "\n",
        "  #FIT MODEL\n",
        "  history = model.fit(X[train], Y[train], epochs=80, validation_split=0.33, batch_size = 128, shuffle = True, verbose=1, class_weight = classWeight)#, callbacks = [es])\n",
        "\n",
        "  #EVALUATE MODEL\n",
        "  scores_test = model.evaluate(X[test], Y[test], batch_size= 128, verbose = 1)\n",
        "  print(\"Test loss: %.2f%%\" % (scores_test[0] * 100))\n",
        "  print(\"Test accuracy: %.2f%%\" % (scores_test[1] * 100))\n",
        "  \n",
        "  cvscores.append(scores_test[1] * 100)\n",
        "  \n",
        "  #CALCULATE PREDICTIONS\n",
        "  pred = model.predict_classes(X[test], batch_size=128, verbose=1)\n",
        "  predictions.append(pred)\n",
        "  \n",
        "  if(i==10): predictions.append(Y[test])\n",
        "  \n",
        "  i+=1\n",
        "\n",
        "print(\"MEAN ACCURACY: %.2f%% (STANDARD DEVIATION: +/- %.2f%%)\" % (np.mean(cvscores), np.std(cvscores)))\n"
      ],
      "execution_count": 2,
      "outputs": [
        {
          "output_type": "error",
          "ename": "NameError",
          "evalue": "ignored",
          "traceback": [
            "\u001b[0;31m---------------------------------------------------------------------------\u001b[0m",
            "\u001b[0;31mNameError\u001b[0m                                 Traceback (most recent call last)",
            "\u001b[0;32m<ipython-input-2-5047eadbef36>\u001b[0m in \u001b[0;36m<module>\u001b[0;34m()\u001b[0m\n\u001b[0;32m----> 1\u001b[0;31m \u001b[0msgd\u001b[0m \u001b[0;34m=\u001b[0m \u001b[0moptimizers\u001b[0m\u001b[0;34m.\u001b[0m\u001b[0mSGD\u001b[0m\u001b[0;34m(\u001b[0m\u001b[0mlr\u001b[0m\u001b[0;34m=\u001b[0m\u001b[0;36m0.0001\u001b[0m\u001b[0;34m)\u001b[0m\u001b[0;34m\u001b[0m\u001b[0;34m\u001b[0m\u001b[0m\n\u001b[0m\u001b[1;32m      2\u001b[0m \u001b[0madm\u001b[0m \u001b[0;34m=\u001b[0m \u001b[0moptimizers\u001b[0m\u001b[0;34m.\u001b[0m\u001b[0mAdam\u001b[0m\u001b[0;34m(\u001b[0m\u001b[0mlr\u001b[0m\u001b[0;34m=\u001b[0m\u001b[0;36m0.0001\u001b[0m\u001b[0;34m)\u001b[0m\u001b[0;34m\u001b[0m\u001b[0;34m\u001b[0m\u001b[0m\n\u001b[1;32m      3\u001b[0m \u001b[0mada\u001b[0m \u001b[0;34m=\u001b[0m \u001b[0moptimizers\u001b[0m\u001b[0;34m.\u001b[0m\u001b[0mAdadelta\u001b[0m\u001b[0;34m(\u001b[0m\u001b[0mlr\u001b[0m\u001b[0;34m=\u001b[0m\u001b[0;36m0.0001\u001b[0m\u001b[0;34m)\u001b[0m\u001b[0;34m\u001b[0m\u001b[0;34m\u001b[0m\u001b[0m\n\u001b[1;32m      4\u001b[0m \u001b[0;31m#rms = optimizers.RMSprop(lr=0.001)\u001b[0m\u001b[0;34m\u001b[0m\u001b[0;34m\u001b[0m\u001b[0;34m\u001b[0m\u001b[0m\n\u001b[1;32m      5\u001b[0m \u001b[0;34m\u001b[0m\u001b[0m\n",
            "\u001b[0;31mNameError\u001b[0m: name 'optimizers' is not defined"
          ]
        }
      ]
    },
    {
      "metadata": {
        "id": "gAdSdADmUm5S",
        "colab_type": "code",
        "colab": {}
      },
      "cell_type": "code",
      "source": [
        ""
      ],
      "execution_count": 0,
      "outputs": []
    },
    {
      "metadata": {
        "id": "3_vL2BWwjIgo",
        "colab_type": "code",
        "colab": {}
      },
      "cell_type": "code",
      "source": [
        "#model.save('my_model1_cv.h5')\n",
        "\n",
        "#model = load_model('my_model1_cv.h5')"
      ],
      "execution_count": 0,
      "outputs": []
    }
  ]
}