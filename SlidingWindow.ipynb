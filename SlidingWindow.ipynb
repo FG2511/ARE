{
  "nbformat": 4,
  "nbformat_minor": 0,
  "metadata": {
    "colab": {
      "name": "Untitled1.ipynb",
      "version": "0.3.2",
      "provenance": [],
      "include_colab_link": true
    },
    "kernelspec": {
      "name": "python3",
      "display_name": "Python 3"
    }
  },
  "cells": [
    {
      "cell_type": "markdown",
      "metadata": {
        "id": "view-in-github",
        "colab_type": "text"
      },
      "source": [
        "<a href=\"https://colab.research.google.com/github/FG2511/ARE/blob/master/SlidingWindow.ipynb\" target=\"_parent\"><img src=\"https://colab.research.google.com/assets/colab-badge.svg\" alt=\"Open In Colab\"/></a>"
      ]
    },
    {
      "metadata": {
        "id": "es1QNeagKwIH",
        "colab_type": "code",
        "colab": {}
      },
      "cell_type": "code",
      "source": [
        "!pip install more-itertools"
      ],
      "execution_count": 0,
      "outputs": []
    },
    {
      "metadata": {
        "id": "OwiVRY71K9_N",
        "colab_type": "code",
        "colab": {}
      },
      "cell_type": "code",
      "source": [
        "import more_itertools\n"
      ],
      "execution_count": 0,
      "outputs": []
    },
    {
      "metadata": {
        "id": "yKmxp8ouKzug",
        "colab_type": "code",
        "colab": {}
      },
      "cell_type": "code",
      "source": [
        "lista = [1,2,3,4,5,6,7,8,9,10,11,12,13,14,15]\n",
        "lista1 = [0,0,0,0,1,0,1,1,1,1,0,1,0,0,0] \n",
        "lista2 = list(more_itertools.windowed(lista1,n=5, step=1))\n",
        "lista3 = lista2"
      ],
      "execution_count": 0,
      "outputs": []
    },
    {
      "metadata": {
        "id": "PBTr0n8bRoG3",
        "colab_type": "code",
        "colab": {
          "base_uri": "https://localhost:8080/",
          "height": 202
        },
        "outputId": "00ac219e-a959-4584-9812-0697a1d621ef"
      },
      "cell_type": "code",
      "source": [
        "lista2\n",
        "\n"
      ],
      "execution_count": 44,
      "outputs": [
        {
          "output_type": "execute_result",
          "data": {
            "text/plain": [
              "[(0, 0, 0, 0, 1),\n",
              " (0, 0, 0, 1, 0),\n",
              " (0, 0, 1, 0, 1),\n",
              " (0, 1, 0, 1, 1),\n",
              " (1, 0, 1, 1, 1),\n",
              " (0, 1, 1, 1, 1),\n",
              " (1, 1, 1, 1, 0),\n",
              " (1, 1, 1, 0, 1),\n",
              " (1, 1, 0, 1, 0),\n",
              " (1, 0, 1, 0, 0),\n",
              " (0, 1, 0, 0, 0)]"
            ]
          },
          "metadata": {
            "tags": []
          },
          "execution_count": 44
        }
      ]
    },
    {
      "metadata": {
        "id": "rCapqHC7SfWX",
        "colab_type": "code",
        "colab": {
          "base_uri": "https://localhost:8080/",
          "height": 548
        },
        "outputId": "00fdb990-1952-41e2-c104-3610ff969cee"
      },
      "cell_type": "code",
      "source": [
        "i = 0 \n",
        "print(len(lista2))\n",
        "\n",
        "while i < len(lista2): \n",
        "  print(\"LISTA: \")\n",
        "  print(lista2[i])\n",
        "  count = 0\n",
        "  c = lista2[i][2]\n",
        "  j=0  \n",
        "  \n",
        "  while j < 5:\n",
        "    if lista2[i][j] == c :\n",
        "      count = count + 1\n",
        "    j = j + 1\n",
        "    \n",
        "  print(\"Minuto centrale\")\n",
        "  print(c)\n",
        "  print(\"N° vicini uguali\")\n",
        "  print(count)\n",
        "  \n",
        "  if count<4 :\n",
        "    if c == 0:\n",
        "      lista3[i][2] = 1\n",
        "    else:\n",
        "      lista3[i][2] = 0\n",
        "    print(\"Outlier\") \n",
        "    print(\"Window nuova: \")\n",
        "    print(lista3[i])\n",
        "  \n",
        "  i = i + 1 \n"
      ],
      "execution_count": 53,
      "outputs": [
        {
          "output_type": "stream",
          "text": [
            "11\n",
            "LISTA: \n",
            "(0, 0, 0, 0, 1)\n",
            "Minuto centrale\n",
            "0\n",
            "N° vicini uguali\n",
            "4\n",
            "LISTA: \n",
            "(0, 0, 0, 1, 0)\n",
            "Minuto centrale\n",
            "0\n",
            "N° vicini uguali\n",
            "4\n",
            "LISTA: \n",
            "(0, 0, 1, 0, 1)\n",
            "Minuto centrale\n",
            "1\n",
            "N° vicini uguali\n",
            "2\n"
          ],
          "name": "stdout"
        },
        {
          "output_type": "error",
          "ename": "TypeError",
          "evalue": "ignored",
          "traceback": [
            "\u001b[0;31m---------------------------------------------------------------------------\u001b[0m",
            "\u001b[0;31mTypeError\u001b[0m                                 Traceback (most recent call last)",
            "\u001b[0;32m<ipython-input-53-f1ebb0882206>\u001b[0m in \u001b[0;36m<module>\u001b[0;34m()\u001b[0m\n\u001b[1;32m     23\u001b[0m       \u001b[0mlista3\u001b[0m\u001b[0;34m[\u001b[0m\u001b[0mi\u001b[0m\u001b[0;34m]\u001b[0m\u001b[0;34m[\u001b[0m\u001b[0;36m2\u001b[0m\u001b[0;34m]\u001b[0m \u001b[0;34m=\u001b[0m \u001b[0;36m1\u001b[0m\u001b[0;34m\u001b[0m\u001b[0;34m\u001b[0m\u001b[0m\n\u001b[1;32m     24\u001b[0m     \u001b[0;32melse\u001b[0m\u001b[0;34m:\u001b[0m\u001b[0;34m\u001b[0m\u001b[0;34m\u001b[0m\u001b[0m\n\u001b[0;32m---> 25\u001b[0;31m       \u001b[0mlista3\u001b[0m\u001b[0;34m[\u001b[0m\u001b[0mi\u001b[0m\u001b[0;34m]\u001b[0m\u001b[0;34m[\u001b[0m\u001b[0;36m2\u001b[0m\u001b[0;34m]\u001b[0m \u001b[0;34m=\u001b[0m \u001b[0;36m0\u001b[0m\u001b[0;34m\u001b[0m\u001b[0;34m\u001b[0m\u001b[0m\n\u001b[0m\u001b[1;32m     26\u001b[0m     \u001b[0mprint\u001b[0m\u001b[0;34m(\u001b[0m\u001b[0;34m\"Outlier\"\u001b[0m\u001b[0;34m)\u001b[0m\u001b[0;34m\u001b[0m\u001b[0;34m\u001b[0m\u001b[0m\n\u001b[1;32m     27\u001b[0m     \u001b[0mprint\u001b[0m\u001b[0;34m(\u001b[0m\u001b[0;34m\"Window nuova: \"\u001b[0m\u001b[0;34m)\u001b[0m\u001b[0;34m\u001b[0m\u001b[0;34m\u001b[0m\u001b[0m\n",
            "\u001b[0;31mTypeError\u001b[0m: 'tuple' object does not support item assignment"
          ]
        }
      ]
    }
  ]
}