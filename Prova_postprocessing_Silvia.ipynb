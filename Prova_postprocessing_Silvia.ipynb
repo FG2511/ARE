{
  "nbformat": 4,
  "nbformat_minor": 0,
  "metadata": {
    "colab": {
      "name": "Untitled0.ipynb",
      "version": "0.3.2",
      "provenance": [],
      "include_colab_link": true
    },
    "kernelspec": {
      "name": "python3",
      "display_name": "Python 3"
    }
  },
  "cells": [
    {
      "cell_type": "markdown",
      "metadata": {
        "id": "view-in-github",
        "colab_type": "text"
      },
      "source": [
        "<a href=\"https://colab.research.google.com/github/FG2511/ARE/blob/master/Prova_postprocessing_Silvia.ipynb\" target=\"_parent\"><img src=\"https://colab.research.google.com/assets/colab-badge.svg\" alt=\"Open In Colab\"/></a>"
      ]
    },
    {
      "metadata": {
        "id": "VBXMx80rpzDo",
        "colab_type": "code",
        "outputId": "af769a32-94a7-46ac-d8c1-b9e5977c694c",
        "colab": {
          "base_uri": "https://localhost:8080/",
          "height": 50
        }
      },
      "cell_type": "code",
      "source": [
        "lista = [0,1,1,0,0,0,1,1,1,1,1,0,0,0,1,1,0,0,0,0,0,1,1,1,1,0,0,1,1,1,0,0]\n",
        "print(lista)\n",
        "\n",
        "passaggio = False\n",
        "count = 1\n",
        "\n",
        "i = 1\n",
        "while i < len(lista):\n",
        "  if lista[i] != lista[i-1]:\n",
        "    passaggio = True\n",
        "    \n",
        "  if passaggio == True:\n",
        "    if count < 3:\n",
        "      \n",
        "      if lista[i-1] == 0:\n",
        "        new = 1\n",
        "      else:\n",
        "        new = 0\n",
        "        \n",
        "      if lista[i-1] == 1:\n",
        "        new = 0\n",
        "      else:\n",
        "        new = 1\n",
        "        \n",
        "      j = 1\n",
        "      while j < count+1:\n",
        "        lista[i-j] = new\n",
        "        j = j+1\n",
        "        \n",
        "    count = 0\n",
        "    passaggio = False\n",
        "  \n",
        "  count = count+1\n",
        "  i = i +1\n",
        "        \n",
        "if count < 3:\n",
        "   \n",
        "  if lista[i-1] == 0:\n",
        "    new = 1\n",
        "  else:\n",
        "    new = 0\n",
        "\n",
        "  if lista[i-1] == 1:\n",
        "    new = 0\n",
        "  else:\n",
        "    new = 1\n",
        "\n",
        "  j = 1\n",
        "  while j < count+1:\n",
        "    lista[i-j] = new\n",
        "    j = j+1\n",
        "    \n",
        "print(lista)        \n",
        "        "
      ],
      "execution_count": 3,
      "outputs": [
        {
          "output_type": "stream",
          "text": [
            "[0, 1, 1, 0, 0, 0, 1, 1, 1, 1, 1, 0, 0, 0, 1, 1, 0, 0, 0, 0, 0, 1, 1, 1, 1, 0, 0, 1, 1, 1, 0, 0]\n",
            "[1, 0, 0, 0, 0, 0, 1, 1, 1, 1, 1, 0, 0, 0, 0, 0, 0, 0, 0, 0, 0, 1, 1, 1, 1, 1, 1, 1, 1, 1, 1, 1]\n"
          ],
          "name": "stdout"
        }
      ]
    }
  ]
}