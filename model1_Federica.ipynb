{
  "nbformat": 4,
  "nbformat_minor": 0,
  "metadata": {
    "colab": {
      "name": "model1.ipynb",
      "version": "0.3.2",
      "provenance": [],
      "include_colab_link": true
    },
    "kernelspec": {
      "name": "python3",
      "display_name": "Python 3"
    }
  },
  "cells": [
    {
      "cell_type": "markdown",
      "metadata": {
        "id": "view-in-github",
        "colab_type": "text"
      },
      "source": [
        "<a href=\"https://colab.research.google.com/github/FG2511/ARE/blob/master/model1_Federica.ipynb\" target=\"_parent\"><img src=\"https://colab.research.google.com/assets/colab-badge.svg\" alt=\"Open In Colab\"/></a>"
      ]
    },
    {
      "metadata": {
        "id": "hu-_5aP7LlL6",
        "colab_type": "code",
        "outputId": "015cbf46-ee9e-4194-9611-0243cc630a33",
        "colab": {
          "base_uri": "https://localhost:8080/",
          "height": 170
        }
      },
      "cell_type": "code",
      "source": [
        "'''\n",
        "@File name: model1.ipynb\n",
        "@Created on 2018-12-20\n",
        "@Authors: Federica Gerina, Francesca Moi, Silvia Maria Massa\n",
        "@Description: Given a time-series dataset that contains minute-by-minute data \n",
        "about different kind of gases, collected by the uHoo air quality sensor, train\n",
        "a NN that classifies if a minute belongs to the class \"Pasto\" (1) otherwise to\n",
        "the class \"Other\" (0).\n",
        "'''\n",
        "\n",
        "!pip install liac-arff\n",
        "\n",
        "import arff\n",
        "import csv\n",
        "\n",
        "import numpy as np\n",
        "from numpy import savetxt\n",
        "\n",
        "import pandas as pd\n",
        "from pandas import DataFrame\n",
        "from pandas import read_csv\n",
        "from pandas import concat\n",
        "\n",
        "from keras import optimizers\n",
        "from keras.models import Sequential\n",
        "from keras.models import load_model\n",
        "from keras.layers import Dense, Dropout, LeakyReLU, BatchNormalization\n",
        "from keras.callbacks import EarlyStopping\n",
        "from keras.preprocessing import sequence\n",
        "\n",
        "from sklearn.utils import compute_class_weight\n",
        "from sklearn.metrics import confusion_matrix\n",
        "\n",
        "import matplotlib.pyplot as plt\n",
        "from matplotlib.pyplot import legend\n",
        "\n",
        "\n",
        "# fix random seed for reproducibility\n",
        "seed = 7\n",
        "np.random.seed(seed)"
      ],
      "execution_count": 0,
      "outputs": [
        {
          "output_type": "stream",
          "text": [
            "Collecting liac-arff\n",
            "  Downloading https://files.pythonhosted.org/packages/c9/c3/6966861e2f4d302ac3a36821f7ac503b57d98cb9cc3b28e9cd8ef8b7df65/liac-arff-2.3.1.tar.gz\n",
            "Building wheels for collected packages: liac-arff\n",
            "  Running setup.py bdist_wheel for liac-arff ... \u001b[?25l-\b \bdone\n",
            "\u001b[?25h  Stored in directory: /root/.cache/pip/wheels/81/f0/15/97687f0a23a6859a7ced7e09271d321930c6641c2675d04745\n",
            "Successfully built liac-arff\n",
            "Installing collected packages: liac-arff\n",
            "Successfully installed liac-arff-2.3.1\n"
          ],
          "name": "stdout"
        },
        {
          "output_type": "stream",
          "text": [
            "Using TensorFlow backend.\n"
          ],
          "name": "stderr"
        }
      ]
    },
    {
      "metadata": {
        "id": "yKvmDiR9NgBO",
        "colab_type": "code",
        "colab": {}
      },
      "cell_type": "code",
      "source": [
        "#layers : 57, 113, 226, 1 (regola: input/2, input, 2*input, 1)\n",
        "#layers : 113, 229, 153, 1 (regola: a= input, b= a*2/3+c, c= b*2/3+1)\n",
        "\n",
        "def generate_model_leaky(shape):\n",
        "  \n",
        "  model = Sequential()\n",
        "  model.add(BatchNormalization())\n",
        "  \n",
        "  model.add(Dense(57, input_dim=shape, kernel_initializer='random_uniform',  use_bias = False))\n",
        "  model.add(BatchNormalization())\n",
        "  model.add(LeakyReLU(alpha = 0.2))\n",
        "  model.add(Dropout(0.5))\n",
        "  \n",
        "  model.add(Dense(113, kernel_initializer='random_uniform',  use_bias = False))\n",
        "  model.add(BatchNormalization())\n",
        "  model.add(LeakyReLU(alpha = 0.2))\n",
        "  model.add(Dropout(0.5))\n",
        "  \n",
        "  model.add(Dense(226, kernel_initializer='random_uniform',  use_bias = False))\n",
        "  model.add(BatchNormalization())\n",
        "  model.add(LeakyReLU(alpha = 0.2))\n",
        "  model.add(Dropout(0.5))\n",
        "  \n",
        "  model.add(Dense(1, activation='sigmoid'))\n",
        "  #print(model.summary())\n",
        "\n",
        "  return model"
      ],
      "execution_count": 0,
      "outputs": []
    },
    {
      "metadata": {
        "id": "GNvDfgeB13JC",
        "colab_type": "code",
        "colab": {}
      },
      "cell_type": "code",
      "source": [
        "#layers : 57, 113, 226, 1 (regola: input/2, input, 2*input, 1)\n",
        "#layers : 113, 229, 153, 1 (regola: a= input, b= a*2/3+c, c= b*2/3+1)\n",
        "\n",
        "def generate_model(shape):\n",
        "  \n",
        "  model = Sequential()\n",
        " \n",
        "  '''model.add(Dense(113, input_dim=shape, kernel_initializer='random_uniform',  bias_initializer='zeros', activation='relu'))'''\n",
        "  model.add(Dense(113, input_dim=shape, kernel_initializer='random_uniform', use_bias = False))\n",
        "  model.add(BatchNormalization())\n",
        "  model.add(Activation('relu'))\n",
        "  model.add(Dropout(0,5))\n",
        "  \n",
        "  '''model.add(Dense(229, kernel_initializer='random_uniform',  bias_initializer='zeros', activation='relu'))'''\n",
        "  model.add(Dense(229, kernel_initializer='random_uniform', use_bias = False))\n",
        "  model.add(BatchNormalization())\n",
        "  model.add(Activation('relu'))\n",
        "  model.add(Dropout(0,5))\n",
        "  \n",
        "  '''model.add(Dense(153, kernel_initializer='random_uniform',  bias_initializer='zeros', activation='relu'))'''\n",
        "  model.add(Dense(153, kernel_initializer='random_uniform', use_bias = False))\n",
        "  model.add(BatchNormalization())\n",
        "  model.add(Activation('relu'))\n",
        "  model.add(Dropout(0,5))\n",
        "  \n",
        "  model.add(Dense(1, activation='sigmoid'))\n",
        "  #print(model.summary())\n",
        "\n",
        "  return model"
      ],
      "execution_count": 0,
      "outputs": []
    },
    {
      "metadata": {
        "colab_type": "code",
        "id": "o99ibbgGHANE",
        "outputId": "dedb1a71-0242-40b1-bc9b-3df335c4d673",
        "colab": {
          "base_uri": "https://localhost:8080/",
          "height": 85
        }
      },
      "cell_type": "code",
      "source": [
        "#LOAD DATA\n",
        "print(\"Loading data...\")\n",
        "\n",
        "dataset = '/root/data/6_uHoo_featureDataset.arff'\n",
        "\n",
        "with open (dataset, encoding='utf-8') as f:\n",
        "  dataDictionary = arff.load(f)\n",
        "\n",
        "data = np.array(dataDictionary['data'])\n",
        "print(\"DATASET LOADED\")\n",
        "\n",
        "#CONVERTING VALUES\n",
        "print(\"Converting values...\")\n",
        "for i in data:\n",
        "  if(i[-1] == 'Other'): i[-1] = 0\n",
        "  elif(i[-1] == 'Pasto') : i[-1] = 1\n",
        "\n",
        "dataset = data.astype('float32')\n",
        "print(\"CONVERSION DONE\")"
      ],
      "execution_count": 0,
      "outputs": [
        {
          "output_type": "stream",
          "text": [
            "Loading data...\n",
            "DATASET LOADED\n",
            "Converting values...\n",
            "CONVERSION DONE\n"
          ],
          "name": "stdout"
        }
      ]
    },
    {
      "metadata": {
        "id": "Uy3_P0wlk_Ln",
        "colab_type": "code",
        "outputId": "97127bcb-06aa-4c1a-83f4-d899cf4910fa",
        "colab": {
          "base_uri": "https://localhost:8080/",
          "height": 34
        }
      },
      "cell_type": "code",
      "source": [
        "'''\n",
        "#NORMALIZATION\n",
        "print(\"Normalizing values...\")\n",
        "mean = dataset[:].mean(axis=0)\n",
        "dataset -= mean\n",
        "std = dataset[:].std(axis=0)\n",
        "dataset /= std\n",
        "print(\"NORMALIZATION DONE\")\n",
        "'''"
      ],
      "execution_count": 0,
      "outputs": [
        {
          "output_type": "execute_result",
          "data": {
            "text/plain": [
              "'\\n#NORMALIZATION\\nprint(\"Normalizing values...\")\\nmean = dataset[:].mean(axis=0)\\ndataset -= mean\\nstd = dataset[:].std(axis=0)\\ndataset /= std\\nprint(\"NORMALIZATION DONE\")\\n'"
            ]
          },
          "metadata": {
            "tags": []
          },
          "execution_count": 5
        }
      ]
    },
    {
      "metadata": {
        "id": "aF18iHepiQUl",
        "colab_type": "code",
        "colab": {}
      },
      "cell_type": "code",
      "source": [
        "#SPLIT INTO INPUT (X) AND OUTPUT (Y) VARIABLES\n",
        "s = dataset.shape[-1]\n",
        "#print(s)\n",
        "X = dataset[:,0:s-1]\n",
        "Y = dataset[:,s-1]\n",
        "\n",
        "#SPLIT INTO TRAINING, VALIDATION AND TEST SETS\n",
        "train_rate = 80\n",
        "val_rate = 10\n",
        "train = round(int((dataset.shape[0]*train_rate)/100))\n",
        "val = round(int((dataset.shape[0]*(train_rate+val_rate))/100))\n",
        "\n",
        "train_data = X[:train]\n",
        "train_label = Y[:train]\n",
        "\n",
        "val_data = X[train+1:val]\n",
        "val_label = Y[train+1:val]\n",
        "\n",
        "test_data = X[val+1:]\n",
        "test_label = Y[val+1:]\n"
      ],
      "execution_count": 0,
      "outputs": []
    },
    {
      "metadata": {
        "id": "tmWltqYbpoTy",
        "colab_type": "code",
        "outputId": "56f87331-5d8b-46a1-ce18-2115918d40ac",
        "colab": {
          "base_uri": "https://localhost:8080/",
          "height": 323
        }
      },
      "cell_type": "code",
      "source": [
        "#COMPUTE CLASS WEIGHT\n",
        "labels = np.unique(train_label)\n",
        "classWeight = compute_class_weight('balanced', labels, train_label)\n",
        "classWeight = dict(zip(labels,classWeight))\n",
        "\n",
        "#GENERATE MODEL\n",
        "model = generate_model_leaky(train_data.shape[-1])\n",
        "#model = generate_model(train_data.shape[-1])\n",
        "\n",
        "#OPTIMIZERS\n",
        "adm = optimizers.Adam(lr=0.0001)\n",
        "\n",
        "#COMPILE MODEL\n",
        "model.compile(loss='binary_crossentropy', optimizer = adm , metrics=['accuracy'])\n",
        "\n",
        "#EARLY STOPPING\n",
        "es = EarlyStopping(monitor='val_loss', min_delta=0, patience=2, verbose=0, mode='auto')\n",
        "\n",
        "#FIT MODEL\n",
        "history = model.fit(train_data, train_label, epochs=30, validation_data = (val_data, val_label), batch_size = 128, shuffle = True, class_weight = classWeight, verbose=1, callbacks = [es])\n",
        "\n",
        "#EVALUATE MODEL\n",
        "scores_test = model.evaluate(test_data, test_label, batch_size=128, verbose = 1)\n",
        "print(\"Test loss: %.2f%%\" % (scores_test[0] * 100))\n",
        "print(\"Test accuracy: %.2f%%\" % (scores_test[1] * 100))\n",
        "\n",
        "#CALCULATE PREDICTIONS AND SAVE IN A CSV FILE\n",
        "pred = model.predict_classes(test_data, batch_size=128, verbose=0)"
      ],
      "execution_count": 0,
      "outputs": [
        {
          "output_type": "stream",
          "text": [
            "Train on 183944 samples, validate on 22992 samples\n",
            "Epoch 1/30\n",
            "183944/183944 [==============================] - 13s 73us/step - loss: 0.6969 - acc: 0.6347 - val_loss: 0.5631 - val_acc: 0.7568\n",
            "Epoch 2/30\n",
            "183944/183944 [==============================] - 12s 65us/step - loss: 0.6098 - acc: 0.7100 - val_loss: 0.5381 - val_acc: 0.7525\n",
            "Epoch 3/30\n",
            "183944/183944 [==============================] - 12s 65us/step - loss: 0.5670 - acc: 0.7327 - val_loss: 0.4590 - val_acc: 0.7985\n",
            "Epoch 4/30\n",
            "183944/183944 [==============================] - 12s 64us/step - loss: 0.5419 - acc: 0.7505 - val_loss: 0.4393 - val_acc: 0.7986\n",
            "Epoch 5/30\n",
            "183944/183944 [==============================] - 12s 64us/step - loss: 0.5187 - acc: 0.7507 - val_loss: 0.4336 - val_acc: 0.8034\n",
            "Epoch 6/30\n",
            "183944/183944 [==============================] - 12s 65us/step - loss: 0.5038 - acc: 0.7635 - val_loss: 0.4535 - val_acc: 0.7933\n",
            "Epoch 7/30\n",
            "183944/183944 [==============================] - 12s 64us/step - loss: 0.4950 - acc: 0.7663 - val_loss: 0.4430 - val_acc: 0.7980\n",
            "22992/22992 [==============================] - 0s 20us/step\n",
            "Test loss: 51.72%\n",
            "Test accuracy: 75.94%\n"
          ],
          "name": "stdout"
        }
      ]
    },
    {
      "metadata": {
        "id": "QgXlzrttjodr",
        "colab_type": "code",
        "outputId": "3497caa4-a05b-4841-98a6-7d07917f67ee",
        "colab": {
          "base_uri": "https://localhost:8080/",
          "height": 119
        }
      },
      "cell_type": "code",
      "source": [
        "#CONFUSION MATRIX\n",
        "y_true = test_label\n",
        "y_pred = pred\n",
        "tn, fp, fn, tp = confusion_matrix(y_true, y_pred).ravel()\n",
        "print(\"TN\", tn)\n",
        "print(\"FP\", fp)\n",
        "print(\"FN\", fn)\n",
        "print(\"TP\", tp)\n",
        "other = 100*tn/(tn+fp)\n",
        "pasto = 100*tp/(fn+tp)\n",
        "print(\"Other corretti: %.2f %%\" % other)\n",
        "print(\"Pasto corretti: %.2f %%\" % pasto)"
      ],
      "execution_count": 0,
      "outputs": [
        {
          "output_type": "stream",
          "text": [
            "TN 17084\n",
            "FP 5100\n",
            "FN 433\n",
            "TP 375\n",
            "Other corretti: 77.01 %\n",
            "Pasto corretti: 46.41 %\n"
          ],
          "name": "stdout"
        }
      ]
    },
    {
      "metadata": {
        "id": "C5L-xXizgnw5",
        "colab_type": "code",
        "colab": {}
      },
      "cell_type": "code",
      "source": [
        "#model.save('my_model1.h5')\n",
        "#model = load_model('my_model.h5')"
      ],
      "execution_count": 0,
      "outputs": []
    },
    {
      "metadata": {
        "id": "FdMyVCwGXyfF",
        "colab_type": "code",
        "outputId": "286752dd-ed3d-4eba-f666-8b50355d6bf4",
        "colab": {
          "base_uri": "https://localhost:8080/",
          "height": 735
        }
      },
      "cell_type": "code",
      "source": [
        "#PLOT RESULTS\n",
        "\n",
        "# summarize history for accuracy\n",
        "plt.plot(history.history['acc'])\n",
        "plt.plot(history.history['val_acc'])\n",
        "plt.title('model accuracy')\n",
        "plt.ylabel('accuracy')\n",
        "plt.xlabel('epoch')\n",
        "plt.legend(['train', 'test'], loc='upper left')\n",
        "plt.show()\n",
        "\n",
        "# summarize history for loss\n",
        "plt.plot(history.history['loss'])\n",
        "plt.plot(history.history['val_loss'])\n",
        "plt.title('model loss')\n",
        "plt.ylabel('loss')\n",
        "plt.xlabel('epoch')\n",
        "plt.legend(['train', 'test'], loc='upper left')\n",
        "plt.show()\n"
      ],
      "execution_count": 0,
      "outputs": [
        {
          "output_type": "display_data",
          "data": {
            "image/png": "[encoded data removed]",
            "text/plain": [
              "<matplotlib.figure.Figure at 0x7fd9dac37f98>"
            ]
          },
          "metadata": {
            "tags": []
          }
        },
        {
          "output_type": "display_data",
          "data": {
            "image/png": "[encoded data removed]",
            "text/plain": [
              "<matplotlib.figure.Figure at 0x7fd9d5c87198>"
            ]
          },
          "metadata": {
            "tags": []
          }
        }
      ]
    },
    {
      "metadata": {
        "id": "j2O-yJA8EJfQ",
        "colab_type": "code",
        "colab": {}
      },
      "cell_type": "code",
      "source": [
        "#LOAD SENSORE DATA\n",
        "datasetSensor = '/root/data/6_uHoo_featureDataset_Reduced.arff'\n",
        "\n",
        "with open (datasetSensor, encoding='utf-8') as fs:\n",
        "  dataSensor = arff.load(fs)\n",
        "\n",
        "dataS = np.array(dataSensor['data'])\n",
        "\n",
        "#CONVERTING VALUES\n",
        "for i in dataS:\n",
        "  if(i[-1] == 'Other'): i[-1] = 0\n",
        "  else : i[-1] = 1\n",
        "\n",
        "#TEST DATA SENSOR \n",
        "dataT = dataS[val+1:]\n",
        "\n",
        "new_rows = []\n",
        "\n",
        "for i,j,z in zip(dataT, test_label, pred):\n",
        "  new_dict = {}\n",
        "  new_dict['Temperature'] = i[0]\n",
        "  new_dict['CO2'] =  i[1]\n",
        "  new_dict['Actual'] = j\n",
        "  new_dict['Predicted'] = z\n",
        "\n",
        "  new_rows.append(new_dict)\n",
        "\n",
        "keys = new_rows[0].keys()\n",
        "\n",
        "\n",
        "with open(\"/root/data/out.csv\", \"w\", newline='') as o:\n",
        "  w = csv.DictWriter(o, keys)\n",
        "  w.writeheader()\n",
        "  w.writerows(new_rows)\n"
      ],
      "execution_count": 0,
      "outputs": []
    }
  ]
}