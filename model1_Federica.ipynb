{
  "nbformat": 4,
  "nbformat_minor": 0,
  "metadata": {
    "colab": {
      "name": "model1.ipynb",
      "version": "0.3.2",
      "provenance": [],
      "include_colab_link": true
    },
    "kernelspec": {
      "name": "python3",
      "display_name": "Python 3"
    }
  },
  "cells": [
    {
      "cell_type": "markdown",
      "metadata": {
        "id": "view-in-github",
        "colab_type": "text"
      },
      "source": [
        "<a href=\"https://colab.research.google.com/github/FG2511/ARE/blob/master/model1_Federica.ipynb\" target=\"_parent\"><img src=\"https://colab.research.google.com/assets/colab-badge.svg\" alt=\"Open In Colab\"/></a>"
      ]
    },
    {
      "metadata": {
        "id": "hu-_5aP7LlL6",
        "colab_type": "code",
        "outputId": "c30d5c7e-5bcd-4f56-93ff-af524f3d30fa",
        "colab": {
          "base_uri": "https://localhost:8080/",
          "height": 34
        }
      },
      "cell_type": "code",
      "source": [
        "'''\n",
        "@File name: model1.ipynb\n",
        "@Created on 2018-12-20\n",
        "@Authors: Federica Gerina, Francesca Moi, Silvia Maria Massa\n",
        "@Description: Given a time-series dataset that contains minute-by-minute data \n",
        "about different kind of gases, collected by the uHoo air quality sensor, train\n",
        "a NN that classifies if a minute belongs to the class \"Pasto\" (1) otherwise to\n",
        "the class \"Other\" (0).\n",
        "'''\n",
        "\n",
        "!pip install liac-arff\n",
        "\n",
        "import arff\n",
        "import csv\n",
        "\n",
        "import numpy as np\n",
        "from numpy import savetxt\n",
        "\n",
        "import pandas as pd\n",
        "from pandas import DataFrame\n",
        "from pandas import read_csv\n",
        "from pandas import concat\n",
        "\n",
        "from keras import optimizers\n",
        "from keras.models import Sequential\n",
        "from keras.models import load_model\n",
        "from keras.layers import Dense, Dropout, LeakyReLU, BatchNormalization, Activation\n",
        "from keras.callbacks import EarlyStopping\n",
        "from keras.preprocessing import sequence\n",
        "\n",
        "from sklearn.utils import compute_class_weight\n",
        "from sklearn.metrics import confusion_matrix\n",
        "\n",
        "import matplotlib.pyplot as plt\n",
        "from matplotlib.pyplot import legend\n",
        "\n",
        "\n",
        "# fix random seed for reproducibility\n",
        "seed = 7\n",
        "np.random.seed(seed)"
      ],
      "execution_count": 121,
      "outputs": [
        {
          "output_type": "stream",
          "text": [
            "Requirement already satisfied: liac-arff in /usr/local/lib/python3.6/dist-packages (2.3.1)\n"
          ],
          "name": "stdout"
        }
      ]
    },
    {
      "metadata": {
        "id": "yKvmDiR9NgBO",
        "colab_type": "code",
        "colab": {}
      },
      "cell_type": "code",
      "source": [
        "#layers : 57, 113, 226, 1 (regola: input/2, input, 2*input, 1)\n",
        "#layers : 113, 229, 153, 1 (regola: a= input, b= a*2/3+c, c= b*2/3+1)\n",
        "\n",
        "def generate_model_leaky(shape):\n",
        "  \n",
        "  model = Sequential()\n",
        "  model.add(BatchNormalization())\n",
        "  \n",
        "  model.add(Dense(113, input_dim=shape, kernel_initializer='random_uniform',  use_bias = False))\n",
        "  model.add(BatchNormalization())\n",
        "  model.add(LeakyReLU(alpha = 0.2))\n",
        "  model.add(Dropout(0.5))\n",
        "  \n",
        "  model.add(Dense(226, kernel_initializer='random_uniform',  use_bias = False))\n",
        "  model.add(BatchNormalization())\n",
        "  model.add(LeakyReLU(alpha = 0.2))\n",
        "  model.add(Dropout(0.5))\n",
        "  '''\n",
        "  model.add(Dense(226, kernel_initializer='random_uniform',  use_bias = False))\n",
        "  model.add(BatchNormalization())\n",
        "  model.add(LeakyReLU(alpha = 0.2))\n",
        "  model.add(Dropout(0.5))\n",
        "  '''\n",
        "  model.add(Dense(1, activation='sigmoid'))\n",
        "  #print(model.summary())\n",
        "\n",
        "  return model"
      ],
      "execution_count": 0,
      "outputs": []
    },
    {
      "metadata": {
        "id": "GNvDfgeB13JC",
        "colab_type": "code",
        "colab": {}
      },
      "cell_type": "code",
      "source": [
        "#layers : 57, 113, 226, 1 (regola: input/2, input, 2*input, 1)\n",
        "#layers : 113, 229, 153, 1 (regola: a= input, b= a*2/3+c, c= b*2/3+1)\n",
        "\n",
        "def generate_model(shape):\n",
        "  \n",
        "  model = Sequential()\n",
        "  \n",
        "  model.add(BatchNormalization())\n",
        " \n",
        "  '''model.add(Dense(113, input_dim=shape, kernel_initializer='random_uniform',  bias_initializer='zeros', activation='relu'))'''\n",
        "  model.add(Dense(113, input_dim=shape, kernel_initializer='random_uniform', use_bias = False))\n",
        "  model.add(BatchNormalization())\n",
        "  model.add(Activation('relu'))\n",
        "  model.add(Dropout(0,5))\n",
        "  \n",
        "  '''model.add(Dense(229, kernel_initializer='random_uniform',  bias_initializer='zeros', activation='relu'))'''\n",
        "  model.add(Dense(57, kernel_initializer='random_uniform', use_bias = False))\n",
        "  model.add(BatchNormalization())\n",
        "  model.add(Activation('relu'))\n",
        "  model.add(Dropout(0,5))\n",
        "  \n",
        "  '''model.add(Dense(153, kernel_initializer='random_uniform',  bias_initializer='zeros', activation='relu'))'''\n",
        "  '''\n",
        "  model.add(Dense(153, kernel_initializer='random_uniform', use_bias = False))\n",
        "  model.add(BatchNormalization())\n",
        "  model.add(Activation('relu'))\n",
        "  model.add(Dropout(0,5))\n",
        " '''\n",
        "  model.add(Dense(1, activation='sigmoid'))\n",
        "  #print(model.summary())\n",
        "\n",
        "  return model"
      ],
      "execution_count": 0,
      "outputs": []
    },
    {
      "metadata": {
        "colab_type": "code",
        "id": "o99ibbgGHANE",
        "outputId": "bc2e4d29-7cb1-4169-d6c7-aa9209b94b78",
        "colab": {
          "base_uri": "https://localhost:8080/",
          "height": 85
        }
      },
      "cell_type": "code",
      "source": [
        "#LOAD DATA\n",
        "print(\"Loading data...\")\n",
        "\n",
        "dataset = '/root/data/6_uHoo_featureDataset.arff'\n",
        "\n",
        "with open (dataset, encoding='utf-8') as f:\n",
        "  dataDictionary = arff.load(f)\n",
        "\n",
        "data = np.array(dataDictionary['data'])\n",
        "print(\"DATASET LOADED\")\n",
        "\n",
        "#CONVERTING VALUES\n",
        "print(\"Converting values...\")\n",
        "for i in data:\n",
        "  if(i[-1] == 'Other'): i[-1] = 0\n",
        "  elif(i[-1] == 'Pasto') : i[-1] = 1\n",
        "\n",
        "dataset = data.astype('float32')\n",
        "print(\"CONVERSION DONE\")"
      ],
      "execution_count": 124,
      "outputs": [
        {
          "output_type": "stream",
          "text": [
            "Loading data...\n",
            "DATASET LOADED\n",
            "Converting values...\n",
            "CONVERSION DONE\n"
          ],
          "name": "stdout"
        }
      ]
    },
    {
      "metadata": {
        "id": "Uy3_P0wlk_Ln",
        "colab_type": "code",
        "outputId": "220392f0-1cb1-49d0-b48c-89d8a60cf935",
        "colab": {
          "base_uri": "https://localhost:8080/",
          "height": 34
        }
      },
      "cell_type": "code",
      "source": [
        "'''\n",
        "#NORMALIZATION\n",
        "print(\"Normalizing values...\")\n",
        "mean = dataset[:].mean(axis=0)\n",
        "dataset -= mean\n",
        "std = dataset[:].std(axis=0)\n",
        "dataset /= std\n",
        "print(\"NORMALIZATION DONE\")\n",
        "'''"
      ],
      "execution_count": 125,
      "outputs": [
        {
          "output_type": "execute_result",
          "data": {
            "text/plain": [
              "'\\n#NORMALIZATION\\nprint(\"Normalizing values...\")\\nmean = dataset[:].mean(axis=0)\\ndataset -= mean\\nstd = dataset[:].std(axis=0)\\ndataset /= std\\nprint(\"NORMALIZATION DONE\")\\n'"
            ]
          },
          "metadata": {
            "tags": []
          },
          "execution_count": 125
        }
      ]
    },
    {
      "metadata": {
        "id": "aF18iHepiQUl",
        "colab_type": "code",
        "colab": {}
      },
      "cell_type": "code",
      "source": [
        "#SPLIT INTO INPUT (X) AND OUTPUT (Y) VARIABLES\n",
        "s = dataset.shape[-1]\n",
        "#print(s)\n",
        "X = dataset[:,0:s-1]\n",
        "Y = dataset[:,s-1]\n",
        "\n",
        "#SPLIT INTO TRAINING, VALIDATION AND TEST SETS\n",
        "train_rate = 80\n",
        "val_rate = 10\n",
        "train = round(int((dataset.shape[0]*train_rate)/100))\n",
        "val = round(int((dataset.shape[0]*(train_rate+val_rate))/100))\n",
        "\n",
        "train_data = X[:train]\n",
        "train_label = Y[:train]\n",
        "\n",
        "val_data = X[train+1:val]\n",
        "val_label = Y[train+1:val]\n",
        "\n",
        "test_data = X[val+1:]\n",
        "test_label = Y[val+1:]\n"
      ],
      "execution_count": 0,
      "outputs": []
    },
    {
      "metadata": {
        "id": "HCE4DMy02_n0",
        "colab_type": "code",
        "outputId": "c1170e81-0e1f-4b32-fa2e-234c0241f5f1",
        "colab": {
          "base_uri": "https://localhost:8080/",
          "height": 51
        }
      },
      "cell_type": "code",
      "source": [
        "print(val+1)\n",
        "print(len(test_data))"
      ],
      "execution_count": 127,
      "outputs": [
        {
          "output_type": "stream",
          "text": [
            "206938\n",
            "22992\n"
          ],
          "name": "stdout"
        }
      ]
    },
    {
      "metadata": {
        "id": "tmWltqYbpoTy",
        "colab_type": "code",
        "outputId": "2651add1-4d58-472c-a9ac-f55432406901",
        "colab": {
          "base_uri": "https://localhost:8080/",
          "height": 289
        }
      },
      "cell_type": "code",
      "source": [
        "#COMPUTE CLASS WEIGHT\n",
        "labels = np.unique(train_label)\n",
        "classWeight = compute_class_weight('balanced', labels, train_label)\n",
        "classWeight = dict(zip(labels,classWeight))\n",
        "\n",
        "#GENERATE MODEL\n",
        "model = generate_model_leaky(train_data.shape[-1])\n",
        "#model = generate_model(train_data.shape[-1])\n",
        "\n",
        "#OPTIMIZERS\n",
        "adm = optimizers.Adam(lr=0.0001)\n",
        "\n",
        "#COMPILE MODEL\n",
        "model.compile(loss='binary_crossentropy', optimizer = adm , metrics=['accuracy'])\n",
        "\n",
        "#EARLY STOPPING\n",
        "es = EarlyStopping(monitor='val_loss', min_delta=0, patience=2, verbose=0, mode='auto')\n",
        "\n",
        "#FIT MODEL\n",
        "history = model.fit(train_data, train_label, epochs=10, validation_data = (val_data, val_label), batch_size = 128, shuffle = True, class_weight = classWeight, verbose=1, callbacks = [es])\n",
        "\n",
        "#EVALUATE MODEL\n",
        "scores_test = model.evaluate(test_data, test_label, batch_size=128, verbose = 1)\n",
        "print(\"Test loss: %.2f%%\" % (scores_test[0] * 100))\n",
        "print(\"Test accuracy: %.2f%%\" % (scores_test[1] * 100))\n",
        "\n",
        "#CALCULATE PREDICTIONS AND SAVE IN A CSV FILE\n",
        "pred = model.predict_classes(test_data, batch_size=128, verbose=0)"
      ],
      "execution_count": 128,
      "outputs": [
        {
          "output_type": "stream",
          "text": [
            "Train on 183944 samples, validate on 22992 samples\n",
            "Epoch 1/10\n",
            "183944/183944 [==============================] - 16s 86us/step - loss: 0.4841 - acc: 0.7701 - val_loss: 0.3934 - val_acc: 0.8730\n",
            "Epoch 2/10\n",
            "183944/183944 [==============================] - 13s 69us/step - loss: 0.3916 - acc: 0.8438 - val_loss: 0.3429 - val_acc: 0.8773\n",
            "Epoch 3/10\n",
            "183944/183944 [==============================] - 13s 68us/step - loss: 0.3616 - acc: 0.8522 - val_loss: 0.3131 - val_acc: 0.8838\n",
            "Epoch 4/10\n",
            "183944/183944 [==============================] - 13s 70us/step - loss: 0.3440 - acc: 0.8562 - val_loss: 0.2835 - val_acc: 0.8856\n",
            "Epoch 5/10\n",
            "183944/183944 [==============================] - 13s 69us/step - loss: 0.3339 - acc: 0.8589 - val_loss: 0.3061 - val_acc: 0.8702\n",
            "Epoch 6/10\n",
            "183944/183944 [==============================] - 13s 69us/step - loss: 0.3244 - acc: 0.8591 - val_loss: 0.3123 - val_acc: 0.8609\n",
            "22992/22992 [==============================] - 1s 26us/step\n",
            "Test loss: 33.54%\n",
            "Test accuracy: 86.49%\n"
          ],
          "name": "stdout"
        }
      ]
    },
    {
      "metadata": {
        "id": "QgXlzrttjodr",
        "colab_type": "code",
        "outputId": "4a3e7cfc-7e55-4df1-b580-5dd852b7fe1d",
        "colab": {
          "base_uri": "https://localhost:8080/",
          "height": 119
        }
      },
      "cell_type": "code",
      "source": [
        "#CONFUSION MATRIX\n",
        "y_true = test_label\n",
        "y_pred = pred\n",
        "tn, fp, fn, tp = confusion_matrix(y_true, y_pred).ravel()\n",
        "print(\"TN\", tn)\n",
        "print(\"FP\", fp)\n",
        "print(\"FN\", fn)\n",
        "print(\"TP\", tp)\n",
        "other = 100*tn/(tn+fp)\n",
        "pasto = 100*tp/(fn+tp)\n",
        "print(\"Other corretti: %.2f %%\" % other)\n",
        "print(\"Pasto corretti: %.2f %%\" % pasto)"
      ],
      "execution_count": 129,
      "outputs": [
        {
          "output_type": "stream",
          "text": [
            "TN 19554\n",
            "FP 2637\n",
            "FN 470\n",
            "TP 331\n",
            "Other corretti: 88.12 %\n",
            "Pasto corretti: 41.32 %\n"
          ],
          "name": "stdout"
        }
      ]
    },
    {
      "metadata": {
        "id": "C5L-xXizgnw5",
        "colab_type": "code",
        "colab": {}
      },
      "cell_type": "code",
      "source": [
        "#model.save('my_model1.h5')\n",
        "#model = load_model('my_model.h5')"
      ],
      "execution_count": 0,
      "outputs": []
    },
    {
      "metadata": {
        "id": "FdMyVCwGXyfF",
        "colab_type": "code",
        "outputId": "3d90a462-1d3d-4c0f-e06a-3cffe7596e61",
        "colab": {
          "base_uri": "https://localhost:8080/",
          "height": 735
        }
      },
      "cell_type": "code",
      "source": [
        "#PLOT RESULTS\n",
        "\n",
        "# summarize history for accuracy\n",
        "plt.plot(history.history['acc'])\n",
        "plt.plot(history.history['val_acc'])\n",
        "plt.title('model accuracy')\n",
        "plt.ylabel('accuracy')\n",
        "plt.xlabel('epoch')\n",
        "plt.legend(['train', 'test'], loc='upper left')\n",
        "plt.show()\n",
        "\n",
        "# summarize history for loss\n",
        "plt.plot(history.history['loss'])\n",
        "plt.plot(history.history['val_loss'])\n",
        "plt.title('model loss')\n",
        "plt.ylabel('loss')\n",
        "plt.xlabel('epoch')\n",
        "plt.legend(['train', 'test'], loc='upper left')\n",
        "plt.show()\n"
      ],
      "execution_count": 131,
      "outputs": [
        {
          "output_type": "display_data",
          "data": {
            "image/png": "[encoded data removed]",
            "text/plain": [
              "<Figure size 576x396 with 1 Axes>"
            ]
          },
          "metadata": {
            "tags": []
          }
        },
        {
          "output_type": "display_data",
          "data": {
            "image/png": "[encoded data removed]",
            "text/plain": [
              "<Figure size 576x396 with 1 Axes>"
            ]
          },
          "metadata": {
            "tags": []
          }
        }
      ]
    },
    {
      "metadata": {
        "id": "j2O-yJA8EJfQ",
        "colab_type": "code",
        "outputId": "02ad8e39-ff1f-49f1-d0b4-e620eb3249a0",
        "colab": {
          "base_uri": "https://localhost:8080/",
          "height": 54
        }
      },
      "cell_type": "code",
      "source": [
        "#LOAD SENSORE DATA\n",
        "datasetSensor = '/root/data/6_uHoo_featureDataset_Reduced.arff'\n",
        "\n",
        "with open (datasetSensor, encoding='utf-8') as fs:\n",
        "  dataSensor = arff.load(fs)\n",
        "\n",
        "dataS = np.array(dataSensor['data'])\n",
        "\n",
        "#CONVERTING VALUES\n",
        "for i in dataS:\n",
        "  if(i[-1] == 'Other'): i[-1] = 0\n",
        "  else : i[-1] = 1\n",
        "\n",
        "#TEST DATA SENSOR \n",
        "dataT = dataS[val+1:]\n",
        "\n",
        "new_rows = []\n",
        "'''\n",
        "for i,j,z in zip(dataT, test_label, pred):\n",
        "  new_dict = {}\n",
        "  new_dict['Datetime'] = i[2]\n",
        "  new_dict['Temperature'] = i[0]\n",
        "  new_dict['CO2'] =  i[1]\n",
        "  new_dict['Actual'] = j\n",
        "  new_dict['Predicted'] = z\n",
        "\n",
        "  new_rows.append(new_dict)\n",
        "\n",
        "'''\n",
        "\n",
        "for i,z in zip(dataT, pred):\n",
        "  new_dict = {}\n",
        "  new_dict['Datetime'] = i[2]\n",
        "  new_dict['Temperature'] = i[0]\n",
        "  new_dict['CO2'] =  i[1]\n",
        "  new_dict['Actual'] = i[-1]\n",
        "  new_dict['Predicted'] = z\n",
        "\n",
        "  new_rows.append(new_dict)\n",
        "\n",
        "\n",
        "keys = new_rows[0].keys()\n",
        "\n",
        "\n",
        "with open(\"/root/data/out.csv\", \"w\", newline='') as o:\n",
        "  w = csv.DictWriter(o, keys)\n",
        "  w.writeheader()\n",
        "  w.writerows(new_rows)\n",
        "  \n",
        "\n",
        "j=0\n",
        "mis_pasto = []\n",
        "mis_other = []\n",
        "\n",
        "for i in new_rows:\n",
        "    if(i['Actual'] == 1 and i['Predicted'] == 0):\n",
        "            mis_pasto.append(j)\n",
        "    elif(i['Actual'] == 0 and i['Predicted'] == 1):\n",
        "            mis_other.append(j)\n",
        "    j+=1\n",
        "\n",
        "'''\n",
        "plt.figure(1)\n",
        "plt.title('Temperature / Misclassified Pasto')\n",
        "plt.plot([data['Temperature'] for data in new_rows],'g',linewidth=1, marker='8', markersize=5, markerfacecolor='red',markevery=mis_pasto)\n",
        "plt.draw()\n",
        "plt.savefig('/root/data/Temperature_Misclassified Pasto.svg')\n",
        "\n",
        "plt.figure(2)\n",
        "plt.title('Temperature / Misclassified Other')\n",
        "plt.plot([data['Temperature'] for data in new_rows],'g',linewidth=1,marker='8', markersize=5, markerfacecolor='black',markevery=mis_other)\n",
        "plt.draw()\n",
        "plt.savefig('/root/data/Temperature_Misclassified Other.svg')\n",
        "\n",
        "plt.figure(3)\n",
        "plt.title('CO2 / Misclassified Pasto')\n",
        "plt.plot([data['CO2'] for data in new_rows],'b',linewidth=1, marker='8', markersize=5, markerfacecolor='red',markevery=mis_pasto)\n",
        "plt.draw()\n",
        "plt.savefig('/root/data/CO2_Misclassified Pasto.svg')\n",
        "\n",
        "plt.figure(4)\n",
        "plt.title('CO2 / Misclassified Other')\n",
        "plt.plot([data['CO2'] for data in new_rows],'b',linewidth=1,marker='8', markersize=5, markerfacecolor='black',markevery=mis_other)\n",
        "plt.draw()\n",
        "plt.savefig('/root/data/CO2_Misclassified Other.svg')\n",
        "\n",
        "plt.show()\n",
        "'''\n"
      ],
      "execution_count": 132,
      "outputs": [
        {
          "output_type": "execute_result",
          "data": {
            "text/plain": [
              "\"\\nplt.figure(1)\\nplt.title('Temperature / Misclassified Pasto')\\nplt.plot([data['Temperature'] for data in new_rows],'g',linewidth=1, marker='8', markersize=5, markerfacecolor='red',markevery=mis_pasto)\\nplt.draw()\\nplt.savefig('/root/data/Temperature_Misclassified Pasto.svg')\\n\\nplt.figure(2)\\nplt.title('Temperature / Misclassified Other')\\nplt.plot([data['Temperature'] for data in new_rows],'g',linewidth=1,marker='8', markersize=5, markerfacecolor='black',markevery=mis_other)\\nplt.draw()\\nplt.savefig('/root/data/Temperature_Misclassified Other.svg')\\n\\nplt.figure(3)\\nplt.title('CO2 / Misclassified Pasto')\\nplt.plot([data['CO2'] for data in new_rows],'b',linewidth=1, marker='8', markersize=5, markerfacecolor='red',markevery=mis_pasto)\\nplt.draw()\\nplt.savefig('/root/data/CO2_Misclassified Pasto.svg')\\n\\nplt.figure(4)\\nplt.title('CO2 / Misclassified Other')\\nplt.plot([data['CO2'] for data in new_rows],'b',linewidth=1,marker='8', markersize=5, markerfacecolor='black',markevery=mis_other)\\nplt.draw()\\nplt.savefig('/root/data/CO2_Misclassified Other.svg')\\n\\nplt.show()\\n\""
            ]
          },
          "metadata": {
            "tags": []
          },
          "execution_count": 132
        }
      ]
    }
  ]
}