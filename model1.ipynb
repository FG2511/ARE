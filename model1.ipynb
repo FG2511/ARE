{
  "nbformat": 4,
  "nbformat_minor": 0,
  "metadata": {
    "colab": {
      "name": "model1.ipynb",
      "version": "0.3.2",
      "provenance": [],
      "include_colab_link": true
    },
    "kernelspec": {
      "name": "python3",
      "display_name": "Python 3"
    }
  },
  "cells": [
    {
      "cell_type": "markdown",
      "metadata": {
        "id": "view-in-github",
        "colab_type": "text"
      },
      "source": [
        "<a href=\"https://colab.research.google.com/github/FG2511/ARE/blob/master/model1.ipynb\" target=\"_parent\"><img src=\"https://colab.research.google.com/assets/colab-badge.svg\" alt=\"Open In Colab\"/></a>"
      ]
    },
    {
      "metadata": {
        "id": "hu-_5aP7LlL6",
        "colab_type": "code",
        "outputId": "ed4e4e64-f242-4849-e1a9-b477871ff0ee",
        "colab": {
          "base_uri": "https://localhost:8080/",
          "height": 35
        }
      },
      "cell_type": "code",
      "source": [
        "'''\n",
        "@File name: model1.ipynb\n",
        "@Created on 2018-12-20\n",
        "@Authors: Federica Gerina, Francesca Moi, Silvia Maria Massa\n",
        "@Description: Given a time-series dataset that contains minute-by-minute data \n",
        "about different kind of gases, collected by the uHoo air quality sensor, train\n",
        "a NN that classifies if a minute belongs to the class \"Pasto\" (1) otherwise to\n",
        "the class \"Other\" (0).\n",
        "'''\n",
        "\n",
        "!pip install liac-arff\n",
        "\n",
        "import arff\n",
        "import numpy as np\n",
        "import matplotlib.pyplot as plt\n",
        "from matplotlib.pyplot import legend\n",
        "from pandas import DataFrame\n",
        "from pandas import read_csv\n",
        "from pandas import concat\n",
        "from keras.models import Sequential\n",
        "from keras.layers import Dense, Dropout, LeakyReLU\n",
        "from keras.preprocessing import sequence\n",
        "from keras import optimizers\n",
        "from sklearn.utils import compute_class_weight\n",
        "from keras.models import load_model\n",
        "\n",
        "# fix random seed for reproducibility\n",
        "seed = 7\n",
        "np.random.seed(seed)"
      ],
      "execution_count": 0,
      "outputs": [
        {
          "output_type": "stream",
          "text": [
            "Requirement already satisfied: liac-arff in /usr/local/lib/python3.6/dist-packages (2.3.1)\n"
          ],
          "name": "stdout"
        }
      ]
    },
    {
      "metadata": {
        "id": "yKvmDiR9NgBO",
        "colab_type": "code",
        "colab": {}
      },
      "cell_type": "code",
      "source": [
        "def generate_model(shape):\n",
        "  \n",
        "  model = Sequential()\n",
        "  '''\n",
        "  model.add(Dense(32, input_dim=shape, kernel_initializer='random_uniform',  bias_initializer='zeros', activation='tanh'))\n",
        "  model.add(Dropout(0.5))\n",
        "  model.add(Dense(64, kernel_initializer='random_uniform',  bias_initializer='zeros', activation='tanh'))\n",
        "  model.add(Dropout(0.5))\n",
        "  model.add(Dense(128, kernel_initializer='random_uniform',  bias_initializer='zeros', activation='tanh'))\n",
        "  model.add(Dropout(0.5))\n",
        "  model.add(Dense(256, kernel_initializer='random_uniform',  bias_initializer='zeros', activation='tanh'))\n",
        "  model.add(Dropout(0.5))\n",
        "  model.add(Dense(1, activation='sigmoid'))\n",
        "  print(model.summary())\n",
        "  '''\n",
        "  model.add(Dense(32, input_dim=shape, kernel_initializer='random_uniform',  bias_initializer='zeros'))\n",
        "  model.add(LeakyReLU(alpha = 0.5))\n",
        "  model.add(Dropout(0.5))\n",
        "  model.add(Dense(64, kernel_initializer='random_uniform',  bias_initializer='zeros'))\n",
        "  model.add(LeakyReLU(alpha = 0.5))\n",
        "  model.add(Dropout(0.5))\n",
        "  model.add(Dense(128, kernel_initializer='random_uniform',  bias_initializer='zeros'))\n",
        "  model.add(LeakyReLU(alpha = 0.5))\n",
        "  model.add(Dropout(0.5))\n",
        "  model.add(Dense(256, kernel_initializer='random_uniform',  bias_initializer='zeros'))\n",
        "  model.add(LeakyReLU(alpha = 0.5))\n",
        "  model.add(Dropout(0.5))\n",
        "  model.add(Dense(1, activation='sigmoid'))\n",
        "  print(model.summary())\n",
        "\n",
        "  return model"
      ],
      "execution_count": 0,
      "outputs": []
    },
    {
      "metadata": {
        "colab_type": "code",
        "id": "q8Ug7HV8R_oC",
        "outputId": "7194d9c2-13a4-4fed-c71b-1f21ee101822",
        "colab": {
          "base_uri": "https://localhost:8080/",
          "height": 90
        }
      },
      "cell_type": "code",
      "source": [
        "#LOAD DATA\n",
        "print(\"Loading data...\")\n",
        "\n",
        "dataset = '/root/data/Half_uHoo_featureDataset.arff'\n",
        "\n",
        "with open (dataset, encoding='utf-8') as f:\n",
        "  dataDictionary = arff.load(f)\n",
        "\n",
        "data = np.array(dataDictionary['data'])\n",
        "print(\"DATASET LOADED\")\n",
        "\n",
        "#CONVERTING VALUES\n",
        "print(\"Converting values...\")\n",
        "for i in data:\n",
        "  if(i[-1] == 'Other'): i[-1] = 0\n",
        "  elif(i[-1] == 'Pasto') : i[-1] = 1\n",
        "\n",
        "dataset = data.astype('float32')\n",
        "print(\"CONVERSION DONE\")"
      ],
      "execution_count": 0,
      "outputs": [
        {
          "output_type": "stream",
          "text": [
            "Loading data...\n",
            "DATASET LOADED\n",
            "Converting values...\n",
            "CONVERSION DONE\n"
          ],
          "name": "stdout"
        }
      ]
    },
    {
      "metadata": {
        "id": "aF18iHepiQUl",
        "colab_type": "code",
        "colab": {}
      },
      "cell_type": "code",
      "source": [
        "#SPLIT INTO INPUT (X) AND OUTPUT (Y) VARIABLES\n",
        "s = dataset.shape[-1]\n",
        "#print(s)\n",
        "X = dataset[:,0:s-1]\n",
        "Y = dataset[:,s-1]\n",
        "\n",
        "#SPLIT INTO TRAINING, VALIDATION AND TEST SETS\n",
        "train_rate = 30\n",
        "val_rate = 40\n",
        "train = round(int((dataset.shape[0]*train_rate)/100))\n",
        "val = round(int((dataset.shape[0]*(train_rate+val_rate))/100))\n",
        "\n",
        "train_data = X[:train]\n",
        "train_label = Y[:train]\n",
        "\n",
        "val_data = X[train+1:val]\n",
        "val_label = Y[train+1:val]\n",
        "\n",
        "test_data = X[val+1:]\n",
        "test_label = Y[val+1:]\n"
      ],
      "execution_count": 0,
      "outputs": []
    },
    {
      "metadata": {
        "id": "tmWltqYbpoTy",
        "colab_type": "code",
        "outputId": "bc5570ad-474e-4e45-c71f-a481648cba14",
        "colab": {
          "base_uri": "https://localhost:8080/",
          "height": 825
        }
      },
      "cell_type": "code",
      "source": [
        "#COMPUTE CLASS WEIGHT\n",
        "labels = np.unique(train_label)\n",
        "classWeight = compute_class_weight('balanced', labels, train_label)\n",
        "classWeight = dict(zip(labels,classWeight))\n",
        "\n",
        "#GENERATE MODEL\n",
        "model = generate_model(train_data.shape[-1])\n",
        "\n",
        "#OPTIMIZERS\n",
        "sgd = optimizers.SGD(lr=0.0001)\n",
        "rms = optimizers.RMSprop(lr=0.001)\n",
        "adm = optimizers.Adam(lr=0.001)\n",
        "\n",
        "#COMPILE MODEL\n",
        "model.compile(loss='binary_crossentropy', optimizer = adm , metrics=['accuracy'])\n",
        "\n",
        "#FIT MODEL\n",
        "history = model.fit(train_data, train_label, epochs=3, validation_data = (val_data, val_label), batch_size = 128, shuffle = True, class_weight = classWeight, verbose=1)\n",
        "\n",
        "#EVALUATE MODEL\n",
        "'''\n",
        "scores_train = model.evaluate(train_data, train_label, batch_size=128, verbose = 0)\n",
        "print(\"Train loss: %.2f%%\" % (scores[0] * 100))\n",
        "print(\"Train accuracy: %.2f%%\" % (scores[1] * 100))\n",
        "\n",
        "scores_val = model.evaluate(val_data, val_label, batch_size=128, verbose = 0)\n",
        "print(\"Validation loss: %.2f%%\" % (scores[0] * 100))\n",
        "print(\"Validation accuracy: %.2f%%\" % (scores[1] * 100))\n",
        "'''\n",
        "scores_test = model.evaluate(test_data, test_label, batch_size=128, verbose = 1)\n",
        "print(\"Test loss: %.2f%%\" % (scores_test[0] * 100))\n",
        "print(\"Test accuracy: %.2f%%\" % (scores_test[1] * 100))"
      ],
      "execution_count": 0,
      "outputs": [
        {
          "output_type": "stream",
          "text": [
            "_________________________________________________________________\n",
            "Layer (type)                 Output Shape              Param #   \n",
            "=================================================================\n",
            "dense_121 (Dense)            (None, 32)                3648      \n",
            "_________________________________________________________________\n",
            "leaky_re_lu_49 (LeakyReLU)   (None, 32)                0         \n",
            "_________________________________________________________________\n",
            "dropout_97 (Dropout)         (None, 32)                0         \n",
            "_________________________________________________________________\n",
            "dense_122 (Dense)            (None, 64)                2112      \n",
            "_________________________________________________________________\n",
            "leaky_re_lu_50 (LeakyReLU)   (None, 64)                0         \n",
            "_________________________________________________________________\n",
            "dropout_98 (Dropout)         (None, 64)                0         \n",
            "_________________________________________________________________\n",
            "dense_123 (Dense)            (None, 128)               8320      \n",
            "_________________________________________________________________\n",
            "leaky_re_lu_51 (LeakyReLU)   (None, 128)               0         \n",
            "_________________________________________________________________\n",
            "dropout_99 (Dropout)         (None, 128)               0         \n",
            "_________________________________________________________________\n",
            "dense_124 (Dense)            (None, 256)               33024     \n",
            "_________________________________________________________________\n",
            "leaky_re_lu_52 (LeakyReLU)   (None, 256)               0         \n",
            "_________________________________________________________________\n",
            "dropout_100 (Dropout)        (None, 256)               0         \n",
            "_________________________________________________________________\n",
            "dense_125 (Dense)            (None, 1)                 257       \n",
            "=================================================================\n",
            "Total params: 47,361\n",
            "Trainable params: 47,361\n",
            "Non-trainable params: 0\n",
            "_________________________________________________________________\n",
            "None\n",
            "Train on 43985 samples, validate on 58647 samples\n",
            "Epoch 1/3\n",
            "43985/43985 [==============================] - 5s 121us/step - loss: 0.7091 - acc: 0.5749 - val_loss: 0.4883 - val_acc: 0.7517\n",
            "Epoch 2/3\n",
            "43985/43985 [==============================] - 2s 57us/step - loss: 0.6160 - acc: 0.6219 - val_loss: 0.5870 - val_acc: 0.7967\n",
            "Epoch 3/3\n",
            "43985/43985 [==============================] - 2s 56us/step - loss: 0.5943 - acc: 0.6405 - val_loss: 0.6354 - val_acc: 0.7975\n",
            "43985/43985 [==============================] - 1s 13us/step\n",
            "Test loss: 59.76%\n",
            "Test accuracy: 78.19%\n"
          ],
          "name": "stdout"
        }
      ]
    },
    {
      "metadata": {
        "id": "FdMyVCwGXyfF",
        "colab_type": "code",
        "outputId": "edbb3d5a-d936-43cb-cc43-d561de954e8f",
        "colab": {
          "base_uri": "https://localhost:8080/",
          "height": 735
        }
      },
      "cell_type": "code",
      "source": [
        "#PLOT RESULTS\n",
        "\n",
        "# summarize history for accuracy\n",
        "plt.plot(history.history['acc'])\n",
        "plt.plot(history.history['val_acc'])\n",
        "plt.title('model accuracy')\n",
        "plt.ylabel('accuracy')\n",
        "plt.xlabel('epoch')\n",
        "plt.legend(['train', 'test'], loc='upper left')\n",
        "plt.show()\n",
        "\n",
        "# summarize history for loss\n",
        "plt.plot(history.history['loss'])\n",
        "plt.plot(history.history['val_loss'])\n",
        "plt.title('model loss')\n",
        "plt.ylabel('loss')\n",
        "plt.xlabel('epoch')\n",
        "plt.legend(['train', 'test'], loc='upper left')\n",
        "plt.show()\n"
      ],
      "execution_count": 0,
      "outputs": [
        {
          "output_type": "display_data",
          "data": {
            "image/png": "[encoded data removed]",
            "text/plain": [
              "<matplotlib.figure.Figure at 0x7f5b7fca2cc0>"
            ]
          },
          "metadata": {
            "tags": []
          }
        },
        {
          "output_type": "display_data",
          "data": {
            "image/png": "[encoded data removed]",
            "text/plain": [
              "<matplotlib.figure.Figure at 0x7f5b62cbd5c0>"
            ]
          },
          "metadata": {
            "tags": []
          }
        }
      ]
    },
    {
      "metadata": {
        "id": "C5L-xXizgnw5",
        "colab_type": "code",
        "colab": {}
      },
      "cell_type": "code",
      "source": [
        "model.save('my_model1.h5')\n",
        "\n",
        "#model = load_model('my_model.h5')"
      ],
      "execution_count": 0,
      "outputs": []
    }
  ]
}