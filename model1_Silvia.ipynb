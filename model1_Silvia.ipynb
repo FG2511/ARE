{
  "nbformat": 4,
  "nbformat_minor": 0,
  "metadata": {
    "colab": {
      "name": "model1.ipynb",
      "version": "0.3.2",
      "provenance": [],
      "include_colab_link": true
    },
    "kernelspec": {
      "name": "python3",
      "display_name": "Python 3"
    }
  },
  "cells": [
    {
      "cell_type": "markdown",
      "metadata": {
        "id": "view-in-github",
        "colab_type": "text"
      },
      "source": [
        "<a href=\"https://colab.research.google.com/github/FG2511/ARE/blob/master/model1_Silvia.ipynb\" target=\"_parent\"><img src=\"https://colab.research.google.com/assets/colab-badge.svg\" alt=\"Open In Colab\"/></a>"
      ]
    },
    {
      "metadata": {
        "id": "hu-_5aP7LlL6",
        "colab_type": "code",
        "outputId": "2750cbdf-7412-44c5-f547-6670dab36f84",
        "colab": {
          "base_uri": "https://localhost:8080/",
          "height": 34
        }
      },
      "cell_type": "code",
      "source": [
        "'''\n",
        "@File name: model1.ipynb\n",
        "@Created on 2018-12-20\n",
        "@Authors: Federica Gerina, Francesca Moi, Silvia Maria Massa\n",
        "@Description: Given a time-series dataset that contains minute-by-minute data \n",
        "about different kind of gases, collected by the uHoo air quality sensor, train\n",
        "a NN that classifies if a minute belongs to the class \"Pasto\" (1) otherwise to\n",
        "the class \"Other\" (0).\n",
        "'''\n",
        "\n",
        "!pip install liac-arff\n",
        "\n",
        "import arff\n",
        "import csv\n",
        "\n",
        "import numpy as np\n",
        "from numpy import savetxt\n",
        "\n",
        "import pandas as pd\n",
        "from pandas import DataFrame\n",
        "from pandas import read_csv\n",
        "from pandas import concat\n",
        "\n",
        "from keras import optimizers\n",
        "from keras.models import Sequential\n",
        "from keras.models import load_model\n",
        "from keras.layers import Dense, Dropout, LeakyReLU, BatchNormalization, Activation\n",
        "from keras.callbacks import EarlyStopping\n",
        "from keras.preprocessing import sequence\n",
        "\n",
        "from sklearn.utils import compute_class_weight\n",
        "from sklearn.metrics import confusion_matrix\n",
        "\n",
        "import matplotlib.pyplot as plt\n",
        "from matplotlib.pyplot import legend\n",
        "\n",
        "# fix random seed for reproducibility\n",
        "seed = 7\n",
        "np.random.seed(seed)"
      ],
      "execution_count": 46,
      "outputs": [
        {
          "output_type": "stream",
          "text": [
            "Requirement already satisfied: liac-arff in /usr/local/lib/python3.6/dist-packages (2.3.1)\n"
          ],
          "name": "stdout"
        }
      ]
    },
    {
      "metadata": {
        "id": "yKvmDiR9NgBO",
        "colab_type": "code",
        "colab": {}
      },
      "cell_type": "code",
      "source": [
        "#layers : 57, 113, 226, 1 (regola: input/2, input, 2*input, 1)\n",
        "#layers : 113, 229, 153, 1 (regola: a= input, b= a*2/3+c, c= b*2/3+1)\n",
        "\n",
        "def generate_model_leaky(shape):\n",
        "  \n",
        "  model = Sequential()\n",
        "  model.add(BatchNormalization())\n",
        "  \n",
        "  model.add(Dense(113, input_dim=shape, kernel_initializer='random_uniform',  use_bias = False))\n",
        "  model.add(BatchNormalization())\n",
        "  model.add(LeakyReLU(alpha = 0.2))\n",
        "  model.add(Dropout(0.5))\n",
        "  \n",
        "  model.add(Dense(229, kernel_initializer='random_uniform',  use_bias = False))\n",
        "  model.add(BatchNormalization())\n",
        "  model.add(LeakyReLU(alpha = 0.2))\n",
        "  model.add(Dropout(0.5))\n",
        "  \n",
        "  model.add(Dense(153, kernel_initializer='random_uniform',  use_bias = False))\n",
        "  model.add(BatchNormalization())\n",
        "  model.add(LeakyReLU(alpha = 0.2))\n",
        "  model.add(Dropout(0.5))\n",
        "  \n",
        "  model.add(Dense(1, activation='sigmoid'))\n",
        "  #print(model.summary())\n",
        "\n",
        "  return model"
      ],
      "execution_count": 0,
      "outputs": []
    },
    {
      "metadata": {
        "colab_type": "code",
        "id": "q8Ug7HV8R_oC",
        "outputId": "537beeb4-e9bc-48c0-e95b-46424e0be4c0",
        "colab": {
          "base_uri": "https://localhost:8080/",
          "height": 87
        }
      },
      "cell_type": "code",
      "source": [
        "#LOAD DATA\n",
        "print(\"Loading data...\")\n",
        "\n",
        "dataset = '/root/data/6_uHoo_featureDataset.arff'\n",
        "\n",
        "with open (dataset, encoding='utf-8') as f:\n",
        "  dataDictionary = arff.load(f)\n",
        "\n",
        "data = np.array(dataDictionary['data'])\n",
        "print(\"DATASET LOADED\")\n",
        "\n",
        "#CONVERTING VALUES\n",
        "print(\"Converting values...\")\n",
        "for i in data:\n",
        "  if(i[-1] == 'Other'): i[-1] = 0\n",
        "  elif(i[-1] == 'Pasto') : i[-1] = 1\n",
        "\n",
        "dataset = data.astype('float32')\n",
        "print(\"CONVERSION DONE\")"
      ],
      "execution_count": 48,
      "outputs": [
        {
          "output_type": "stream",
          "text": [
            "Loading data...\n",
            "DATASET LOADED\n",
            "Converting values...\n",
            "CONVERSION DONE\n"
          ],
          "name": "stdout"
        }
      ]
    },
    {
      "metadata": {
        "id": "GNvDfgeB13JC",
        "colab_type": "code",
        "colab": {}
      },
      "cell_type": "code",
      "source": [
        "#layers : 57, 113, 226, 1 (regola: input/2, input, 2*input, 1)\n",
        "#layers : 113, 229, 153, 1 (regola: a= input, b= a*2/3+c, c= b*2/3+1)\n",
        "\n",
        "def generate_model(shape):\n",
        "  \n",
        "  model = Sequential()\n",
        " \n",
        "  '''model.add(Dense(113, input_dim=shape, kernel_initializer='random_uniform',  bias_initializer='zeros', activation='relu'))'''\n",
        "  model.add(Dense(113, input_dim=shape, kernel_initializer='random_uniform', use_bias = False))\n",
        "  model.add(BatchNormalization())\n",
        "  model.add(Activation('relu'))\n",
        "  model.add(Dropout(0,5))\n",
        "  \n",
        "  '''model.add(Dense(229, kernel_initializer='random_uniform',  bias_initializer='zeros', activation='relu'))'''\n",
        "  model.add(Dense(229, kernel_initializer='random_uniform', use_bias = False))\n",
        "  model.add(BatchNormalization())\n",
        "  model.add(Activation('relu'))\n",
        "  model.add(Dropout(0,5))\n",
        "  \n",
        "  '''model.add(Dense(153, kernel_initializer='random_uniform',  bias_initializer='zeros', activation='relu'))'''\n",
        "  model.add(Dense(153, kernel_initializer='random_uniform', use_bias = False))\n",
        "  model.add(BatchNormalization())\n",
        "  model.add(Activation('relu'))\n",
        "  model.add(Dropout(0,5))\n",
        "  \n",
        "  model.add(Dense(1, activation='sigmoid'))\n",
        "  #print(model.summary())\n",
        "\n",
        "  return model"
      ],
      "execution_count": 0,
      "outputs": []
    },
    {
      "metadata": {
        "id": "aF18iHepiQUl",
        "colab_type": "code",
        "colab": {}
      },
      "cell_type": "code",
      "source": [
        "#SPLIT INTO INPUT (X) AND OUTPUT (Y) VARIABLES\n",
        "s = dataset.shape[-1]\n",
        "#print(s)\n",
        "X = dataset[:,0:s-1]\n",
        "Y = dataset[:,s-1]\n",
        "\n",
        "#SPLIT INTO TRAINING, VALIDATION AND TEST SETS\n",
        "train_rate = 80\n",
        "val_rate = 10\n",
        "train = round(int((dataset.shape[0]*train_rate)/100))\n",
        "val = round(int((dataset.shape[0]*(train_rate+val_rate))/100))\n",
        "\n",
        "train_data = X[:train]\n",
        "train_label = Y[:train]\n",
        "\n",
        "val_data = X[train+1:val]\n",
        "val_label = Y[train+1:val]\n",
        "\n",
        "test_data = X[val+1:]\n",
        "test_label = Y[val+1:]"
      ],
      "execution_count": 0,
      "outputs": []
    },
    {
      "metadata": {
        "id": "tmWltqYbpoTy",
        "colab_type": "code",
        "outputId": "8bcebcaa-d404-4f4c-90dc-4b062b58e1fe",
        "colab": {
          "base_uri": "https://localhost:8080/",
          "height": 246
        }
      },
      "cell_type": "code",
      "source": [
        "#COMPUTE CLASS WEIGHT\n",
        "labels = np.unique(train_label)\n",
        "classWeight = compute_class_weight('balanced', labels, train_label)\n",
        "classWeight = dict(zip(labels,classWeight))\n",
        "\n",
        "#GENERATE MODEL\n",
        "#model = generate_model_leaky(train_data.shape[-1])\n",
        "model = generate_model(train_data.shape[-1])\n",
        "\n",
        "#OPTIMIZERS\n",
        "adm = optimizers.Adam(lr=0.0001)\n",
        "\n",
        "#COMPILE MODEL\n",
        "model.compile(loss='binary_crossentropy', optimizer = adm , metrics=['accuracy'])\n",
        "\n",
        "#EARLY STOPPING\n",
        "es = EarlyStopping(monitor='val_loss', min_delta=0, patience=2, verbose=0, mode='auto')\n",
        "\n",
        "#FIT MODEL\n",
        "history = model.fit(train_data, train_label, epochs=4, validation_data = (val_data, val_label), batch_size = 128, shuffle = True, class_weight = classWeight, verbose=1, callbacks = [es])\n",
        "\n",
        "#EVALUATE MODEL\n",
        "scores_test = model.evaluate(test_data, test_label, batch_size=128, verbose = 1)\n",
        "print(\"Test loss: %.2f%%\" % (scores_test[0] * 100))\n",
        "print(\"Test accuracy: %.2f%%\" % (scores_test[1] * 100))\n",
        "\n",
        "#CALCULATE PREDICTIONS AND SAVE IN A CSV FILE\n",
        "pred = model.predict_classes(test_data, batch_size=128, verbose=1)"
      ],
      "execution_count": 51,
      "outputs": [
        {
          "output_type": "stream",
          "text": [
            "Train on 183944 samples, validate on 22992 samples\n",
            "Epoch 1/4\n",
            "183944/183944 [==============================] - 12s 67us/step - loss: 0.4314 - acc: 0.7836 - val_loss: 0.4519 - val_acc: 0.7837\n",
            "Epoch 2/4\n",
            "183944/183944 [==============================] - 11s 59us/step - loss: 0.3564 - acc: 0.8208 - val_loss: 0.4452 - val_acc: 0.7727\n",
            "Epoch 3/4\n",
            "183944/183944 [==============================] - 11s 58us/step - loss: 0.3275 - acc: 0.8343 - val_loss: 0.5297 - val_acc: 0.7309\n",
            "Epoch 4/4\n",
            "183944/183944 [==============================] - 11s 62us/step - loss: 0.3131 - acc: 0.8455 - val_loss: 0.5326 - val_acc: 0.7208\n",
            "22992/22992 [==============================] - 0s 20us/step\n",
            "Test loss: 49.95%\n",
            "Test accuracy: 74.35%\n",
            "22992/22992 [==============================] - 1s 31us/step\n"
          ],
          "name": "stdout"
        }
      ]
    },
    {
      "metadata": {
        "id": "1GRMfTGGxSPH",
        "colab_type": "code",
        "outputId": "6e8362a2-3a63-4167-bb00-3ac587c231be",
        "colab": {
          "base_uri": "https://localhost:8080/",
          "height": 122
        }
      },
      "cell_type": "code",
      "source": [
        "#CONFUSION MATRIX\n",
        "y_true = test_label\n",
        "y_pred = pred\n",
        "tn, fp, fn, tp = confusion_matrix(y_true, y_pred).ravel()\n",
        "print(\"TN\", tn)\n",
        "print(\"FP\", fp)\n",
        "print(\"FN\", fn)\n",
        "print(\"TP\", tp)\n",
        "other = 100*tn/(tn+fp)\n",
        "pasto = 100*tp/(fn+tp)\n",
        "print(\"Other corretti: %.2f %%\" % other)\n",
        "print(\"Pasto corretti: %.2f %%\" % pasto)"
      ],
      "execution_count": 52,
      "outputs": [
        {
          "output_type": "stream",
          "text": [
            "TN 16660\n",
            "FP 5524\n",
            "FN 374\n",
            "TP 434\n",
            "Other corretti: 75.10 %\n",
            "Pasto corretti: 53.71 %\n"
          ],
          "name": "stdout"
        }
      ]
    },
    {
      "metadata": {
        "id": "9eeNPo5oxitr",
        "colab_type": "code",
        "colab": {
          "base_uri": "https://localhost:8080/",
          "height": 347
        },
        "outputId": "b8c34942-54b0-4c6b-a2b5-a41bc7ff6d45"
      },
      "cell_type": "code",
      "source": [
        "#LOAD SENSORE DATA\n",
        "datasetSensor = '/root/data/6_uHoo_featureDataset_Reduced.arff'\n",
        "\n",
        "with open (datasetSensor, encoding='utf-8') as fs:\n",
        "  dataSensor = arff.load(fs)\n",
        "\n",
        "dataS = np.array(dataSensor['data'])\n",
        "\n",
        "#CONVERTING VALUES\n",
        "for i in dataS:\n",
        "  if(i[-1] == 'Other'): i[-1] = 0\n",
        "  else : i[-1] = 1\n",
        "\n",
        "#TEST DATA SENSOR \n",
        "dataT = dataS[val+1:]\n",
        "\n",
        "#PLOT ESTIMATE\n",
        "plt.plot(dataT[:,0])\n",
        "plt.plot(dataT[:,1])\n",
        "\n",
        "j=0\n",
        "for i in pred:\n",
        "  if(i != test_label[j]): plt.plot(j,-10,'ro')\n",
        "  j=j+1\n",
        "\n",
        "plt.legend(['CO2', 'temperatura', 'predizioni errate'], loc='upper left')\n",
        "plt.show()\n"
      ],
      "execution_count": 53,
      "outputs": [
        {
          "output_type": "display_data",
          "data": {
            "image/png": "[encoded data removed]",
            "text/plain": [
              "<matplotlib.figure.Figure at 0x7f0ce1858c50>"
            ]
          },
          "metadata": {
            "tags": []
          }
        }
      ]
    },
    {
      "metadata": {
        "id": "C5L-xXizgnw5",
        "colab_type": "code",
        "colab": {}
      },
      "cell_type": "code",
      "source": [
        "#model.save('my_model1.h5')\n",
        "#model = load_model('my_model.h5')"
      ],
      "execution_count": 0,
      "outputs": []
    },
    {
      "metadata": {
        "id": "FdMyVCwGXyfF",
        "colab_type": "code",
        "outputId": "900bd476-d55b-40ba-de37-2ba503bbc256",
        "colab": {
          "base_uri": "https://localhost:8080/",
          "height": 54
        }
      },
      "cell_type": "code",
      "source": [
        "#PLOT RESULTS\n",
        "\n",
        "# summarize history for accuracy\n",
        "'''\n",
        "plt.plot(history.history['acc'])\n",
        "plt.plot(history.history['val_acc'])\n",
        "plt.title('model accuracy')\n",
        "plt.ylabel('accuracy')\n",
        "plt.xlabel('epoch')\n",
        "plt.legend(['train', 'test'], loc='upper left')\n",
        "plt.show()\n",
        "'''\n",
        "\n",
        "# summarize history for loss\n",
        "'''\n",
        "plt.plot(history.history['loss'])\n",
        "plt.plot(history.history['val_loss'])\n",
        "plt.title('model loss')\n",
        "plt.ylabel('loss')\n",
        "plt.xlabel('epoch')\n",
        "plt.legend(['train', 'test'], loc='upper left')\n",
        "plt.show()\n",
        "'''"
      ],
      "execution_count": 55,
      "outputs": [
        {
          "output_type": "execute_result",
          "data": {
            "text/plain": [
              "\"\\n# summarize history for accuracy\\nplt.plot(history.history['acc'])\\nplt.plot(history.history['val_acc'])\\nplt.title('model accuracy')\\nplt.ylabel('accuracy')\\nplt.xlabel('epoch')\\nplt.legend(['train', 'test'], loc='upper left')\\nplt.show()\\n\\n# summarize history for loss\\nplt.plot(history.history['loss'])\\nplt.plot(history.history['val_loss'])\\nplt.title('model loss')\\nplt.ylabel('loss')\\nplt.xlabel('epoch')\\nplt.legend(['train', 'test'], loc='upper left')\\nplt.show()\\n\""
            ]
          },
          "metadata": {
            "tags": []
          },
          "execution_count": 55
        }
      ]
    }
  ]
}