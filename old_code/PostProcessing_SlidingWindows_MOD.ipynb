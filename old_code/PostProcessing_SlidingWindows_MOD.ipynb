{
  "nbformat": 4,
  "nbformat_minor": 0,
  "metadata": {
    "colab": {
      "name": "PostProcessing_SlidingWindows.ipynb",
      "version": "0.3.2",
      "provenance": [],
      "include_colab_link": true
    },
    "kernelspec": {
      "name": "python3",
      "display_name": "Python 3"
    }
  },
  "cells": [
    {
      "cell_type": "markdown",
      "metadata": {
        "id": "view-in-github",
        "colab_type": "text"
      },
      "source": [
        "<a href=\"https://colab.research.google.com/github/FG2511/ARE/blob/master/PostProcessing_SlidingWindows_MOD.ipynb\" target=\"_parent\"><img src=\"https://colab.research.google.com/assets/colab-badge.svg\" alt=\"Open In Colab\"/></a>"
      ]
    },
    {
      "metadata": {
        "id": "feZjQMCNq-qC",
        "colab_type": "code",
        "colab": {}
      },
      "cell_type": "code",
      "source": [
        "!mkdir -p local_modules/postprocessing_sliding"
      ],
      "execution_count": 0,
      "outputs": []
    },
    {
      "metadata": {
        "id": "2vvIKqcJrIzz",
        "colab_type": "code",
        "outputId": "a17f449f-37ac-4ed8-ad73-c0b408b6aab5",
        "colab": {
          "base_uri": "https://localhost:8080/",
          "height": 35
        }
      },
      "cell_type": "code",
      "source": [
        "%%writefile local_modules/postprocessing_sliding/__init__.py\n",
        "\n",
        "import more_itertools\n",
        "\n",
        "def sliding_windows_time_mod(pred,time):\n",
        "  \n",
        "  lista =[pred,time]\n",
        "  print(lista)\n",
        "  print(lista[:,0])\n",
        "  \n",
        "  windowsList = list(more_itertools.windowed(lista,n=5, step=1))\n",
        "  print(windowsList)\n",
        "\n",
        "  result = [];\n",
        "  result.append(lista[0])\n",
        "  result.append(lista[1])\n",
        "  print(result)\n",
        "  i = 0 \n",
        "  while i < len(windowsList): \n",
        "    count = 0\n",
        "    c = windowsList[i][2]\n",
        "\n",
        "    j = 0  \n",
        "    while j < 5:\n",
        "      if windowsList[i][j] == c :\n",
        "        count = count + 1\n",
        "      j = j + 1\n",
        "\n",
        "    if count<3 :\n",
        "      if c == 1:\n",
        "        result.append(0)\n",
        "      else:\n",
        "        result.append(1)\n",
        "    else:\n",
        "      result.append(c)\n",
        "\n",
        "    i = i + 1\n",
        "\n",
        "  result.append(lista[-2])\n",
        "  result.append(lista[-1])\n",
        "\n",
        "  #print(lista)\n",
        "  #print(result)\n",
        "  \n",
        "  return result"
      ],
      "execution_count": 2,
      "outputs": [
        {
          "output_type": "stream",
          "text": [
            "Overwriting local_modules/postprocessing_sliding/__init__.py\n"
          ],
          "name": "stdout"
        }
      ]
    }
  ]
}
