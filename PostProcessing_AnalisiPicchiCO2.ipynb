{
  "nbformat": 4,
  "nbformat_minor": 0,
  "metadata": {
    "colab": {
      "name": "PostProcessing_AnalisiPicchiCO2.ipynb",
      "version": "0.3.2",
      "provenance": [],
      "include_colab_link": true
    },
    "kernelspec": {
      "name": "python2",
      "display_name": "Python 2"
    }
  },
  "cells": [
    {
      "cell_type": "markdown",
      "metadata": {
        "id": "view-in-github",
        "colab_type": "text"
      },
      "source": [
        "<a href=\"https://colab.research.google.com/github/FG2511/ARE/blob/master/PostProcessing_AnalisiPicchiCO2.ipynb\" target=\"_parent\"><img src=\"https://colab.research.google.com/assets/colab-badge.svg\" alt=\"Open In Colab\"/></a>"
      ]
    },
    {
      "metadata": {
        "id": "CHvY4qyTp-nY",
        "colab_type": "code",
        "colab": {}
      },
      "cell_type": "code",
      "source": [
        "\n",
        "!mkdir -p local_modules/postprocessing_CO2"
      ],
      "execution_count": 0,
      "outputs": []
    },
    {
      "metadata": {
        "id": "litTolxnngZ3",
        "colab_type": "code",
        "outputId": "888c1ab9-58f4-49cc-d17f-153417cd4a6d",
        "colab": {
          "base_uri": "https://localhost:8080/",
          "height": 35
        }
      },
      "cell_type": "code",
      "source": [
        "%%writefile local_modules/postprocessing_CO2/__init__.py\n",
        "\n",
        "import arff\n",
        "import csv\n",
        "import numpy as np\n",
        "\n",
        "def get_postprocessing_CO2(pred, val):\n",
        "\n",
        "  #Carico solamente i valori della CO2 e del datetime dell'insieme di test\n",
        "\n",
        "  #LOAD SENSOR DATA\n",
        "  datasetSensor = '/root/data/uHooComplete_featureDataset_Reduced.arff'\n",
        "\n",
        "  with open (datasetSensor, encoding='utf-8') as fs:\n",
        "    dataSensor = arff.load(fs)\n",
        "\n",
        "  dataS = np.array(dataSensor['data'])\n",
        "\n",
        "  #CONVERTING VALUES\n",
        "  for i in dataS:\n",
        "    if(i[-1] == 'Other'): i[-1] = 0\n",
        "    else : i[-1] = 1\n",
        "\n",
        "  #TEST SENSOR DATA  \n",
        "  dataT = dataS[val+1:]\n",
        "  datastr = dataT[:,1]\n",
        "  co2 = datastr.astype('float32')\n",
        "\n",
        "  #POST PROCESSING\n",
        "  pasto = []\n",
        "  index =[]\n",
        "  p = []\n",
        "\n",
        "  for i in pred:\n",
        "    p.append(i)\n",
        "\n",
        "  for i in range(0, len(pred)):\n",
        "    if p[i] == 1:    \n",
        "      index.append(i)\n",
        "      pasto.append(co2[i])\n",
        "\n",
        "      if (i+1) in range(0, len(pred)) and p[i+1] == 0: #se i+1 è ancora nel range e la predizione successiva è 'other'\n",
        "\n",
        "        #calcola la media e svuota la lista\n",
        "        if len(pasto) > 4:\n",
        "          pasto = np.asarray(pasto)\n",
        "          max = np.amax(pasto)\n",
        "          pasto = pasto.tolist()\n",
        "          index_max = pasto.index(max)\n",
        "\n",
        "          for j in range(index[index_max], index[-1]):\n",
        "            if(j<index[-1]):\n",
        "              p[j+1] = 0\n",
        "\n",
        "          '''for i in range(index[0], index[-1]+1):\n",
        "            print(p[i])'''\n",
        "\n",
        "        pasto=[]\n",
        "        index=[]\n",
        "  \n",
        "  return p"
      ],
      "execution_count": 2,
      "outputs": [
        {
          "output_type": "stream",
          "text": [
            "Overwriting local_modules/postprocessing_CO2/__init__.py\n"
          ],
          "name": "stdout"
        }
      ]
    }
  ]
}