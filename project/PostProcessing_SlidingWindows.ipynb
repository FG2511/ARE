{
  "nbformat": 4,
  "nbformat_minor": 0,
  "metadata": {
    "colab": {
      "name": "PostProcessing_SlidingWindows.ipynb",
      "version": "0.3.2",
      "provenance": [],
      "collapsed_sections": [],
      "include_colab_link": true
    },
    "kernelspec": {
      "name": "python3",
      "display_name": "Python 3"
    }
  },
  "cells": [
    {
      "cell_type": "markdown",
      "metadata": {
        "id": "view-in-github",
        "colab_type": "text"
      },
      "source": [
        "<a href=\"https://colab.research.google.com/github/FG2511/ARE/blob/master/project/PostProcessing_SlidingWindows.ipynb\" target=\"_parent\"><img src=\"https://colab.research.google.com/assets/colab-badge.svg\" alt=\"Open In Colab\"/></a>"
      ]
    },
    {
      "metadata": {
        "id": "feZjQMCNq-qC",
        "colab_type": "code",
        "colab": {}
      },
      "cell_type": "code",
      "source": [
        "!mkdir -p local_modules/postprocessing_sw"
      ],
      "execution_count": 0,
      "outputs": []
    },
    {
      "metadata": {
        "id": "2vvIKqcJrIzz",
        "colab_type": "code",
        "colab": {}
      },
      "cell_type": "code",
      "source": [
        "%%writefile local_modules/postprocessing_sw/__init__.py\n",
        "\n",
        "import more_itertools\n",
        "import numpy\n",
        "\n",
        "def sliding_windows(flat_pred, window_len):\n",
        "  \n",
        "  print(\"\\nSLIDING WINDOWS FUNCTION...\")\n",
        " \n",
        "  half_window = int(window_len/2)\n",
        "  \n",
        "  windowsList = list(more_itertools.windowed(flat_pred,n=window_len, step=1))\n",
        "\n",
        "  result = [];\n",
        "  result.append(flat_pred[0:half_window])\n",
        "  i = 0 \n",
        "  while i < len(windowsList): \n",
        "    count = 0\n",
        "    c = windowsList[i][half_window]\n",
        "\n",
        "    j = 0  \n",
        "    while j < window_len:\n",
        "      if windowsList[i][j] == c :\n",
        "        count = count + 1\n",
        "      j = j + 1\n",
        "\n",
        "    if count<(half_window+1) :\n",
        "      if c == 1:\n",
        "        result.append(0)\n",
        "      else:\n",
        "        result.append(1)\n",
        "    else:\n",
        "      result.append(c)\n",
        "\n",
        "    i = i + 1\n",
        "\n",
        "  result.append(flat_pred[-(half_window+1):-1])\n",
        "\n",
        "  flat_result = numpy.hstack(result)\n",
        "  \n",
        "  return flat_result"
      ],
      "execution_count": 0,
      "outputs": []
    }
  ]
}