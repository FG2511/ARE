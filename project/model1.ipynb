{
  "nbformat": 4,
  "nbformat_minor": 0,
  "metadata": {
    "colab": {
      "name": "model1.ipynb",
      "version": "0.3.2",
      "provenance": [],
      "include_colab_link": true
    },
    "kernelspec": {
      "name": "python3",
      "display_name": "Python 3"
    }
  },
  "cells": [
    {
      "cell_type": "markdown",
      "metadata": {
        "id": "view-in-github",
        "colab_type": "text"
      },
      "source": [
        "<a href=\"https://colab.research.google.com/github/FG2511/ARE/blob/master/project/model1.ipynb\" target=\"_parent\"><img src=\"https://colab.research.google.com/assets/colab-badge.svg\" alt=\"Open In Colab\"/></a>"
      ]
    },
    {
      "metadata": {
        "id": "hu-_5aP7LlL6",
        "colab_type": "code",
        "outputId": "5bce7aab-0da8-4e94-d159-90ea29dfc7a7",
        "colab": {
          "base_uri": "https://localhost:8080/",
          "height": 35
        }
      },
      "cell_type": "code",
      "source": [
        "'''\n",
        "@File name: model1.ipynb\n",
        "@Created on 2018-12-20\n",
        "@Authors: Federica Gerina, Francesca Moi, Silvia Maria Massa\n",
        "@Description: Given a time-series dataset that contains minute-by-minute data \n",
        "about different kind of gases, collected by the uHoo air quality sensor, train\n",
        "a NN that classifies if a minute belongs to the class \"Pasto\" (1) otherwise to\n",
        "the class \"Other\" (0).\n",
        "'''\n",
        "\n",
        "!pip install liac-arff\n",
        "\n",
        "import arff\n",
        "import numpy as np\n",
        "\n",
        "from keras import optimizers\n",
        "from keras.models import Sequential\n",
        "from keras.models import load_model\n",
        "from keras.layers import Dense, Dropout, LeakyReLU, BatchNormalization, Activation\n",
        "from keras.callbacks import EarlyStopping\n",
        "\n",
        "from sklearn.utils import compute_class_weight\n",
        "from sklearn.metrics import confusion_matrix\n",
        "\n",
        "import sys\n",
        "sys.path.append('local_modules')\n",
        "\n",
        "import postprocessing_sliding\n",
        "import postprocessing_CO2\n",
        "#import postprocessing_Silvia\n",
        "#import plotting"
      ],
      "execution_count": 28,
      "outputs": [
        {
          "output_type": "stream",
          "text": [
            "Requirement already satisfied: liac-arff in /usr/local/lib/python3.6/dist-packages (2.4.0)\n"
          ],
          "name": "stdout"
        }
      ]
    },
    {
      "metadata": {
        "id": "DJ0SubdGw6LA",
        "colab_type": "code",
        "colab": {}
      },
      "cell_type": "code",
      "source": [
        "#fix random seed for reproducibility\n",
        "seed = 5\n",
        "np.random.seed(seed)"
      ],
      "execution_count": 0,
      "outputs": []
    },
    {
      "metadata": {
        "id": "yKvmDiR9NgBO",
        "colab_type": "code",
        "colab": {}
      },
      "cell_type": "code",
      "source": [
        "'''\n",
        "@Description: generate a multilayer perceptron with LeakyRelu as activation\n",
        "function.\n",
        "@param: \n",
        "  - shape : int, the shape of the input\n",
        "  - n_features: int, the number of features given\n",
        "'''\n",
        "\n",
        "#MODELLO 1\n",
        "#REGOLA: input/2, input, 2*input, 1\n",
        "#layers TUTTE LE FEATURE: 57, 113, 226, 1 \n",
        "#layers TIME CO2 TEMP: 21, 41, 82, 1 \n",
        "#layers TIME CO2 TEMP PM25/TVOC: 30, 59, 118, 1 \n",
        "#layers TIME CO2 TEMP PM25 TVOC: 39, 77, 154, 1 \n",
        "\n",
        "\n",
        "def generate_model_leaky(shape, n_features):\n",
        "\n",
        "  units_1 = int(n_features/2)\n",
        "  units_2 = n_features\n",
        "  units_3 = n_features*2\n",
        "\n",
        "  model = Sequential()\n",
        "  model.add(BatchNormalization())\n",
        "  \n",
        "  model.add(Dense(units_1, input_dim=shape, kernel_initializer='random_uniform',  use_bias = False))\n",
        "  model.add(BatchNormalization())\n",
        "  model.add(LeakyReLU(alpha = 0.2))\n",
        "  model.add(Dropout(0.5))\n",
        "  \n",
        "  model.add(Dense(units_2, kernel_initializer='random_uniform',  use_bias = False))\n",
        "  model.add(BatchNormalization())\n",
        "  model.add(LeakyReLU(alpha = 0.2))\n",
        "  model.add(Dropout(0.5))\n",
        "  \n",
        "  model.add(Dense(units_3, kernel_initializer='random_uniform',  use_bias = False))\n",
        "  model.add(BatchNormalization())\n",
        "  model.add(LeakyReLU(alpha = 0.2))\n",
        "  model.add(Dropout(0.5))\n",
        "  \n",
        "  model.add(Dense(1, activation='sigmoid'))\n",
        "  #print(model.summary())\n",
        "\n",
        "  return model"
      ],
      "execution_count": 0,
      "outputs": []
    },
    {
      "metadata": {
        "id": "GNvDfgeB13JC",
        "colab_type": "code",
        "colab": {}
      },
      "cell_type": "code",
      "source": [
        "'''\n",
        "@Description: generate a multilayer perceptron with Relu as activation\n",
        "function.\n",
        "@param: \n",
        "  - shape : int, the shape of the input\n",
        "  - n_features: int, the number of features given\n",
        "'''\n",
        "\n",
        "#MODELLO 2\n",
        "#REGOLA: a= input, b= a*2/3+c, c= b*2/3+1\n",
        "#layers TUTTE LE FEATURE: 113, 229, 153, 1\n",
        "#layers TIME CO2 TEMP: 41, 85, 57, 1 \n",
        "#layers TIME CO2 TEMP PM25/TVOC: 59, 121, 81, 1 \n",
        "#layers TIME CO2 TEMP PM25 TVOC: 77, 157, 105, 1 \n",
        "\n",
        "def generate_model(shape, n_features):\n",
        "  \n",
        "  a = np.array([[1,0,0],[-(2/3),1,-1],[0,-(2/3),1]])\n",
        "  b = np.array([n_features,0,1])\n",
        "  x = np.linalg.solve(a, b)\n",
        "\n",
        "  units_1 = int(x[0])\n",
        "  units_2 = int(x[1])\n",
        "  units_3 = int(x[2])\n",
        "\n",
        "  model = Sequential()\n",
        " \n",
        "  model.add(Dense(units_1, input_dim=shape, kernel_initializer='random_uniform', use_bias = False))\n",
        "  model.add(BatchNormalization())\n",
        "  model.add(Activation('relu'))\n",
        "  model.add(Dropout(0,5))\n",
        "  \n",
        "  model.add(Dense(units_2, kernel_initializer='random_uniform', use_bias = False))\n",
        "  model.add(BatchNormalization())\n",
        "  model.add(Activation('relu'))\n",
        "  model.add(Dropout(0,5))\n",
        "  \n",
        "  model.add(Dense(units_3, kernel_initializer='random_uniform', use_bias = False))\n",
        "  model.add(BatchNormalization())\n",
        "  model.add(Activation('relu'))\n",
        "  model.add(Dropout(0,5))\n",
        "  \n",
        "  model.add(Dense(1, activation='sigmoid'))\n",
        "  #print(model.summary())\n",
        "\n",
        "  return model"
      ],
      "execution_count": 0,
      "outputs": []
    },
    {
      "metadata": {
        "colab_type": "code",
        "id": "o99ibbgGHANE",
        "outputId": "201c5dff-1634-4406-f11a-0bfe2eec8e88",
        "colab": {
          "base_uri": "https://localhost:8080/",
          "height": 817
        }
      },
      "cell_type": "code",
      "source": [
        "#@title SCEGLI IL DATASET E IL MODELLO\n",
        "\n",
        "'''\n",
        "@Description: MAIN\n",
        "'''\n",
        "\n",
        "#LOAD DATA\n",
        "print(\"Loading data...\")\n",
        "\n",
        "dataset = '/root/data/uHooComplete_featureDataset(CO2_TEMP).arff' #@param {type:\"string\"}\n",
        "\n",
        "with open (dataset, encoding='utf-8') as f:\n",
        "  dataDictionary = arff.load(f)\n",
        "\n",
        "data = np.array(dataDictionary['data'])\n",
        "print(\"DATASET LOADED\")\n",
        "\n",
        "#CONVERTING VALUES\n",
        "print(\"\\nConverting values...\")\n",
        "for i in data:\n",
        "  if(i[-1] == 'Other'): i[-1] = 0\n",
        "  elif(i[-1] == 'Pasto') : i[-1] = 1\n",
        "\n",
        "dataset = data.astype('float32')\n",
        "print(\"CONVERSION DONE\")\n",
        "\n",
        "#SPLIT INTO INPUT (X) AND OUTPUT (Y) VARIABLES\n",
        "s = dataset.shape[-1]\n",
        "#print(s)\n",
        "X = dataset[:,0:s-1]\n",
        "Y = dataset[:,s-1]\n",
        "\n",
        "#print(s-1)\n",
        "\n",
        "n_features = s-1\n",
        "\n",
        "#SPLIT INTO TRAINING, VALIDATION AND TEST SETS\n",
        "print(\"\\nSplit into training, validation and test sets...\")\n",
        "\n",
        "train_rate = 80\n",
        "val_rate = 10\n",
        "train = round(int((dataset.shape[0]*train_rate)/100))\n",
        "val = round(int((dataset.shape[0]*(train_rate+val_rate))/100))\n",
        "\n",
        "train_data = X[:train]\n",
        "train_label = Y[:train]\n",
        "\n",
        "val_data = X[train+1:val]\n",
        "val_label = Y[train+1:val]\n",
        "\n",
        "test_data = X[val+1:]\n",
        "test_label = Y[val+1:]\n",
        "print(\"DATASET SPLITTED\")\n",
        "\n",
        "#COMPUTE CLASS WEIGHT\n",
        "labels = np.unique(train_label)\n",
        "classWeight = compute_class_weight('balanced', labels, train_label)\n",
        "classWeight = dict(zip(labels,classWeight))\n",
        "\n",
        "#GENERATE MODEL\n",
        "print(\"\\nGenerate model...\")\n",
        "\n",
        "modello = 2 #@param {type:\"integer\"}\n",
        "\n",
        "if modello==1 :\n",
        "  model = generate_model_leaky(train_data.shape[-1], n_features)\n",
        "elif modello==2:\n",
        "  model = generate_model(train_data.shape[-1], n_features)\n",
        "\n",
        "#OPTIMIZERS\n",
        "adm = optimizers.Adam(lr=0.0001)\n",
        "\n",
        "#COMPILE MODEL\n",
        "print(\"\\nCompile model...\")\n",
        "model.compile(loss='binary_crossentropy', optimizer = adm , metrics=['accuracy'])\n",
        "\n",
        "#EARLY STOPPING\n",
        "es = EarlyStopping(monitor='val_loss', min_delta=0, patience=2, verbose=0, mode='auto')\n",
        "\n",
        "#FIT MODEL\n",
        "print(\"\\nFit model...\")\n",
        "history = model.fit(train_data, train_label, epochs=10, validation_data = (val_data, val_label), batch_size = 128, shuffle = True, class_weight = classWeight, verbose=1, callbacks = [es])\n",
        "\n",
        "#EVALUATE MODEL\n",
        "print(\"\\nEvaluate model...\")\n",
        "scores_test = model.evaluate(test_data, test_label, batch_size=128, verbose = 1)\n",
        "print(\"Test loss: %.2f%%\" % (scores_test[0] * 100))\n",
        "print(\"Test accuracy: %.2f%%\" % (scores_test[1] * 100))\n",
        "\n",
        "#CALCULATE PREDICTIONS\n",
        "print(\"\\nCalculate predictions...\")\n",
        "pred = model.predict_classes(test_data, batch_size=128, verbose=0)\n",
        "flat_pred = [item for sublist in pred for item in sublist]\n",
        "\n",
        "#CONFUSION MATRIX\n",
        "print(\"\\nCompute confusion matrix...\")\n",
        "y_true = test_label\n",
        "y_pred = pred\n",
        "tn, fp, fn, tp = confusion_matrix(y_true, y_pred).ravel()\n",
        "print(\"TN\", tn)\n",
        "print(\"FP\", fp)\n",
        "print(\"FN\", fn)\n",
        "print(\"TP\", tp)\n",
        "other = 100*tn/(tn+fp)\n",
        "pasto = 100*tp/(fn+tp)\n",
        "print(\"Other corretti: %.2f %%\" % other)\n",
        "print(\"Pasto corretti: %.2f %%\" % pasto)\n",
        "\n",
        "time = []\n",
        "for i in test_data:\n",
        "  time.append(i[-1])"
      ],
      "execution_count": 32,
      "outputs": [
        {
          "output_type": "stream",
          "text": [
            "Loading data...\n",
            "DATASET LOADED\n",
            "\n",
            "Converting values...\n",
            "CONVERSION DONE\n",
            "\n",
            "Split into training, validation and test sets...\n",
            "DATASET SPLITTED\n",
            "\n",
            "Generate model...\n",
            "\n",
            "Compile model...\n",
            "\n",
            "Fit model...\n",
            "Train on 280392 samples, validate on 35048 samples\n",
            "Epoch 1/10\n",
            "280392/280392 [==============================] - 9s 33us/step - loss: 0.4066 - acc: 0.8326 - val_loss: 0.5869 - val_acc: 0.7250\n",
            "Epoch 2/10\n",
            "280392/280392 [==============================] - 8s 28us/step - loss: 0.3510 - acc: 0.8452 - val_loss: 0.5651 - val_acc: 0.7195\n",
            "Epoch 3/10\n",
            "280392/280392 [==============================] - 8s 27us/step - loss: 0.3343 - acc: 0.8470 - val_loss: 0.4464 - val_acc: 0.7893\n",
            "Epoch 4/10\n",
            "280392/280392 [==============================] - 8s 27us/step - loss: 0.3201 - acc: 0.8512 - val_loss: 0.4378 - val_acc: 0.7796\n",
            "Epoch 5/10\n",
            "280392/280392 [==============================] - 8s 28us/step - loss: 0.3160 - acc: 0.8549 - val_loss: 0.2784 - val_acc: 0.8738\n",
            "Epoch 6/10\n",
            "280392/280392 [==============================] - 8s 28us/step - loss: 0.3072 - acc: 0.8580 - val_loss: 0.3600 - val_acc: 0.8342\n",
            "Epoch 7/10\n",
            "280392/280392 [==============================] - 8s 28us/step - loss: 0.3022 - acc: 0.8608 - val_loss: 0.5673 - val_acc: 0.7161\n",
            "\n",
            "Evaluate model...\n",
            "35049/35049 [==============================] - 0s 11us/step\n",
            "Test loss: 61.87%\n",
            "Test accuracy: 71.19%\n",
            "\n",
            "Calculate predictions...\n",
            "\n",
            "Compute confusion matrix...\n",
            "TN 23202\n",
            "FP 9779\n",
            "FN 320\n",
            "TP 1748\n",
            "Other corretti: 70.35 %\n",
            "Pasto corretti: 84.53 %\n"
          ],
          "name": "stdout"
        }
      ]
    },
    {
      "metadata": {
        "id": "ivXVv6yGJBqx",
        "colab_type": "code",
        "outputId": "29d815e2-e3df-4c49-bf91-bb7dc66e54e5",
        "colab": {
          "base_uri": "https://localhost:8080/",
          "height": 163
        }
      },
      "cell_type": "code",
      "source": [
        "#@title SCEGLI maxWidth per postprocessing_Silvia\n",
        "'''\n",
        "@Description: POST PROCESSING\n",
        "'''\n",
        "\n",
        "maxWidth = 3 #@param {type:\"integer\"}\n",
        "\n",
        "#new_pred = postprocessing_sliding.sliding_windows_time(flat_pred, time)\n",
        "#new_pred = postprocessing_Silvia.setWidth(maxWidth,flat_pred)\n",
        "new_pred = postprocessing_CO2.get_postprocessing_CO2(flat_pred, val)\n",
        "\n",
        "#CONFUSION MATRIX\n",
        "print(\"\\nCompute NEW confusion matrix...\")\n",
        "y_true = test_label\n",
        "n_y_pred = new_pred\n",
        "tn, fp, fn, tp = confusion_matrix(y_true, n_y_pred).ravel()\n",
        "print(\"TN\", tn)\n",
        "print(\"FP\", fp)\n",
        "print(\"FN\", fn)\n",
        "print(\"TP\", tp)\n",
        "other = 100*tn/(tn+fp)\n",
        "pasto = 100*tp/(fn+tp)\n",
        "print(\"Other corretti: %.2f %%\" % other)\n",
        "print(\"Pasto corretti: %.2f %%\" % pasto)"
      ],
      "execution_count": 33,
      "outputs": [
        {
          "output_type": "stream",
          "text": [
            "\n",
            "Compute NEW confusion matrix...\n",
            "TN 26253\n",
            "FP 6728\n",
            "FN 787\n",
            "TP 1281\n",
            "Other corretti: 79.60 %\n",
            "Pasto corretti: 61.94 %\n"
          ],
          "name": "stdout"
        }
      ]
    },
    {
      "metadata": {
        "id": "Pj40Swm8_98K",
        "colab_type": "code",
        "colab": {
          "base_uri": "https://localhost:8080/",
          "height": 35
        },
        "outputId": "9146b6c3-45f2-4097-b81c-86481e38cba7"
      },
      "cell_type": "code",
      "source": [
        "'''\n",
        "@Description: PLOTTING\n",
        "'''\n",
        "'''\n",
        "plotting.plot_model_results(history)\n",
        "plotting.plot_co2_temp(flat_pred, val)\n",
        "'''"
      ],
      "execution_count": 34,
      "outputs": [
        {
          "output_type": "execute_result",
          "data": {
            "text/plain": [
              "'\\nplotting.plot_model_results(history)\\nplotting.plot_co2_temp(flat_pred, val)\\n'"
            ]
          },
          "metadata": {
            "tags": []
          },
          "execution_count": 34
        }
      ]
    },
    {
      "metadata": {
        "id": "C5L-xXizgnw5",
        "colab_type": "code",
        "colab": {}
      },
      "cell_type": "code",
      "source": [
        "#model.save('my_model1.h5')\n",
        "#model = load_model('my_model.h5')"
      ],
      "execution_count": 0,
      "outputs": []
    }
  ]
}