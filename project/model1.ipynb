{
  "nbformat": 4,
  "nbformat_minor": 0,
  "metadata": {
    "colab": {
      "name": "model1.ipynb",
      "version": "0.3.2",
      "provenance": [],
      "include_colab_link": true
    },
    "kernelspec": {
      "name": "python3",
      "display_name": "Python 3"
    }
  },
  "cells": [
    {
      "cell_type": "markdown",
      "metadata": {
        "id": "view-in-github",
        "colab_type": "text"
      },
      "source": [
        "<a href=\"https://colab.research.google.com/github/FG2511/ARE/blob/master/project/model1.ipynb\" target=\"_parent\"><img src=\"https://colab.research.google.com/assets/colab-badge.svg\" alt=\"Open In Colab\"/></a>"
      ]
    },
    {
      "metadata": {
        "id": "hu-_5aP7LlL6",
        "colab_type": "code",
        "outputId": "6b597268-50f8-4622-d0e3-816c5a3abc25",
        "colab": {
          "base_uri": "https://localhost:8080/",
          "height": 34
        }
      },
      "cell_type": "code",
      "source": [
        "'''\n",
        "@File name: model1.ipynb\n",
        "@Created on 2018-12-20\n",
        "@Authors: Federica Gerina, Francesca Moi, Silvia Maria Massa\n",
        "@Description: Given a time-series dataset that contains minute-by-minute data \n",
        "about different kind of gases, collected by the uHoo air quality sensor, train\n",
        "a NN that classifies if a minute belongs to the class \"Pasto\" (1) otherwise to\n",
        "the class \"Other\" (0).\n",
        "'''\n",
        "\n",
        "!pip install liac-arff\n",
        "\n",
        "import arff\n",
        "import csv\n",
        "\n",
        "import numpy as np\n",
        "from numpy import savetxt\n",
        "\n",
        "import pandas as pd\n",
        "from pandas import DataFrame\n",
        "from pandas import read_csv\n",
        "from pandas import concat\n",
        "\n",
        "from keras import optimizers\n",
        "from keras.models import Sequential\n",
        "from keras.models import load_model\n",
        "from keras.layers import Dense, Dropout, LeakyReLU, BatchNormalization, Activation\n",
        "from keras.callbacks import EarlyStopping\n",
        "from keras.preprocessing import sequence\n",
        "\n",
        "from sklearn.utils import compute_class_weight\n",
        "from sklearn.metrics import confusion_matrix\n",
        "\n",
        "import matplotlib.pyplot as plt\n",
        "from matplotlib.pyplot import legend\n",
        "\n",
        "from collections import deque\n",
        "\n",
        "# fix random seed for reproducibility\n",
        "seed = 7\n",
        "np.random.seed(seed)"
      ],
      "execution_count": 18,
      "outputs": [
        {
          "output_type": "stream",
          "text": [
            "Requirement already satisfied: liac-arff in /usr/local/lib/python3.6/dist-packages (2.4.0)\n"
          ],
          "name": "stdout"
        }
      ]
    },
    {
      "metadata": {
        "id": "yKvmDiR9NgBO",
        "colab_type": "code",
        "colab": {}
      },
      "cell_type": "code",
      "source": [
        "#MODELLO 1\n",
        "#REGOLA: input/2, input, 2*input, 1\n",
        "#layers TUTTE LE FEATURE: 57, 113, 226, 1 \n",
        "#layers TIME CO2 TEMP: 21, 41, 82, 1 \n",
        "#layers TIME CO2 TEMP PM25/TVOC: 30, 59, 118, 1 \n",
        "#layers TIME CO2 TEMP PM25 TVOC: 39, 77, 154, 1 \n",
        "\n",
        "#MODELLO 5\n",
        "#REGOLA: input, 2*input, 1\n",
        "#layers TUTTE LE FEATURE: 113, 226, 1 \n",
        "#layers TIME CO2 TEMP: 41, 82, 1 \n",
        "#layers TIME CO2 TEMP PM25/TVOC: 59, 118, 1 \n",
        "#layers TIME CO2 TEMP PM25 TVOC: 77, 154, 1 \n",
        "\n",
        "\n",
        "def generate_model_leaky(shape, n_features):\n",
        "  \n",
        "  #MODELLO 1\n",
        "  units_1 = int(n_features/2)\n",
        "  units_2 = n_features\n",
        "  units_3 = n_features*2\n",
        "  \n",
        "  #MODELLO 5\n",
        "  #units_1 = n_features\n",
        "  #units_2 = n_features*2\n",
        "  \n",
        "  \n",
        "  model = Sequential()\n",
        "  model.add(BatchNormalization())\n",
        "  \n",
        "  model.add(Dense(units_1, input_dim=shape, kernel_initializer='random_uniform',  use_bias = False))\n",
        "  model.add(BatchNormalization())\n",
        "  model.add(LeakyReLU(alpha = 0.2))\n",
        "  model.add(Dropout(0.5))\n",
        "  \n",
        "  model.add(Dense(units_2, kernel_initializer='random_uniform',  use_bias = False))\n",
        "  model.add(BatchNormalization())\n",
        "  model.add(LeakyReLU(alpha = 0.2))\n",
        "  model.add(Dropout(0.5))\n",
        "  \n",
        "  model.add(Dense(units_3, kernel_initializer='random_uniform',  use_bias = False))\n",
        "  model.add(BatchNormalization())\n",
        "  model.add(LeakyReLU(alpha = 0.2))\n",
        "  model.add(Dropout(0.5))\n",
        "  \n",
        "  model.add(Dense(1, activation='sigmoid'))\n",
        "  #print(model.summary())\n",
        "\n",
        "  return model"
      ],
      "execution_count": 0,
      "outputs": []
    },
    {
      "metadata": {
        "id": "GNvDfgeB13JC",
        "colab_type": "code",
        "colab": {}
      },
      "cell_type": "code",
      "source": [
        "#MODELLO 2 E MODELLO 3\n",
        "#REGOLA: a= input, b= a*2/3+c, c= b*2/3+1\n",
        "#layers TUTTE LE FEATURE: 113, 229, 153, 1\n",
        "#layers TIME CO2 TEMP: 41, 85, 57, 1 \n",
        "#layers TIME CO2 TEMP PM25/TVOC: 59, 121, 81, 1 \n",
        "#layers TIME CO2 TEMP PM25 TVOC: 77, 157, 105, 1 \n",
        "\n",
        "#MODELLO 4\n",
        "#REGOLA: input, input/2, 1\n",
        "#layers TUTTE LE FEATURE: 113, 57, 1 \n",
        "#layers TIME CO2 TEMP: 41, 21, 1 \n",
        "#layers TIME CO2 TEMP PM25/TVOC: 59, 30, 1 \n",
        "#layers TIME CO2 TEMP PM25 TVOC: 77, 29, 1 \n",
        "\n",
        "def generate_model(shape, n_features):\n",
        "  \n",
        "  #MODELLO 2 e 3\n",
        "  \n",
        "  a = np.array([[1,0,0],[-(2/3),1,-1],[0,-(2/3),1]])\n",
        "  b = np.array([n_features,0,1])\n",
        "  x = np.linalg.solve(a, b)\n",
        "  \n",
        "  units_1 = int(x[0])\n",
        "  units_2 = int(x[1])\n",
        "  units_3 = int(x[2])\n",
        "  \n",
        "  \n",
        "  #MODELLO 4\n",
        "  #units_1 = n_features\n",
        "  #units_2 = int(n_features/2)\n",
        "  \n",
        "  model = Sequential()\n",
        "  \n",
        "  #model.add(BatchNormalization()) #MODELLO 2 SENZA BATCHNORMALIZATION\n",
        " \n",
        "  model.add(Dense(units_1, input_dim=shape, kernel_initializer='random_uniform', use_bias = False))\n",
        "  model.add(BatchNormalization())\n",
        "  model.add(Activation('relu'))\n",
        "  model.add(Dropout(0,5))\n",
        "  \n",
        "  model.add(Dense(units_2, kernel_initializer='random_uniform', use_bias = False))\n",
        "  model.add(BatchNormalization())\n",
        "  model.add(Activation('relu'))\n",
        "  model.add(Dropout(0,5))\n",
        "  \n",
        "  model.add(Dense(units_3, kernel_initializer='random_uniform', use_bias = False))\n",
        "  model.add(BatchNormalization())\n",
        "  model.add(Activation('relu'))\n",
        "  model.add(Dropout(0,5))\n",
        "  \n",
        "  model.add(Dense(1, activation='sigmoid'))\n",
        "  #print(model.summary())\n",
        "\n",
        "  return model"
      ],
      "execution_count": 0,
      "outputs": []
    },
    {
      "metadata": {
        "colab_type": "code",
        "id": "o99ibbgGHANE",
        "outputId": "06d222a4-db51-4de8-a349-3aa0590df712",
        "colab": {
          "base_uri": "https://localhost:8080/",
          "height": 84
        }
      },
      "cell_type": "code",
      "source": [
        "#LOAD DATA\n",
        "print(\"Loading data...\")\n",
        "\n",
        "dataset = '/root/data/6_uHoo_featureDataset.arff'\n",
        "#dataset = '/root/data/6_uHoo_featureDataset(CO2_TEMP).arff'\n",
        "#dataset = '/root/data/6_uHoo_featureDataset(CO2_TEMP_PM25).arff'\n",
        "#dataset = '/root/data/6_uHoo_featureDataset(CO2_TEMP_TVOC).arff'\n",
        "#dataset = '/root/data/6_uHoo_featureDataset(CO2_TEMP_PM25_TVOC).arff'\n",
        "\n",
        "\n",
        "with open (dataset, encoding='utf-8') as f:\n",
        "  dataDictionary = arff.load(f)\n",
        "\n",
        "data = np.array(dataDictionary['data'])\n",
        "print(\"DATASET LOADED\")\n",
        "\n",
        "#CONVERTING VALUES\n",
        "print(\"Converting values...\")\n",
        "for i in data:\n",
        "  if(i[-1] == 'Other'): i[-1] = 0\n",
        "  elif(i[-1] == 'Pasto') : i[-1] = 1\n",
        "\n",
        "dataset = data.astype('float32')\n",
        "print(\"CONVERSION DONE\")"
      ],
      "execution_count": 21,
      "outputs": [
        {
          "output_type": "stream",
          "text": [
            "Loading data...\n",
            "DATASET LOADED\n",
            "Converting values...\n",
            "CONVERSION DONE\n"
          ],
          "name": "stdout"
        }
      ]
    },
    {
      "metadata": {
        "id": "aF18iHepiQUl",
        "colab_type": "code",
        "colab": {}
      },
      "cell_type": "code",
      "source": [
        "#SPLIT INTO INPUT (X) AND OUTPUT (Y) VARIABLES\n",
        "s = dataset.shape[-1]\n",
        "#print(s)\n",
        "X = dataset[:,0:s-1]\n",
        "Y = dataset[:,s-1]\n",
        "\n",
        "#print(s-1)\n",
        "\n",
        "n_features = s-1\n",
        "\n",
        "#SPLIT INTO TRAINING, VALIDATION AND TEST SETS\n",
        "train_rate = 80\n",
        "val_rate = 10\n",
        "train = round(int((dataset.shape[0]*train_rate)/100))\n",
        "val = round(int((dataset.shape[0]*(train_rate+val_rate))/100))\n",
        "\n",
        "train_data = X[:train]\n",
        "train_label = Y[:train]\n",
        "\n",
        "val_data = X[train+1:val]\n",
        "val_label = Y[train+1:val]\n",
        "\n",
        "test_data = X[val+1:]\n",
        "test_label = Y[val+1:]\n"
      ],
      "execution_count": 0,
      "outputs": []
    },
    {
      "metadata": {
        "id": "tmWltqYbpoTy",
        "colab_type": "code",
        "outputId": "e7a671d2-33fc-4144-f521-b2b4897010a7",
        "colab": {
          "base_uri": "https://localhost:8080/",
          "height": 319
        }
      },
      "cell_type": "code",
      "source": [
        "#COMPUTE CLASS WEIGHT\n",
        "labels = np.unique(train_label)\n",
        "classWeight = compute_class_weight('balanced', labels, train_label)\n",
        "classWeight = dict(zip(labels,classWeight))\n",
        "\n",
        "#GENERATE MODEL\n",
        "model = generate_model_leaky(train_data.shape[-1], n_features)\n",
        "#model = generate_model(train_data.shape[-1], n_features)\n",
        "\n",
        "#OPTIMIZERS\n",
        "adm = optimizers.Adam(lr=0.0001)\n",
        "\n",
        "#COMPILE MODEL\n",
        "model.compile(loss='binary_crossentropy', optimizer = adm , metrics=['accuracy'])\n",
        "\n",
        "#EARLY STOPPING\n",
        "es = EarlyStopping(monitor='val_loss', min_delta=0, patience=2, verbose=0, mode='auto')\n",
        "\n",
        "#FIT MODEL\n",
        "history = model.fit(train_data, train_label, epochs=10, validation_data = (val_data, val_label), batch_size = 128, shuffle = True, class_weight = classWeight, verbose=1, callbacks = [es])\n",
        "\n",
        "#EVALUATE MODEL\n",
        "scores_test = model.evaluate(test_data, test_label, batch_size=128, verbose = 1)\n",
        "print(\"Test loss: %.2f%%\" % (scores_test[0] * 100))\n",
        "print(\"Test accuracy: %.2f%%\" % (scores_test[1] * 100))\n",
        "\n",
        "#CALCULATE PREDICTIONS AND SAVE IN A CSV FILE\n",
        "pred = model.predict_classes(test_data, batch_size=128, verbose=0)"
      ],
      "execution_count": 23,
      "outputs": [
        {
          "output_type": "stream",
          "text": [
            "Train on 183944 samples, validate on 22992 samples\n",
            "Epoch 1/10\n",
            "183944/183944 [==============================] - 13s 69us/step - loss: 0.5339 - acc: 0.7525 - val_loss: 0.3392 - val_acc: 0.8880\n",
            "Epoch 2/10\n",
            "183944/183944 [==============================] - 11s 59us/step - loss: 0.4179 - acc: 0.8296 - val_loss: 0.2959 - val_acc: 0.8785\n",
            "Epoch 3/10\n",
            "183944/183944 [==============================] - 11s 60us/step - loss: 0.3798 - acc: 0.8397 - val_loss: 0.2583 - val_acc: 0.8794\n",
            "Epoch 4/10\n",
            "183944/183944 [==============================] - 11s 59us/step - loss: 0.3650 - acc: 0.8405 - val_loss: 0.2542 - val_acc: 0.8745\n",
            "Epoch 5/10\n",
            "183944/183944 [==============================] - 11s 62us/step - loss: 0.3524 - acc: 0.8400 - val_loss: 0.2313 - val_acc: 0.8869\n",
            "Epoch 6/10\n",
            "183944/183944 [==============================] - 12s 63us/step - loss: 0.3428 - acc: 0.8432 - val_loss: 0.2527 - val_acc: 0.8758\n",
            "Epoch 7/10\n",
            "183944/183944 [==============================] - 11s 60us/step - loss: 0.3401 - acc: 0.8435 - val_loss: 0.2376 - val_acc: 0.8830\n",
            "22992/22992 [==============================] - 0s 18us/step\n",
            "Test loss: 31.37%\n",
            "Test accuracy: 86.37%\n"
          ],
          "name": "stdout"
        }
      ]
    },
    {
      "metadata": {
        "id": "hby7MMmBM7Kn",
        "colab_type": "code",
        "colab": {}
      },
      "cell_type": "code",
      "source": [
        "#print(pred[0:10])\n",
        "\n",
        "flat_pred = [item for sublist in pred for item in sublist]\n",
        "\n",
        "#print(flat_pred[0:10])"
      ],
      "execution_count": 0,
      "outputs": []
    },
    {
      "metadata": {
        "id": "QgXlzrttjodr",
        "colab_type": "code",
        "outputId": "038e9571-a54b-4b57-b75e-8e1bff7195d8",
        "colab": {
          "base_uri": "https://localhost:8080/",
          "height": 118
        }
      },
      "cell_type": "code",
      "source": [
        "#CONFUSION MATRIX\n",
        "y_true = test_label\n",
        "y_pred = pred\n",
        "tn, fp, fn, tp = confusion_matrix(y_true, y_pred).ravel()\n",
        "print(\"TN\", tn)\n",
        "print(\"FP\", fp)\n",
        "print(\"FN\", fn)\n",
        "print(\"TP\", tp)\n",
        "other = 100*tn/(tn+fp)\n",
        "pasto = 100*tp/(fn+tp)\n",
        "print(\"Other corretti: %.2f %%\" % other)\n",
        "print(\"Pasto corretti: %.2f %%\" % pasto)"
      ],
      "execution_count": 25,
      "outputs": [
        {
          "output_type": "stream",
          "text": [
            "TN 19574\n",
            "FP 2617\n",
            "FN 517\n",
            "TP 284\n",
            "Other corretti: 88.21 %\n",
            "Pasto corretti: 35.46 %\n"
          ],
          "name": "stdout"
        }
      ]
    },
    {
      "metadata": {
        "id": "C5L-xXizgnw5",
        "colab_type": "code",
        "colab": {}
      },
      "cell_type": "code",
      "source": [
        "#model.save('my_model1.h5')\n",
        "#model = load_model('my_model.h5')"
      ],
      "execution_count": 0,
      "outputs": []
    },
    {
      "metadata": {
        "id": "FdMyVCwGXyfF",
        "colab_type": "code",
        "outputId": "5009bd06-83e7-4366-b6a1-1e3adab0a179",
        "colab": {
          "base_uri": "https://localhost:8080/",
          "height": 54
        }
      },
      "cell_type": "code",
      "source": [
        "'''\n",
        "#PLOT RESULTS\n",
        "\n",
        "# summarize history for accuracy\n",
        "plt.plot(history.history['acc'])\n",
        "plt.plot(history.history['val_acc'])\n",
        "plt.title('model accuracy')\n",
        "plt.ylabel('accuracy')\n",
        "plt.xlabel('epoch')\n",
        "plt.legend(['train', 'test'], loc='upper left')\n",
        "plt.show()\n",
        "\n",
        "# summarize history for loss\n",
        "plt.plot(history.history['loss'])\n",
        "plt.plot(history.history['val_loss'])\n",
        "plt.title('model loss')\n",
        "plt.ylabel('loss')\n",
        "plt.xlabel('epoch')\n",
        "plt.legend(['train', 'test'], loc='upper left')\n",
        "plt.show()\n",
        "'''"
      ],
      "execution_count": 27,
      "outputs": [
        {
          "output_type": "execute_result",
          "data": {
            "text/plain": [
              "\"\\n#PLOT RESULTS\\n\\n# summarize history for accuracy\\nplt.plot(history.history['acc'])\\nplt.plot(history.history['val_acc'])\\nplt.title('model accuracy')\\nplt.ylabel('accuracy')\\nplt.xlabel('epoch')\\nplt.legend(['train', 'test'], loc='upper left')\\nplt.show()\\n\\n# summarize history for loss\\nplt.plot(history.history['loss'])\\nplt.plot(history.history['val_loss'])\\nplt.title('model loss')\\nplt.ylabel('loss')\\nplt.xlabel('epoch')\\nplt.legend(['train', 'test'], loc='upper left')\\nplt.show()\\n\""
            ]
          },
          "metadata": {
            "tags": []
          },
          "execution_count": 27
        }
      ]
    },
    {
      "metadata": {
        "id": "j2O-yJA8EJfQ",
        "colab_type": "code",
        "outputId": "8f55d7ef-d9b8-47c9-8728-ef8c4f6e2c20",
        "colab": {
          "base_uri": "https://localhost:8080/",
          "height": 54
        }
      },
      "cell_type": "code",
      "source": [
        "'''\n",
        "#LOAD SENSORE DATA\n",
        "datasetSensor = '/root/data/6_uHoo_featureDataset_Reduced.arff'\n",
        "\n",
        "with open (datasetSensor, encoding='utf-8') as fs:\n",
        "  dataSensor = arff.load(fs)\n",
        "\n",
        "dataS = np.array(dataSensor['data'])\n",
        "\n",
        "#CONVERTING VALUES\n",
        "for i in dataS:\n",
        "  if(i[-1] == 'Other'): i[-1] = 0\n",
        "  else : i[-1] = 1\n",
        "\n",
        "#TEST DATA SENSOR \n",
        "dataT = dataS[val+1:]\n",
        "\n",
        "new_rows = []\n",
        "'''\n",
        "'''\n",
        "for i,j,z in zip(dataT, test_label, pred):\n",
        "  new_dict = {}\n",
        "  new_dict['Datetime'] = i[2]\n",
        "  new_dict['Temperature'] = i[0]\n",
        "  new_dict['CO2'] =  i[1]\n",
        "  new_dict['Actual'] = j\n",
        "  new_dict['Predicted'] = z\n",
        "\n",
        "  new_rows.append(new_dict)\n",
        "'''\n",
        "\n",
        "'''\n",
        "for i,z in zip(dataT, pred):\n",
        "  new_dict = {}\n",
        "  new_dict['Datetime'] = i[2]\n",
        "  new_dict['Temperature'] = i[0]\n",
        "  new_dict['CO2'] =  i[1]\n",
        "  new_dict['Actual'] = i[-1]\n",
        "  new_dict['Predicted'] = z\n",
        "\n",
        "  new_rows.append(new_dict)\n",
        "\n",
        "\n",
        "keys = new_rows[0].keys()\n",
        "\n",
        "\n",
        "with open(\"/root/data/out.csv\", \"w\", newline='') as o:\n",
        "  w = csv.DictWriter(o, keys)\n",
        "  w.writeheader()\n",
        "  w.writerows(new_rows)\n",
        "  \n",
        "\n",
        "j=0\n",
        "mis_pasto = []\n",
        "mis_other = []\n",
        "\n",
        "for i in new_rows:\n",
        "    if(i['Actual'] == 1 and i['Predicted'] == 0):\n",
        "            mis_pasto.append(j)\n",
        "    elif(i['Actual'] == 0 and i['Predicted'] == 1):\n",
        "            mis_other.append(j)\n",
        "    j+=1\n",
        "'''\n",
        "'''\n",
        "plt.figure(1)\n",
        "plt.title('Temperature / Misclassified Pasto')\n",
        "plt.plot([data['Temperature'] for data in new_rows],'g',linewidth=1, marker='8', markersize=5, markerfacecolor='red',markevery=mis_pasto)\n",
        "plt.draw()\n",
        "plt.savefig('/root/data/Temperature_Misclassified Pasto.svg')\n",
        "\n",
        "plt.figure(2)\n",
        "plt.title('Temperature / Misclassified Other')\n",
        "plt.plot([data['Temperature'] for data in new_rows],'g',linewidth=1,marker='8', markersize=5, markerfacecolor='black',markevery=mis_other)\n",
        "plt.draw()\n",
        "plt.savefig('/root/data/Temperature_Misclassified Other.svg')\n",
        "\n",
        "plt.figure(3)\n",
        "plt.title('CO2 / Misclassified Pasto')\n",
        "plt.plot([data['CO2'] for data in new_rows],'b',linewidth=1, marker='8', markersize=5, markerfacecolor='red',markevery=mis_pasto)\n",
        "plt.draw()\n",
        "plt.savefig('/root/data/CO2_Misclassified Pasto.svg')\n",
        "\n",
        "plt.figure(4)\n",
        "plt.title('CO2 / Misclassified Other')\n",
        "plt.plot([data['CO2'] for data in new_rows],'b',linewidth=1,marker='8', markersize=5, markerfacecolor='black',markevery=mis_other)\n",
        "plt.draw()\n",
        "plt.savefig('/root/data/CO2_Misclassified Other.svg')\n",
        "\n",
        "plt.show()\n",
        "'''\n"
      ],
      "execution_count": 28,
      "outputs": [
        {
          "output_type": "execute_result",
          "data": {
            "text/plain": [
              "\"\\nplt.figure(1)\\nplt.title('Temperature / Misclassified Pasto')\\nplt.plot([data['Temperature'] for data in new_rows],'g',linewidth=1, marker='8', markersize=5, markerfacecolor='red',markevery=mis_pasto)\\nplt.draw()\\nplt.savefig('/root/data/Temperature_Misclassified Pasto.svg')\\n\\nplt.figure(2)\\nplt.title('Temperature / Misclassified Other')\\nplt.plot([data['Temperature'] for data in new_rows],'g',linewidth=1,marker='8', markersize=5, markerfacecolor='black',markevery=mis_other)\\nplt.draw()\\nplt.savefig('/root/data/Temperature_Misclassified Other.svg')\\n\\nplt.figure(3)\\nplt.title('CO2 / Misclassified Pasto')\\nplt.plot([data['CO2'] for data in new_rows],'b',linewidth=1, marker='8', markersize=5, markerfacecolor='red',markevery=mis_pasto)\\nplt.draw()\\nplt.savefig('/root/data/CO2_Misclassified Pasto.svg')\\n\\nplt.figure(4)\\nplt.title('CO2 / Misclassified Other')\\nplt.plot([data['CO2'] for data in new_rows],'b',linewidth=1,marker='8', markersize=5, markerfacecolor='black',markevery=mis_other)\\nplt.draw()\\nplt.savefig('/root/data/CO2_Misclassified Other.svg')\\n\\nplt.show()\\n\""
            ]
          },
          "metadata": {
            "tags": []
          },
          "execution_count": 28
        }
      ]
    },
    {
      "metadata": {
        "id": "ivXVv6yGJBqx",
        "colab_type": "code",
        "outputId": "26d644bd-c878-4a9c-b487-828b3b6d8962",
        "colab": {
          "base_uri": "https://localhost:8080/",
          "height": 363
        }
      },
      "cell_type": "code",
      "source": [
        "import sys\n",
        "sys.path.append('local_modules')\n",
        "\n",
        "#import postprocessing_sliding\n",
        "\n",
        "#lista = [0,1,1,0,0,0,1,1,1,1,1,0,0,0,1,1,0,0,0,0,0]\n",
        "#new_pred = postprocessing_sliding.sliding_windows(flat_pred)\n",
        "#print(new_pred)\n",
        "\n",
        "import postprocessing_Silvia\n",
        "\n",
        "new_pred = postprocessing_Silvia.setWidth(flat_pred)\n",
        "print(new_pred)"
      ],
      "execution_count": 29,
      "outputs": [
        {
          "output_type": "error",
          "ename": "ModuleNotFoundError",
          "evalue": "ignored",
          "traceback": [
            "\u001b[0;31m---------------------------------------------------------------------------\u001b[0m",
            "\u001b[0;31mModuleNotFoundError\u001b[0m                       Traceback (most recent call last)",
            "\u001b[0;32m<ipython-input-29-648eb3a07779>\u001b[0m in \u001b[0;36m<module>\u001b[0;34m()\u001b[0m\n\u001b[1;32m      8\u001b[0m \u001b[0;31m#print(new_pred)\u001b[0m\u001b[0;34m\u001b[0m\u001b[0;34m\u001b[0m\u001b[0;34m\u001b[0m\u001b[0m\n\u001b[1;32m      9\u001b[0m \u001b[0;34m\u001b[0m\u001b[0m\n\u001b[0;32m---> 10\u001b[0;31m \u001b[0;32mimport\u001b[0m \u001b[0mpostprocessing_Silvia\u001b[0m\u001b[0;34m\u001b[0m\u001b[0;34m\u001b[0m\u001b[0m\n\u001b[0m\u001b[1;32m     11\u001b[0m \u001b[0;34m\u001b[0m\u001b[0m\n\u001b[1;32m     12\u001b[0m \u001b[0mnew_pred\u001b[0m \u001b[0;34m=\u001b[0m \u001b[0mpostprocessing_Silvia\u001b[0m\u001b[0;34m.\u001b[0m\u001b[0msetWidth\u001b[0m\u001b[0;34m(\u001b[0m\u001b[0mflat_pred\u001b[0m\u001b[0;34m)\u001b[0m\u001b[0;34m\u001b[0m\u001b[0;34m\u001b[0m\u001b[0m\n",
            "\u001b[0;31mModuleNotFoundError\u001b[0m: No module named 'postprocessing_Silvia'",
            "",
            "\u001b[0;31m---------------------------------------------------------------------------\u001b[0;32m\nNOTE: If your import is failing due to a missing package, you can\nmanually install dependencies using either !pip or !apt.\n\nTo view examples of installing some common dependencies, click the\n\"Open Examples\" button below.\n\u001b[0;31m---------------------------------------------------------------------------\u001b[0m\n"
          ]
        }
      ]
    },
    {
      "metadata": {
        "id": "k4hOrVxVRhQI",
        "colab_type": "code",
        "colab": {}
      },
      "cell_type": "code",
      "source": [
        "print(\"New results:\")\n",
        "y_true = test_label\n",
        "y_pred = new_pred\n",
        "tn, fp, fn, tp = confusion_matrix(y_true, y_pred).ravel()\n",
        "print(\"TN\", tn)\n",
        "print(\"FP\", fp)\n",
        "print(\"FN\", fn)\n",
        "print(\"TP\", tp)\n",
        "other = 100*tn/(tn+fp)\n",
        "pasto = 100*tp/(fn+tp)\n",
        "print(\"Other corretti: %.2f %%\" % other)\n",
        "print(\"Pasto corretti: %.2f %%\" % pasto)"
      ],
      "execution_count": 0,
      "outputs": []
    }
  ]
}