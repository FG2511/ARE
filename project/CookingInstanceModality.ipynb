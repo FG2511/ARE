{
  "nbformat": 4,
  "nbformat_minor": 0,
  "metadata": {
    "colab": {
      "name": "CookingInstanceModality.ipynb",
      "version": "0.3.2",
      "provenance": [],
      "include_colab_link": true
    },
    "kernelspec": {
      "name": "python3",
      "display_name": "Python 3"
    }
  },
  "cells": [
    {
      "cell_type": "markdown",
      "metadata": {
        "id": "view-in-github",
        "colab_type": "text"
      },
      "source": [
        "<a href=\"https://colab.research.google.com/github/FG2511/ARE/blob/master/project/CookingInstanceModality.ipynb\" target=\"_parent\"><img src=\"https://colab.research.google.com/assets/colab-badge.svg\" alt=\"Open In Colab\"/></a>"
      ]
    },
    {
      "metadata": {
        "id": "4LjrddKhDYDH",
        "colab_type": "code",
        "colab": {}
      },
      "cell_type": "code",
      "source": [
        "!mkdir -p local_modules/cooking_inst_mod"
      ],
      "execution_count": 0,
      "outputs": []
    },
    {
      "metadata": {
        "id": "IcRLshMyDr4p",
        "colab_type": "code",
        "outputId": "6075fe67-9624-47e0-d1e8-4c9124d6ad23",
        "colab": {
          "base_uri": "https://localhost:8080/",
          "height": 34
        }
      },
      "cell_type": "code",
      "source": [
        "%%writefile local_modules/cooking_inst_mod/__init__.py\n",
        "\n",
        "def get_precision_recall_f1(p, r): \n",
        "  index_pred = []\n",
        "  index_real = []\n",
        "\n",
        "  prediction_meals = []\n",
        "  real_meals = []\n",
        "\n",
        "  #p = flat_pred\n",
        "  #r = test_label\n",
        "\n",
        "  #Costruzione delle liste di indici: una di pasti predetti e una di pasti reali\n",
        "\n",
        "  for i in range(0, len(p)-1):\n",
        "    if p[i] == 1:\n",
        "      index_pred.append(i)\n",
        "      if (p[i+1] == 0): \n",
        "        if(len(index_pred)>5):        \n",
        "          prediction_meals.append(index_pred)\n",
        "        index_pred = []\n",
        "    if r[i] == 1:\n",
        "      index_real.append(i)\n",
        "      if (r[i+1] == 0): \n",
        "        real_meals.append(index_real)\n",
        "        index_real = []\n",
        "\n",
        "  #Ricerca delle intersezioni\n",
        "\n",
        "  intersection = [] #contiene 1 se per un pasto reale j è stata già segnata un'intersezione \n",
        "  tp = 0\n",
        "  fp = 0\n",
        "\n",
        "  for i in range(0, len(real_meals)): #inizializzazione a 0 per l'array di intersezioni\n",
        "    intersection.append(0)\n",
        "\n",
        "  for i in range(0, len(prediction_meals)): #per ogni pasto predetto\n",
        "    flag_found = 0 #per tenere conto se l'intersezione è già stata trovata all'interno dei pasti reali\n",
        "    count_int = 0 #tiene conto del numero di intersezioni che un pasto predetto ha con i pasti reali (per il caso in cui un pasto pred intersechi due pasti reali)\n",
        "\n",
        "    for j in range(0, len(real_meals)):# per ogni pasto reale    \n",
        "      flag_visited = 0 #tiene conto se un pasto di prediction meals è già stato analizzato (per il caso in cui due pasti pred intersechino un unico pasto reale)\n",
        "\n",
        "      for x in prediction_meals[i]: #per ogni minuto di pasto controllo se esiste un'intersezione dentro real meals\n",
        "\n",
        "        if x in real_meals[j]: #se c'è l'intersezione        \n",
        "\n",
        "          if intersection[j]==0: #ciò significa che non è mai stata trovata un intersezione per il pasto reale j-esimo\n",
        "\n",
        "            if count_int == 0: #controlla che non siano ancora state trovate intersezioni  \n",
        "              count_int = count_int + 1\n",
        "              intersection[j] = 1\n",
        "              flag_visited = 1 #imposta il flag a uno per indicare che il pasto reale è stato già analizzato e per non contare più di una volta il tp trovato\n",
        "              flag_found = 1 #imposta il flag a uno per indicare che il pasto predetto è stato trovato nei pasti reali\n",
        "              tp=tp+1\n",
        "\n",
        "            elif count_int > 0: #caso in cui un pasto pred interseca due pasti reali e quindi un tp è già stato trovato in precedenza (produce un falso positivo e un vero positivo)           \n",
        "              intersection[j] = 1\n",
        "              flag_visited = 1 #imposta il flag a uno per indicare che il pasto reale è stato già analizzato e per non contare più di una volta il tp e il fp trovati\n",
        "              flag_found = 1            \n",
        "              fp=fp+1\n",
        "              tp=tp+1\n",
        "\n",
        "          elif flag_visited == 0: #caso in cui l'intersezione per il pasto reale j-esimo è già stata trovata ma tale pasto non è ancora stato analizzato con il pasto predetto i-esimo\n",
        "                                  #risolve il caso in cui più pasti pred intersecano un unico pasto reale\n",
        "            flag_found = 1\n",
        "            flag_visited = 1\n",
        "    #end for j\n",
        "\n",
        "    if flag_found == 0: #se l'intersezione nn è stata trovata nei pasti reali il pasto predetto è falso positivo\n",
        "      fp=fp+1\n",
        "    \n",
        "    \n",
        "  #Ricerca falsi negativi\n",
        "\n",
        "  fn = 0\n",
        "\n",
        "  for i in range(0, len(real_meals)): #per ogni pasto reale\n",
        "    j=0\n",
        "    flag_found = 0\n",
        "    while j in range(0, len(prediction_meals)) and flag_found==0: # per ogni pasto predetto finchè non viene trovato tra questi l'intersezione con il pasto i-esimo\n",
        "\n",
        "      for x in real_meals[i]: #per ogni minuto di pasto controllo se esiste un'intersezione dentro prediction_meals\n",
        "\n",
        "        if x in prediction_meals[j]: #se c'è l'intersezione        \n",
        "          flag_found = 1 #imposta il flag a uno per indicare che il pasto reale è stato trovato nei pasti predetti\n",
        "\n",
        "      j = j + 1  \n",
        "    #end while j\n",
        "\n",
        "    if flag_found == 0: #se l'intersezione del pasto reale non è stata trovata nei pasti predetti siamo in corrispondenza di un falso negativo\n",
        "      fn=fn+1\n",
        "\n",
        "\n",
        "  print(\"N° pasti reali:\", len(real_meals))\n",
        "  print(\"N° pasti predetti:\", len(prediction_meals))\n",
        "\n",
        "  print(\"TP:\", tp)\n",
        "  print(\"FP:\", fp)\n",
        "  print(\"FN:\", fn)\n",
        "\n",
        "  somma = tp+fp\n",
        "  precision = (tp/(tp+fp))*100\n",
        "  TPR = (tp/(tp+fn))*100\n",
        "  F1 = 2*((precision*TPR)/(precision+TPR))\n",
        "  print(\"Recall: %.2f %%\" % TPR)\n",
        "  print(\"Precision: %.2f %%\" % precision)\n",
        "  print(\"F1 score: %.2f %%\" % F1)"
      ],
      "execution_count": 0,
      "outputs": [
        {
          "output_type": "stream",
          "text": [
            "Writing local_modules/cooking_inst_mod/__init__.py\n"
          ],
          "name": "stdout"
        }
      ]
    }
  ]
}