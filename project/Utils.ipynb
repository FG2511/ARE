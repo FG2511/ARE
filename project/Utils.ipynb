{
  "nbformat": 4,
  "nbformat_minor": 0,
  "metadata": {
    "colab": {
      "name": "Utils.ipynb",
      "version": "0.3.2",
      "provenance": [],
      "include_colab_link": true
    },
    "kernelspec": {
      "name": "python3",
      "display_name": "Python 3"
    }
  },
  "cells": [
    {
      "cell_type": "markdown",
      "metadata": {
        "id": "view-in-github",
        "colab_type": "text"
      },
      "source": [
        "<a href=\"https://colab.research.google.com/github/FG2511/ARE/blob/master/project/Utils.ipynb\" target=\"_parent\"><img src=\"https://colab.research.google.com/assets/colab-badge.svg\" alt=\"Open In Colab\"/></a>"
      ]
    },
    {
      "metadata": {
        "id": "wHvZ2tsRHZUZ",
        "colab_type": "code",
        "colab": {}
      },
      "cell_type": "code",
      "source": [
        "!mkdir -p local_modules/utils"
      ],
      "execution_count": 0,
      "outputs": []
    },
    {
      "metadata": {
        "id": "YhhZ8-8THdzb",
        "colab_type": "code",
        "outputId": "30ed81c6-7471-4074-d47d-531f3bf2c24e",
        "colab": {
          "base_uri": "https://localhost:8080/",
          "height": 34
        }
      },
      "cell_type": "code",
      "source": [
        "%%writefile local_modules/utils/__init__.py\n",
        "\n",
        "import csv\n",
        "import arff\n",
        "from sklearn.metrics import confusion_matrix\n",
        "\n",
        "def compute_metrics(y_true, y_pred):\n",
        "  \n",
        "  tn, fp, fn, tp = confusion_matrix(y_true, y_pred).ravel()\n",
        "  print(\"TN\", tn)\n",
        "  print(\"FP\", fp)\n",
        "  print(\"FN\", fn)\n",
        "  print(\"TP\", tp)\n",
        "  \n",
        "  accuracy = 100*(tp+tn)/(tp+tn+fp+fn)\n",
        "  tnr = 100*tn/(tn+fp)\n",
        "  tpr = 100*tp/(fn+tp)\n",
        "  precision = 100*(tp/(tp+fp))\n",
        "  F1 = 2*((precision*tpr)/(precision+tpr))\n",
        "  \n",
        "  print(\"ACCURACY: %.2f %%\" % accuracy)\n",
        "  print(\"TRUE NEGATIVE RATE (SPECIFICITY): %.2f %%\" % tnr)\n",
        "  print(\"TRUE POSITIVE RATE (RECALL): %.2f %%\" % tpr)\n",
        "  print(\"PRECISION: %.2f %%\" % precision)\n",
        "  print(\"F1 SCORE: %.2f %%\" % F1)\n",
        "\n",
        "  \n",
        "def create_pred_csv(pred):\n",
        "  \n",
        "  #LOAD SENSOR DATA\n",
        "  datasetSensor = '/root/data/uHooComplete_featureDataset_Reduced.arff'\n",
        "\n",
        "  with open (datasetSensor, encoding='utf-8') as fs:\n",
        "    dataSensor = arff.load(fs)\n",
        "\n",
        "  dataS = np.array(dataSensor['data'])\n",
        "\n",
        "  #CONVERTING VALUES\n",
        "  for i in dataS:\n",
        "    if(i[-1] == 'Other'): i[-1] = 0\n",
        "    else : i[-1] = 1\n",
        "\n",
        "  new_rows = []\n",
        "\n",
        "  for i,z in zip(dataS, pred):\n",
        "    new_dict = {}\n",
        "    new_dict['Datetime'] = i[2]\n",
        "    new_dict['Actual'] = i[-1]\n",
        "    new_dict['Predicted'] = z\n",
        "\n",
        "    new_rows.append(new_dict)\n",
        "\n",
        "\n",
        "  keys = new_rows[0].keys()\n",
        "\n",
        "\n",
        "  with open(\"/root/data/out_pred.csv\", \"w\", newline='') as o:\n",
        "    w = csv.DictWriter(o, keys)\n",
        "    w.writeheader()\n",
        "    w.writerows(new_rows)"
      ],
      "execution_count": 4,
      "outputs": [
        {
          "output_type": "stream",
          "text": [
            "Overwriting local_modules/utils/__init__.py\n"
          ],
          "name": "stdout"
        }
      ]
    }
  ]
}