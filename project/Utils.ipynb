{
  "nbformat": 4,
  "nbformat_minor": 0,
  "metadata": {
    "colab": {
      "name": "Utils.ipynb",
      "version": "0.3.2",
      "provenance": [],
      "include_colab_link": true
    },
    "kernelspec": {
      "name": "python3",
      "display_name": "Python 3"
    }
  },
  "cells": [
    {
      "cell_type": "markdown",
      "metadata": {
        "id": "view-in-github",
        "colab_type": "text"
      },
      "source": [
        "<a href=\"https://colab.research.google.com/github/FG2511/ARE/blob/master/project/Utils.ipynb\" target=\"_parent\"><img src=\"https://colab.research.google.com/assets/colab-badge.svg\" alt=\"Open In Colab\"/></a>"
      ]
    },
    {
      "metadata": {
        "id": "wHvZ2tsRHZUZ",
        "colab_type": "code",
        "colab": {}
      },
      "cell_type": "code",
      "source": [
        "!mkdir -p local_modules/utils"
      ],
      "execution_count": 0,
      "outputs": []
    },
    {
      "metadata": {
        "id": "YhhZ8-8THdzb",
        "colab_type": "code",
        "colab": {
          "base_uri": "https://localhost:8080/",
          "height": 34
        },
        "outputId": "7b4ec654-272a-4254-fe1c-dbc882e45f96"
      },
      "cell_type": "code",
      "source": [
        "%%writefile local_modules/utils/__init__.py\n",
        "\n",
        "from sklearn.metrics import confusion_matrix\n",
        "\n",
        "def compute_metrics(y_true, y_pred):\n",
        "  \n",
        "  tn, fp, fn, tp = confusion_matrix(y_true, y_pred).ravel()\n",
        "  print(\"TN\", tn)\n",
        "  print(\"FP\", fp)\n",
        "  print(\"FN\", fn)\n",
        "  print(\"TP\", tp)\n",
        "  accuracy = 100*(tp+tn)/(tp+tn+fp+fn)\n",
        "  tnr = 100*tn/(tn+fp)\n",
        "  tpr = 100*tp/(fn+tp)\n",
        "  precision = 100*(tp/(tp+fp))\n",
        "  F1 = 2*((precision*tpr)/(precision+tpr))\n",
        "  print(\"ACCURACY: %.2f %%\" % accuracy)\n",
        "  print(\"TRUE NEGATIVE RATE (SPECIFICITY): %.2f %%\" % tnr)\n",
        "  print(\"TRUE POSITIVE RATE (RECALL): %.2f %%\" % tpr)\n",
        "  print(\"PRECISION: %.2f %%\" % precision)\n",
        "  print(\"F1 SCORE: %.2f %%\" % F1)"
      ],
      "execution_count": 6,
      "outputs": [
        {
          "output_type": "stream",
          "text": [
            "Overwriting local_modules/utils/__init__.py\n"
          ],
          "name": "stdout"
        }
      ]
    }
  ]
}