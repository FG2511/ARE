{
  "nbformat": 4,
  "nbformat_minor": 0,
  "metadata": {
    "colab": {
      "name": "Untitled1.ipynb",
      "version": "0.3.2",
      "provenance": [],
      "include_colab_link": true
    },
    "kernelspec": {
      "name": "python3",
      "display_name": "Python 3"
    }
  },
  "cells": [
    {
      "cell_type": "markdown",
      "metadata": {
        "id": "view-in-github",
        "colab_type": "text"
      },
      "source": [
        "<a href=\"https://colab.research.google.com/github/FG2511/ARE/blob/master/Untitled1_mod.ipynb\" target=\"_parent\"><img src=\"https://colab.research.google.com/assets/colab-badge.svg\" alt=\"Open In Colab\"/></a>"
      ]
    },
    {
      "metadata": {
        "id": "es1QNeagKwIH",
        "colab_type": "code",
        "outputId": "a061b288-fb35-42c3-e11d-c73d9aadf4d7",
        "colab": {
          "base_uri": "https://localhost:8080/",
          "height": 34
        }
      },
      "cell_type": "code",
      "source": [
        "!pip install more-itertools"
      ],
      "execution_count": 8,
      "outputs": [
        {
          "output_type": "stream",
          "text": [
            "Requirement already satisfied: more-itertools in /usr/local/lib/python3.6/dist-packages (6.0.0)\n"
          ],
          "name": "stdout"
        }
      ]
    },
    {
      "metadata": {
        "id": "OwiVRY71K9_N",
        "colab_type": "code",
        "colab": {}
      },
      "cell_type": "code",
      "source": [
        "import more_itertools"
      ],
      "execution_count": 0,
      "outputs": []
    },
    {
      "metadata": {
        "id": "yKmxp8ouKzug",
        "colab_type": "code",
        "colab": {}
      },
      "cell_type": "code",
      "source": [
        "lista = [0,1,1,0,0,0,1,1,1,1,1,0,0,0,1,1,0,0,0,0,0]\n",
        "windowsList = list(more_itertools.windowed(lista,n=5, step=1))\n",
        "\n",
        "result = [];\n",
        "result.append(lista[0])\n",
        "result.append(lista[1])"
      ],
      "execution_count": 0,
      "outputs": []
    },
    {
      "metadata": {
        "id": "oTTnzgYQSYPG",
        "colab_type": "code",
        "colab": {}
      },
      "cell_type": "code",
      "source": [
        "i = 0 \n",
        "\n",
        "while i < len(windowsList): \n",
        "  count = 0\n",
        "  c = windowsList[i][2]\n",
        "\n",
        "  j=0  \n",
        "  while j < 5:\n",
        "    if windowsList[i][j] == c :\n",
        "      count = count + 1\n",
        "    j = j + 1\n",
        "  \n",
        "  if count<3 :\n",
        "    if c == 1:\n",
        "      result.append(0)\n",
        "    else:\n",
        "      result.append(1)\n",
        "  else:\n",
        "    result.append(c)\n",
        "    \n",
        "  i = i + 1\n",
        "\n",
        "result.append(lista[-2])\n",
        "result.append(lista[-1])"
      ],
      "execution_count": 0,
      "outputs": []
    },
    {
      "metadata": {
        "id": "P5RraBzOdKWH",
        "colab_type": "code",
        "outputId": "b0343be1-5241-4f3f-f131-2df39a8212b8",
        "colab": {
          "base_uri": "https://localhost:8080/",
          "height": 50
        }
      },
      "cell_type": "code",
      "source": [
        "print(lista)\n",
        "print(result)"
      ],
      "execution_count": 12,
      "outputs": [
        {
          "output_type": "stream",
          "text": [
            "[0, 1, 1, 0, 0, 0, 1, 1, 1, 1, 1, 0, 0, 0, 1, 1, 0, 0, 0, 0, 0]\n",
            "[0, 1, 0, 0, 0, 0, 1, 1, 1, 1, 1, 0, 0, 0, 0, 0, 0, 0, 0, 0, 0]\n"
          ],
          "name": "stdout"
        }
      ]
    }
  ]
}