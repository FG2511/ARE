{
  "nbformat": 4,
  "nbformat_minor": 0,
  "metadata": {
    "colab": {
      "name": "model1.ipynb",
      "version": "0.3.2",
      "provenance": [],
      "collapsed_sections": [],
      "include_colab_link": true
    },
    "kernelspec": {
      "name": "python3",
      "display_name": "Python 3"
    }
  },
  "cells": [
    {
      "cell_type": "markdown",
      "metadata": {
        "id": "view-in-github",
        "colab_type": "text"
      },
      "source": [
        "<a href=\"https://colab.research.google.com/github/FG2511/ARE/blob/master/high_level_postprocessing/model1.ipynb\" target=\"_parent\"><img src=\"https://colab.research.google.com/assets/colab-badge.svg\" alt=\"Open In Colab\"/></a>"
      ]
    },
    {
      "metadata": {
        "id": "hu-_5aP7LlL6",
        "colab_type": "code",
        "outputId": "6b4856c1-ca51-4d6c-dda3-30004d39aedc",
        "colab": {
          "base_uri": "https://localhost:8080/",
          "height": 52
        }
      },
      "cell_type": "code",
      "source": [
        "'''\n",
        "@File name: model1.ipynb\n",
        "@Created on 2018-12-20\n",
        "@Authors: Federica Gerina, Francesca Moi, Silvia Maria Massa\n",
        "@Description: Given a time-series dataset that contains minute-by-minute data \n",
        "about different kind of gases, collected by the uHoo air quality sensor, train\n",
        "a NN that classifies if a minute belongs to the class \"Pasto\" (1) otherwise to\n",
        "the class \"Other\" (0).\n",
        "'''\n",
        "\n",
        "!pip install liac-arff\n",
        "\n",
        "import arff\n",
        "import numpy as np\n",
        "\n",
        "from keras import optimizers\n",
        "from keras.models import Sequential\n",
        "from keras.models import load_model\n",
        "from keras.layers import Dense, Dropout, LeakyReLU, BatchNormalization, Activation\n",
        "from keras.callbacks import EarlyStopping\n",
        "\n",
        "from sklearn.utils import compute_class_weight\n",
        "from sklearn.metrics import confusion_matrix\n",
        "\n",
        "import sys\n",
        "sys.path.append('local_modules')\n",
        "\n",
        "#import postprocessing_sliding\n",
        "#import postprocessing_Silvia\n",
        "#import plotting\n",
        "\n",
        "import postprocessing_sw_HL\n",
        "\n",
        "import more_itertools"
      ],
      "execution_count": 1,
      "outputs": [
        {
          "output_type": "stream",
          "text": [
            "Requirement already satisfied: liac-arff in /usr/local/lib/python3.6/dist-packages (2.4.0)\n"
          ],
          "name": "stdout"
        },
        {
          "output_type": "stream",
          "text": [
            "Using TensorFlow backend.\n"
          ],
          "name": "stderr"
        }
      ]
    },
    {
      "metadata": {
        "id": "DJ0SubdGw6LA",
        "colab_type": "code",
        "colab": {}
      },
      "cell_type": "code",
      "source": [
        "#fix random seed for reproducibility\n",
        "seed = 5\n",
        "np.random.seed(seed)"
      ],
      "execution_count": 0,
      "outputs": []
    },
    {
      "metadata": {
        "id": "yKvmDiR9NgBO",
        "colab_type": "code",
        "colab": {}
      },
      "cell_type": "code",
      "source": [
        "'''\n",
        "@Description: generate a multilayer perceptron with LeakyRelu as activation\n",
        "function.\n",
        "@param: \n",
        "  - shape : int, the shape of the input\n",
        "  - n_features: int, the number of features given\n",
        "'''\n",
        "\n",
        "#MODELLO 1\n",
        "#REGOLA: input/2, input, 2*input, 1\n",
        "#layers TUTTE LE FEATURE: 57, 113, 226, 1 \n",
        "#layers TIME CO2 TEMP: 21, 41, 82, 1 \n",
        "#layers TIME CO2 TEMP PM25/TVOC: 30, 59, 118, 1 \n",
        "#layers TIME CO2 TEMP PM25 TVOC: 39, 77, 154, 1 \n",
        "\n",
        "\n",
        "def generate_model_leaky(shape, n_features):\n",
        "\n",
        "  units_1 = int(n_features/2)\n",
        "  units_2 = n_features\n",
        "  units_3 = n_features*2\n",
        "\n",
        "  model = Sequential()\n",
        "  model.add(BatchNormalization())\n",
        "  \n",
        "  model.add(Dense(units_1, input_dim=shape, kernel_initializer='random_uniform',  use_bias = False))\n",
        "  model.add(BatchNormalization())\n",
        "  model.add(LeakyReLU(alpha = 0.2))\n",
        "  model.add(Dropout(0.5))\n",
        "  \n",
        "  model.add(Dense(units_2, kernel_initializer='random_uniform',  use_bias = False))\n",
        "  model.add(BatchNormalization())\n",
        "  model.add(LeakyReLU(alpha = 0.2))\n",
        "  model.add(Dropout(0.5))\n",
        "  \n",
        "  model.add(Dense(units_3, kernel_initializer='random_uniform',  use_bias = False))\n",
        "  model.add(BatchNormalization())\n",
        "  model.add(LeakyReLU(alpha = 0.2))\n",
        "  model.add(Dropout(0.5))\n",
        "  \n",
        "  model.add(Dense(1, activation='sigmoid'))\n",
        "  #print(model.summary())\n",
        "\n",
        "  return model"
      ],
      "execution_count": 0,
      "outputs": []
    },
    {
      "metadata": {
        "id": "GNvDfgeB13JC",
        "colab_type": "code",
        "colab": {}
      },
      "cell_type": "code",
      "source": [
        "'''\n",
        "@Description: generate a multilayer perceptron with Relu as activation\n",
        "function.\n",
        "@param: \n",
        "  - shape : int, the shape of the input\n",
        "  - n_features: int, the number of features given\n",
        "'''\n",
        "\n",
        "#MODELLO 2\n",
        "#REGOLA: a= input, b= a*2/3+c, c= b*2/3+1\n",
        "#layers TUTTE LE FEATURE: 113, 229, 153, 1\n",
        "#layers TIME CO2 TEMP: 41, 85, 57, 1 \n",
        "#layers TIME CO2 TEMP PM25/TVOC: 59, 121, 81, 1 \n",
        "#layers TIME CO2 TEMP PM25 TVOC: 77, 157, 105, 1 \n",
        "\n",
        "def generate_model(shape, n_features):\n",
        "  \n",
        "  a = np.array([[1,0,0],[-(2/3),1,-1],[0,-(2/3),1]])\n",
        "  b = np.array([n_features,0,1])\n",
        "  x = np.linalg.solve(a, b)\n",
        "\n",
        "  units_1 = int(x[0])\n",
        "  units_2 = int(x[1])\n",
        "  units_3 = int(x[2])\n",
        "\n",
        "  model = Sequential()\n",
        " \n",
        "  model.add(Dense(units_1, input_dim=shape, kernel_initializer='random_uniform', use_bias = False))\n",
        "  model.add(BatchNormalization())\n",
        "  model.add(Activation('relu'))\n",
        "  model.add(Dropout(0,5))\n",
        "  \n",
        "  model.add(Dense(units_2, kernel_initializer='random_uniform', use_bias = False))\n",
        "  model.add(BatchNormalization())\n",
        "  model.add(Activation('relu'))\n",
        "  model.add(Dropout(0,5))\n",
        "  \n",
        "  model.add(Dense(units_3, kernel_initializer='random_uniform', use_bias = False))\n",
        "  model.add(BatchNormalization())\n",
        "  model.add(Activation('relu'))\n",
        "  model.add(Dropout(0,5))\n",
        "  \n",
        "  model.add(Dense(1, activation='sigmoid'))\n",
        "  #print(model.summary())\n",
        "\n",
        "  return model"
      ],
      "execution_count": 0,
      "outputs": []
    },
    {
      "metadata": {
        "colab_type": "code",
        "id": "o99ibbgGHANE",
        "outputId": "ce0a4819-6967-4483-9022-3069bb8f850d",
        "colab": {
          "base_uri": "https://localhost:8080/",
          "height": 1050
        }
      },
      "cell_type": "code",
      "source": [
        "#@title SCEGLI IL DATASET E IL MODELLO\n",
        "\n",
        "'''\n",
        "@Description: MAIN\n",
        "'''\n",
        "\n",
        "#LOAD DATA\n",
        "print(\"Loading data...\")\n",
        "\n",
        "dataset = '/root/data/uHooComplete_featureDataset.arff' #@param {type:\"string\"}\n",
        "\n",
        "with open (dataset, encoding='utf-8') as f:\n",
        "  dataDictionary = arff.load(f)\n",
        "\n",
        "data = np.array(dataDictionary['data'])\n",
        "print(\"DATASET LOADED\")\n",
        "\n",
        "#CONVERTING VALUES\n",
        "print(\"\\nConverting values...\")\n",
        "for i in data:\n",
        "  if(i[-1] == 'Other'): i[-1] = 0\n",
        "  elif(i[-1] == 'Pasto') : i[-1] = 1\n",
        "\n",
        "dataset = data.astype('float32')\n",
        "print(\"CONVERSION DONE\")\n",
        "\n",
        "#SPLIT INTO INPUT (X) AND OUTPUT (Y) VARIABLES\n",
        "s = dataset.shape[-1]\n",
        "#print(s)\n",
        "X = dataset[:,0:s-1]\n",
        "Y = dataset[:,s-1]\n",
        "\n",
        "#print(s-1)\n",
        "\n",
        "n_features = s-1\n",
        "\n",
        "#SPLIT INTO TRAINING, VALIDATION AND TEST SETS\n",
        "print(\"\\nSplit into training, validation and test sets...\")\n",
        "\n",
        "train_rate = 80\n",
        "val_rate = 10\n",
        "train = round(int((dataset.shape[0]*train_rate)/100))\n",
        "val = round(int((dataset.shape[0]*(train_rate+val_rate))/100))\n",
        "\n",
        "train_data = X[:train]\n",
        "train_label = Y[:train]\n",
        "\n",
        "val_data = X[train+1:val]\n",
        "val_label = Y[train+1:val]\n",
        "\n",
        "test_data = X[val+1:]\n",
        "test_label = Y[val+1:]\n",
        "print(\"DATASET SPLITTED\")\n",
        "\n",
        "#COMPUTE CLASS WEIGHT\n",
        "labels = np.unique(train_label)\n",
        "classWeight = compute_class_weight('balanced', labels, train_label)\n",
        "classWeight = dict(zip(labels,classWeight))\n",
        "\n",
        "#GENERATE MODEL\n",
        "print(\"\\nGenerate model...\")\n",
        "\n",
        "modello = 1 #@param {type:\"integer\"}\n",
        "\n",
        "if modello==1 :\n",
        "  model = generate_model_leaky(train_data.shape[-1], n_features)\n",
        "elif modello==2:\n",
        "  model = generate_model(train_data.shape[-1], n_features)\n",
        "\n",
        "#OPTIMIZERS\n",
        "adm = optimizers.Adam(lr=0.0001)\n",
        "\n",
        "#COMPILE MODEL\n",
        "print(\"\\nCompile model...\")\n",
        "model.compile(loss='binary_crossentropy', optimizer = adm , metrics=['accuracy'])\n",
        "\n",
        "#EARLY STOPPING\n",
        "es = EarlyStopping(monitor='val_loss', min_delta=0, patience=2, verbose=0, mode='auto')\n",
        "\n",
        "#FIT MODEL\n",
        "print(\"\\nFit model...\")\n",
        "history = model.fit(train_data, train_label, epochs=10, validation_data = (val_data, val_label), batch_size = 128, shuffle = True, class_weight = classWeight, verbose=1, callbacks = [es])\n",
        "\n",
        "#EVALUATE MODEL\n",
        "print(\"\\nEvaluate model...\")\n",
        "scores_test = model.evaluate(test_data, test_label, batch_size=128, verbose = 1)\n",
        "print(\"Test loss: %.2f%%\" % (scores_test[0] * 100))\n",
        "print(\"Test accuracy: %.2f%%\" % (scores_test[1] * 100))\n",
        "\n",
        "#CALCULATE PREDICTIONS\n",
        "print(\"\\nCalculate predictions...\")\n",
        "pred = model.predict_classes(test_data, batch_size=128, verbose=0)\n",
        "flat_pred = [item for sublist in pred for item in sublist]\n",
        "\n",
        "#CONFUSION MATRIX\n",
        "print(\"\\nCompute confusion matrix...\")\n",
        "y_true = test_label\n",
        "y_pred = pred\n",
        "tn, fp, fn, tp = confusion_matrix(y_true, y_pred).ravel()\n",
        "print(\"TN\", tn)\n",
        "print(\"FP\", fp)\n",
        "print(\"FN\", fn)\n",
        "print(\"TP\", tp)\n",
        "other = 100*tn/(tn+fp)\n",
        "pasto = 100*tp/(fn+tp)\n",
        "print(\"Other corretti: %.2f %%\" % other)\n",
        "print(\"Pasto corretti: %.2f %%\" % pasto)\n",
        "\n",
        "time = []\n",
        "for i in test_data:\n",
        "  time.append(i[-5])"
      ],
      "execution_count": 5,
      "outputs": [
        {
          "output_type": "stream",
          "text": [
            "Loading data...\n",
            "DATASET LOADED\n",
            "\n",
            "Converting values...\n",
            "CONVERSION DONE\n",
            "\n",
            "Split into training, validation and test sets...\n",
            "DATASET SPLITTED\n",
            "\n",
            "Generate model...\n",
            "WARNING:tensorflow:From /usr/local/lib/python3.6/dist-packages/tensorflow/python/framework/op_def_library.py:263: colocate_with (from tensorflow.python.framework.ops) is deprecated and will be removed in a future version.\n",
            "Instructions for updating:\n",
            "Colocations handled automatically by placer.\n",
            "\n",
            "Compile model...\n",
            "\n",
            "Fit model...\n",
            "WARNING:tensorflow:From /usr/local/lib/python3.6/dist-packages/keras/backend/tensorflow_backend.py:3445: calling dropout (from tensorflow.python.ops.nn_ops) with keep_prob is deprecated and will be removed in a future version.\n",
            "Instructions for updating:\n",
            "Please use `rate` instead of `keep_prob`. Rate should be set to `rate = 1 - keep_prob`.\n",
            "WARNING:tensorflow:From /usr/local/lib/python3.6/dist-packages/tensorflow/python/ops/math_ops.py:3066: to_int32 (from tensorflow.python.ops.math_ops) is deprecated and will be removed in a future version.\n",
            "Instructions for updating:\n",
            "Use tf.cast instead.\n",
            "Train on 280392 samples, validate on 35048 samples\n",
            "Epoch 1/10\n",
            "280392/280392 [==============================] - 18s 65us/step - loss: 0.5406 - acc: 0.7603 - val_loss: 0.4591 - val_acc: 0.8477\n",
            "Epoch 2/10\n",
            "280392/280392 [==============================] - 17s 61us/step - loss: 0.4442 - acc: 0.8306 - val_loss: 0.4187 - val_acc: 0.8468\n",
            "Epoch 3/10\n",
            "280392/280392 [==============================] - 17s 62us/step - loss: 0.4135 - acc: 0.8316 - val_loss: 0.3720 - val_acc: 0.8499\n",
            "Epoch 4/10\n",
            "280392/280392 [==============================] - 18s 64us/step - loss: 0.3996 - acc: 0.8316 - val_loss: 0.3722 - val_acc: 0.8467\n",
            "Epoch 5/10\n",
            "280392/280392 [==============================] - 17s 62us/step - loss: 0.3932 - acc: 0.8287 - val_loss: 0.3667 - val_acc: 0.8470\n",
            "Epoch 6/10\n",
            "280392/280392 [==============================] - 17s 60us/step - loss: 0.3887 - acc: 0.8281 - val_loss: 0.3960 - val_acc: 0.8281\n",
            "Epoch 7/10\n",
            "280392/280392 [==============================] - 17s 59us/step - loss: 0.3818 - acc: 0.8283 - val_loss: 0.3616 - val_acc: 0.8504\n",
            "Epoch 8/10\n",
            "280392/280392 [==============================] - 17s 60us/step - loss: 0.3794 - acc: 0.8294 - val_loss: 0.4187 - val_acc: 0.8189\n",
            "Epoch 9/10\n",
            "280392/280392 [==============================] - 18s 63us/step - loss: 0.3720 - acc: 0.8296 - val_loss: 0.3930 - val_acc: 0.8238\n",
            "\n",
            "Evaluate model...\n",
            "35049/35049 [==============================] - 1s 18us/step\n",
            "Test loss: 51.86%\n",
            "Test accuracy: 79.13%\n",
            "\n",
            "Calculate predictions...\n",
            "\n",
            "Compute confusion matrix...\n",
            "TN 25916\n",
            "FP 7065\n",
            "FN 250\n",
            "TP 1818\n",
            "Other corretti: 78.58 %\n",
            "Pasto corretti: 87.91 %\n"
          ],
          "name": "stdout"
        }
      ]
    },
    {
      "metadata": {
        "id": "LHjWSCzC97Un",
        "colab_type": "code",
        "outputId": "9da26373-db9f-48aa-b2cc-6845ba2ac6a8",
        "colab": {
          "base_uri": "https://localhost:8080/",
          "height": 481
        }
      },
      "cell_type": "code",
      "source": [
        "#@title IMPOSTA LIMITI DELLA FINESTRA DI: COLAZIONE, PRANZO E CENA \n",
        "lim_inf_colazione = 330 #@param {type:\"integer\"}\n",
        "lim_sup_colazione = 630 #@param {type:\"integer\"}\n",
        "lim_inf_pranzo = 720 #@param {type:\"integer\"}\n",
        "lim_sup_pranzo = 900 #@param {type:\"integer\"}\n",
        "lim_inf_cena = 1111 #@param {type:\"integer\"}\n",
        "lim_sup_cena = 1439 #@param {type:\"integer\"}\n",
        "\n",
        "postprocessing_sw_HL.confusion_matrix_activity_pre_sw(test_label, pred,time,lim_inf_colazione,lim_sup_colazione,lim_inf_pranzo,lim_sup_pranzo,lim_inf_cena,lim_sup_cena)\n",
        "\n",
        "\"\"\"\n",
        "label_time = (test_label,time)\n",
        "pred_time = (pred,time)\n",
        "\n",
        "for j in range(0,3):\n",
        "  if j == 0: \n",
        "    lim_inf = lim_inf_colazione\n",
        "    lim_sup = lim_sup_colazione\n",
        "    activity = 'colazione'\n",
        "  if j == 1: \n",
        "    lim_inf = lim_inf_pranzo\n",
        "    lim_sup = lim_sup_pranzo\n",
        "    activity = 'pranzo'\n",
        "  if j == 2: \n",
        "    lim_inf = lim_inf_cena\n",
        "    lim_sup = lim_sup_cena\n",
        "    activity = 'cena'\n",
        "    \n",
        "  #prendo le label che ci indicano l'attività svolta solo nella finestra di tempo compresa tra lim_inf e lim_sup \n",
        "  real= []\n",
        "\n",
        "  i = 0 \n",
        "  while i < len(label_time[0]):\n",
        "    if label_time[1][i]> lim_inf and label_time[1][i]<lim_sup:\n",
        "      real.append(label_time[0][i])\n",
        "    i = i+1\n",
        "\n",
        "  #prendo le predizioni che ci indicano l'attività svolta solo nella finestra di tempo compresa tra lim_inf e lim_sup\n",
        "  pred_sintesi = []\n",
        "\n",
        "  i = 0 \n",
        "  while i < len(pred_time[0]):\n",
        "    if pred_time[1][i]>lim_inf and pred_time[1][i]<lim_sup:\n",
        "      pred_sintesi.append(pred_time[0][i])\n",
        "    i = i+1\n",
        "\n",
        "  #calcolo la matrice di confusione solo per il pasto indicato dalla variabile activity\n",
        "  print(\"\\nCompute confusion matrix senza sw \" + activity)\n",
        "  y_true = real\n",
        "  y_true = np.array(y_true,dtype=np.int)\n",
        "  n_y_pred = pred_sintesi\n",
        "  tn, fp, fn, tp = confusion_matrix(y_true, n_y_pred).ravel()\n",
        "  print(\"TN\", tn)\n",
        "  print(\"FP\", fp)\n",
        "  print(\"FN\", fn)\n",
        "  print(\"TP\", tp)\n",
        "  other = 100*tn/(tn+fp)\n",
        "  pasto = 100*tp/(fn+tp)\n",
        "  print(\"Other corretti: %.2f %%\" % other)\n",
        "  print(\"Pasto corretti: %.2f %%\" % pasto)\n",
        "\"\"\""
      ],
      "execution_count": 6,
      "outputs": [
        {
          "output_type": "stream",
          "text": [
            "\n",
            "Compute confusion matrix senza sw colazione\n",
            "TN 5452\n",
            "FP 1437\n",
            "FN 38\n",
            "TP 337\n",
            "Other corretti: 79.14 %\n",
            "Pasto corretti: 89.87 %\n",
            "\n",
            "Compute confusion matrix senza sw pranzo\n",
            "TN 2436\n",
            "FP 1259\n",
            "FN 93\n",
            "TP 671\n",
            "Other corretti: 65.93 %\n",
            "Pasto corretti: 87.83 %\n",
            "\n",
            "Compute confusion matrix senza sw cena\n",
            "TN 4786\n",
            "FP 2332\n",
            "FN 82\n",
            "TP 632\n",
            "Other corretti: 67.24 %\n",
            "Pasto corretti: 88.52 %\n"
          ],
          "name": "stdout"
        },
        {
          "output_type": "execute_result",
          "data": {
            "text/plain": [
              "'\\nlabel_time = (test_label,time)\\npred_time = (pred,time)\\n\\nfor j in range(0,3):\\n  if j == 0: \\n    lim_inf = lim_inf_colazione\\n    lim_sup = lim_sup_colazione\\n    activity = \\'colazione\\'\\n  if j == 1: \\n    lim_inf = lim_inf_pranzo\\n    lim_sup = lim_sup_pranzo\\n    activity = \\'pranzo\\'\\n  if j == 2: \\n    lim_inf = lim_inf_cena\\n    lim_sup = lim_sup_cena\\n    activity = \\'cena\\'\\n    \\n  #prendo le label che ci indicano l\\'attività svolta solo nella finestra di tempo compresa tra lim_inf e lim_sup \\n  real= []\\n\\n  i = 0 \\n  while i < len(label_time[0]):\\n    if label_time[1][i]> lim_inf and label_time[1][i]<lim_sup:\\n      real.append(label_time[0][i])\\n    i = i+1\\n\\n  #prendo le predizioni che ci indicano l\\'attività svolta solo nella finestra di tempo compresa tra lim_inf e lim_sup\\n  pred_sintesi = []\\n\\n  i = 0 \\n  while i < len(pred_time[0]):\\n    if pred_time[1][i]>lim_inf and pred_time[1][i]<lim_sup:\\n      pred_sintesi.append(pred_time[0][i])\\n    i = i+1\\n\\n  #calcolo la matrice di confusione solo per il pasto indicato dalla variabile activity\\n  print(\"\\nCompute confusion matrix senza sw \" + activity)\\n  y_true = real\\n  y_true = np.array(y_true,dtype=np.int)\\n  n_y_pred = pred_sintesi\\n  tn, fp, fn, tp = confusion_matrix(y_true, n_y_pred).ravel()\\n  print(\"TN\", tn)\\n  print(\"FP\", fp)\\n  print(\"FN\", fn)\\n  print(\"TP\", tp)\\n  other = 100*tn/(tn+fp)\\n  pasto = 100*tp/(fn+tp)\\n  print(\"Other corretti: %.2f %%\" % other)\\n  print(\"Pasto corretti: %.2f %%\" % pasto)\\n'"
            ]
          },
          "metadata": {
            "tags": []
          },
          "execution_count": 6
        }
      ]
    },
    {
      "metadata": {
        "id": "7yQfjJpuwKM4",
        "colab_type": "code",
        "outputId": "624f1c7d-b566-44c8-a9ce-e3444b63670e",
        "colab": {
          "base_uri": "https://localhost:8080/",
          "height": 55
        }
      },
      "cell_type": "code",
      "source": [
        "#@title IMPOSTA LA GRANDEZZA DELLA FINESTRA DI: COLAZIONE, PRANZO E CENA \n",
        "finestra_colazione = 5 #@param {type:\"integer\"}\n",
        "finestra_pranzo = 31 #@param {type:\"integer\"}\n",
        "finestra_cena = 31 #@param {type:\"integer\"}\n",
        "min_pasti_colazione = 3 #@param {type:\"integer\"}\n",
        "min_pasti_pranzo = 15 #@param {type:\"integer\"}\n",
        "min_pasti_cena = 15 #@param {type:\"integer\"}\n",
        "\n",
        "sw_real_activity = postprocessing_sw_HL.sw_for_real_activity(test_label,time,lim_inf_colazione,lim_sup_colazione,lim_inf_pranzo,lim_sup_pranzo,lim_inf_cena,lim_sup_cena,finestra_colazione,finestra_pranzo,finestra_cena)\n",
        "sw_col_real = sw_real_activity[0]\n",
        "sw_pranzo_real = sw_real_activity[1]\n",
        "sw_cena_real = sw_real_activity[2]\n",
        "\n",
        "\"\"\"\n",
        "#calcolo le sliding windows per ogni tipologia di pasto (colazione, pranzo, cena) nell'array in cui sono presenti le attività reali \n",
        "#per ogni sliding windows mi salvo il minuto centrale come identificatore dell'attività che si è realmente svolta in quella finestra di tempo\n",
        "\n",
        "sw_col_real = []\n",
        "sw_pranzo_real = []\n",
        "sw_cena_real = []\n",
        "\n",
        "for j in range(0,3):\n",
        "  if j == 0: \n",
        "    lim_inf = lim_inf_colazione\n",
        "    lim_sup = lim_sup_colazione\n",
        "    finestra = finestra_colazione\n",
        "  if j == 1: \n",
        "    lim_inf = lim_inf_pranzo\n",
        "    lim_sup = lim_sup_pranzo\n",
        "    finestra = finestra_pranzo\n",
        "  if j == 2: \n",
        "    lim_inf = lim_inf_cena\n",
        "    lim_sup = lim_sup_cena\n",
        "    finestra = finestra_cena\n",
        "    \n",
        "  #estrazione sliding windows \n",
        "  pasto = list(more_itertools.windowed(test_label, n=finestra, step=1))\n",
        "  time_pasto = list(more_itertools.windowed(time, n=finestra, step=1))\n",
        "  lista = (pasto,time_pasto)\n",
        "  \n",
        "  sw_real = []\n",
        "  \n",
        "  i = 0 \n",
        "  while i < len(lista[0]):\n",
        "    if lista[1][i][0]>lim_inf and lista[1][i][finestra-1]<lim_sup:\n",
        "      centro = int((finestra-1)/2)\n",
        "      sw_real.append(lista[0][i][centro])\n",
        "    i = i+1\n",
        "    \n",
        "  if j == 0:\n",
        "    sw_col_real = sw_real\n",
        "  if j == 1:\n",
        "    sw_pranzo_real = sw_real\n",
        "  if j == 2:\n",
        "    sw_cena_real = sw_real\n",
        "    \n",
        "#print(sw_col_real)\n",
        "#print(len(sw_col_real))\n",
        "#print(sw_pranzo_real)\n",
        "#print(len(sw_pranzo_real))\n",
        "#print(sw_cena_real)\n",
        "#print(len(sw_cena_real))\n",
        "\"\"\""
      ],
      "execution_count": 7,
      "outputs": [
        {
          "output_type": "execute_result",
          "data": {
            "text/plain": [
              "\"\\n#calcolo le sliding windows per ogni tipologia di pasto (colazione, pranzo, cena) nell'array in cui sono presenti le attività reali \\n#per ogni sliding windows mi salvo il minuto centrale come identificatore dell'attività che si è realmente svolta in quella finestra di tempo\\n\\nsw_col_real = []\\nsw_pranzo_real = []\\nsw_cena_real = []\\n\\nfor j in range(0,3):\\n  if j == 0: \\n    lim_inf = lim_inf_colazione\\n    lim_sup = lim_sup_colazione\\n    finestra = finestra_colazione\\n  if j == 1: \\n    lim_inf = lim_inf_pranzo\\n    lim_sup = lim_sup_pranzo\\n    finestra = finestra_pranzo\\n  if j == 2: \\n    lim_inf = lim_inf_cena\\n    lim_sup = lim_sup_cena\\n    finestra = finestra_cena\\n    \\n  #estrazione sliding windows \\n  pasto = list(more_itertools.windowed(test_label, n=finestra, step=1))\\n  time_pasto = list(more_itertools.windowed(time, n=finestra, step=1))\\n  lista = (pasto,time_pasto)\\n  \\n  sw_real = []\\n  \\n  i = 0 \\n  while i < len(lista[0]):\\n    if lista[1][i][0]>lim_inf and lista[1][i][finestra-1]<lim_sup:\\n      centro = int((finestra-1)/2)\\n      sw_real.append(lista[0][i][centro])\\n    i = i+1\\n    \\n  if j == 0:\\n    sw_col_real = sw_real\\n  if j == 1:\\n    sw_pranzo_real = sw_real\\n  if j == 2:\\n    sw_cena_real = sw_real\\n    \\n#print(sw_col_real)\\n#print(len(sw_col_real))\\n#print(sw_pranzo_real)\\n#print(len(sw_pranzo_real))\\n#print(sw_cena_real)\\n#print(len(sw_cena_real))\\n\""
            ]
          },
          "metadata": {
            "tags": []
          },
          "execution_count": 7
        }
      ]
    },
    {
      "metadata": {
        "id": "q05qIye6FjFz",
        "colab_type": "code",
        "colab": {
          "base_uri": "https://localhost:8080/",
          "height": 108
        },
        "outputId": "7d60ffc5-94ae-4c23-9bbf-690b69ed36cf"
      },
      "cell_type": "code",
      "source": [
        "sw_pred_activity = postprocessing_sw_HL.sw_for_pred_activity(pred,time,lim_inf_colazione,lim_sup_colazione,lim_inf_pranzo,lim_sup_pranzo,lim_inf_cena,lim_sup_cena,finestra_colazione,finestra_pranzo,finestra_cena, min_pasti_colazione, min_pasti_pranzo, min_pasti_cena)\n",
        "result_col = sw_pred_activity[0]\n",
        "result_pranzo = sw_pred_activity[1]\n",
        "result_cena = sw_pred_activity[2]\n",
        "\n",
        "\"\"\"\n",
        "#calcolo le sliding windows per ogni tipologia di pasto (colazione, pranzo, cena) nell'array delle predizioni\n",
        "sw_col = []\n",
        "sw_pranzo = []\n",
        "sw_cena = []\n",
        "\n",
        "for j in range(0,3):\n",
        "  if j == 0:  \n",
        "    lim_inf = lim_inf_colazione\n",
        "    lim_sup = lim_sup_colazione\n",
        "    finestra = finestra_colazione\n",
        "  if j == 1: \n",
        "    lim_inf = lim_inf_pranzo\n",
        "    lim_sup = lim_sup_pranzo\n",
        "    finestra = finestra_pranzo\n",
        "  if j == 2: \n",
        "    lim_inf = lim_inf_cena\n",
        "    lim_sup = lim_sup_cena\n",
        "    finestra = finestra_cena\n",
        "  \n",
        "  #estrazione sliding windows\n",
        "  pred_sws = list(more_itertools.windowed(pred, n=finestra, step=1))\n",
        "  time_sws = list(more_itertools.windowed(time, n=finestra, step=1))\n",
        "  lista = (pred_sws,time_sws)\n",
        "  \n",
        "  sw = []\n",
        "  \n",
        "  i = 0 \n",
        "  while i < len(lista[0]):\n",
        "    if lista[1][i][0]>lim_inf and lista[1][i][finestra-1]<lim_sup:\n",
        "      sw.append(lista[0][i])\n",
        "    i = i+1\n",
        "  \n",
        "  print(len(sw))\n",
        "  if j == 0:\n",
        "    sw_col = sw    \n",
        "  if j == 1:\n",
        "    sw_pranzo = sw\n",
        "  if j == 2:\n",
        "    sw_cena = sw\n",
        "\n",
        "#creazione di tre array in cui si inserisce il minuto centrale di una sw se questa ci sembra una colazione, un pranzo o una cena    \n",
        "result_col = [];\n",
        "result_pranzo = [];\n",
        "result_cena = [];\n",
        "\n",
        "for j in range(0,3):\n",
        "  if j == 0: \n",
        "    windowsList = sw_col\n",
        "    min_pasto = min_pasti_colazione\n",
        "  if j == 1: \n",
        "    windowsList = sw_pranzo\n",
        "    min_pasto = min_pasti_pranzo\n",
        "  if j == 2: \n",
        "    windowsList = sw_cena\n",
        "    min_pasto = min_pasti_cena\n",
        "  \n",
        "  result = []\n",
        "  i = 0 \n",
        "  \n",
        "  while i < len(windowsList): \n",
        "    count = 0\n",
        "\n",
        "    z = 0  \n",
        "    while z < len(windowsList[i]):\n",
        "      if windowsList[i][z] == 1 :\n",
        "        count = count + 1\n",
        "      z = z + 1\n",
        "\n",
        "    if count > min_pasto:\n",
        "      result.append(1)\n",
        "    else:\n",
        "      result.append(0)\n",
        "\n",
        "    i = i + 1\n",
        "  \n",
        "  if j == 0:\n",
        "    result_col = result\n",
        "  if j == 1:\n",
        "    result_pranzo = result\n",
        "  if j == 2:\n",
        "    result_cena = result\n",
        "\n",
        "#print(result_col)\n",
        "#print(len(result_col))\n",
        "#print(result_pranzo)\n",
        "#print(len(result_pranzo))\n",
        "#print(result_cena)\n",
        "#print(len(result_cena))\n",
        "\"\"\""
      ],
      "execution_count": 8,
      "outputs": [
        {
          "output_type": "stream",
          "text": [
            "7260\n",
            "4429\n",
            "7802\n"
          ],
          "name": "stdout"
        },
        {
          "output_type": "execute_result",
          "data": {
            "text/plain": [
              "\"\\n#calcolo le sliding windows per ogni tipologia di pasto (colazione, pranzo, cena) nell'array delle predizioni\\nsw_col = []\\nsw_pranzo = []\\nsw_cena = []\\n\\nfor j in range(0,3):\\n  if j == 0:  \\n    lim_inf = lim_inf_colazione\\n    lim_sup = lim_sup_colazione\\n    finestra = finestra_colazione\\n  if j == 1: \\n    lim_inf = lim_inf_pranzo\\n    lim_sup = lim_sup_pranzo\\n    finestra = finestra_pranzo\\n  if j == 2: \\n    lim_inf = lim_inf_cena\\n    lim_sup = lim_sup_cena\\n    finestra = finestra_cena\\n  \\n  #estrazione sliding windows\\n  pred_sws = list(more_itertools.windowed(pred, n=finestra, step=1))\\n  time_sws = list(more_itertools.windowed(time, n=finestra, step=1))\\n  lista = (pred_sws,time_sws)\\n  \\n  sw = []\\n  \\n  i = 0 \\n  while i < len(lista[0]):\\n    if lista[1][i][0]>lim_inf and lista[1][i][finestra-1]<lim_sup:\\n      sw.append(lista[0][i])\\n    i = i+1\\n  \\n  print(len(sw))\\n  if j == 0:\\n    sw_col = sw    \\n  if j == 1:\\n    sw_pranzo = sw\\n  if j == 2:\\n    sw_cena = sw\\n\\n#creazione di tre array in cui si inserisce il minuto centrale di una sw se questa ci sembra una colazione, un pranzo o una cena    \\nresult_col = [];\\nresult_pranzo = [];\\nresult_cena = [];\\n\\nfor j in range(0,3):\\n  if j == 0: \\n    windowsList = sw_col\\n    min_pasto = min_pasti_colazione\\n  if j == 1: \\n    windowsList = sw_pranzo\\n    min_pasto = min_pasti_pranzo\\n  if j == 2: \\n    windowsList = sw_cena\\n    min_pasto = min_pasti_cena\\n  \\n  result = []\\n  i = 0 \\n  \\n  while i < len(windowsList): \\n    count = 0\\n\\n    z = 0  \\n    while z < len(windowsList[i]):\\n      if windowsList[i][z] == 1 :\\n        count = count + 1\\n      z = z + 1\\n\\n    if count > min_pasto:\\n      result.append(1)\\n    else:\\n      result.append(0)\\n\\n    i = i + 1\\n  \\n  if j == 0:\\n    result_col = result\\n  if j == 1:\\n    result_pranzo = result\\n  if j == 2:\\n    result_cena = result\\n\\n#print(result_col)\\n#print(len(result_col))\\n#print(result_pranzo)\\n#print(len(result_pranzo))\\n#print(result_cena)\\n#print(len(result_cena))\\n\""
            ]
          },
          "metadata": {
            "tags": []
          },
          "execution_count": 8
        }
      ]
    },
    {
      "metadata": {
        "id": "zaNEiQ2FzjOs",
        "colab_type": "code",
        "colab": {
          "base_uri": "https://localhost:8080/",
          "height": 481
        },
        "outputId": "06902121-e4de-4c82-9232-ec7445f935eb"
      },
      "cell_type": "code",
      "source": [
        "postprocessing_sw_HL.confusion_matrix_activity_post_sw(sw_col_real, sw_pranzo_real, sw_cena_real,result_col, result_pranzo, result_cena)\n",
        "\n",
        "\"\"\"\n",
        "print(\"\\nCompute confusion matrix colazione...\")\n",
        "y_true = sw_col_real\n",
        "y_true = np.array(y_true,dtype=np.int)\n",
        "n_y_pred = result_col\n",
        "tn, fp, fn, tp = confusion_matrix(y_true, n_y_pred).ravel()\n",
        "print(\"TN\", tn)\n",
        "print(\"FP\", fp)\n",
        "print(\"FN\", fn)\n",
        "print(\"TP\", tp)\n",
        "other = 100*tn/(tn+fp)\n",
        "pasto = 100*tp/(fn+tp)\n",
        "print(\"Other corretti: %.2f %%\" % other)\n",
        "print(\"Pasto corretti: %.2f %%\" % pasto)\n",
        "\n",
        "print(\"\\nCompute NEW confusion matrix pranzo...\")\n",
        "y_true = sw_pranzo_real\n",
        "y_true = np.array(y_true,dtype=np.int)\n",
        "n_y_pred = result_pranzo\n",
        "tn, fp, fn, tp = confusion_matrix(y_true, n_y_pred).ravel()\n",
        "print(\"TN\", tn)\n",
        "print(\"FP\", fp)\n",
        "print(\"FN\", fn)\n",
        "print(\"TP\", tp)\n",
        "other = 100*tn/(tn+fp)\n",
        "pasto = 100*tp/(fn+tp)\n",
        "print(\"Other corretti: %.2f %%\" % other)\n",
        "print(\"Pasto corretti: %.2f %%\" % pasto)\n",
        "\n",
        "print(\"\\nCompute NEW confusion matrix cena...\")\n",
        "y_true = sw_cena_real\n",
        "y_true = np.array(y_true,dtype=np.int)\n",
        "n_y_pred = result_cena\n",
        "tn, fp, fn, tp = confusion_matrix(y_true, n_y_pred).ravel()\n",
        "print(\"TN\", tn)\n",
        "print(\"FP\", fp)\n",
        "print(\"FN\", fn)\n",
        "print(\"TP\", tp)\n",
        "other = 100*tn/(tn+fp)\n",
        "pasto = 100*tp/(fn+tp)\n",
        "print(\"Other corretti: %.2f %%\" % other)\n",
        "print(\"Pasto corretti: %.2f %%\" % pasto)\n",
        "\"\"\""
      ],
      "execution_count": 9,
      "outputs": [
        {
          "output_type": "stream",
          "text": [
            "\n",
            "Compute confusion matrix colazione...\n",
            "TN 5597\n",
            "FP 1290\n",
            "FN 50\n",
            "TP 323\n",
            "Other corretti: 81.27 %\n",
            "Pasto corretti: 86.60 %\n",
            "\n",
            "Compute NEW confusion matrix pranzo...\n",
            "TN 2436\n",
            "FP 1230\n",
            "FN 69\n",
            "TP 694\n",
            "Other corretti: 66.45 %\n",
            "Pasto corretti: 90.96 %\n",
            "\n",
            "Compute NEW confusion matrix cena...\n",
            "TN 4897\n",
            "FP 2193\n",
            "FN 81\n",
            "TP 631\n",
            "Other corretti: 69.07 %\n",
            "Pasto corretti: 88.62 %\n"
          ],
          "name": "stdout"
        },
        {
          "output_type": "execute_result",
          "data": {
            "text/plain": [
              "'\\nprint(\"\\nCompute confusion matrix colazione...\")\\ny_true = sw_col_real\\ny_true = np.array(y_true,dtype=np.int)\\nn_y_pred = result_col\\ntn, fp, fn, tp = confusion_matrix(y_true, n_y_pred).ravel()\\nprint(\"TN\", tn)\\nprint(\"FP\", fp)\\nprint(\"FN\", fn)\\nprint(\"TP\", tp)\\nother = 100*tn/(tn+fp)\\npasto = 100*tp/(fn+tp)\\nprint(\"Other corretti: %.2f %%\" % other)\\nprint(\"Pasto corretti: %.2f %%\" % pasto)\\n\\nprint(\"\\nCompute NEW confusion matrix pranzo...\")\\ny_true = sw_pranzo_real\\ny_true = np.array(y_true,dtype=np.int)\\nn_y_pred = result_pranzo\\ntn, fp, fn, tp = confusion_matrix(y_true, n_y_pred).ravel()\\nprint(\"TN\", tn)\\nprint(\"FP\", fp)\\nprint(\"FN\", fn)\\nprint(\"TP\", tp)\\nother = 100*tn/(tn+fp)\\npasto = 100*tp/(fn+tp)\\nprint(\"Other corretti: %.2f %%\" % other)\\nprint(\"Pasto corretti: %.2f %%\" % pasto)\\n\\nprint(\"\\nCompute NEW confusion matrix cena...\")\\ny_true = sw_cena_real\\ny_true = np.array(y_true,dtype=np.int)\\nn_y_pred = result_cena\\ntn, fp, fn, tp = confusion_matrix(y_true, n_y_pred).ravel()\\nprint(\"TN\", tn)\\nprint(\"FP\", fp)\\nprint(\"FN\", fn)\\nprint(\"TP\", tp)\\nother = 100*tn/(tn+fp)\\npasto = 100*tp/(fn+tp)\\nprint(\"Other corretti: %.2f %%\" % other)\\nprint(\"Pasto corretti: %.2f %%\" % pasto)\\n'"
            ]
          },
          "metadata": {
            "tags": []
          },
          "execution_count": 9
        }
      ]
    },
    {
      "metadata": {
        "id": "ivXVv6yGJBqx",
        "colab_type": "code",
        "colab": {
          "base_uri": "https://localhost:8080/",
          "height": 55
        },
        "outputId": "fd2744ff-1acc-4e9f-99d1-dc18b2fbeb3a"
      },
      "cell_type": "code",
      "source": [
        "#@title SCEGLI maxWidth per postprocessing_Silvia\n",
        "'''\n",
        "@Description: POST PROCESSING\n",
        "'''\n",
        "\n",
        "#maxWidth = 3 #@param {type:\"integer\"}\n",
        "\n",
        "#new_pred = postprocessing_sliding.sliding_windows_time(flat_pred, time)\n",
        "#new_pred = postprocessing_sliding.sliding_windows_time_mod(flat_pred, time)\n",
        "#new_pred = postprocessing_Silvia.setWidth(maxWidth,flat_pred)\n",
        "\n",
        "#CONFUSION MATRIX\n",
        "\"\"\"\n",
        "print(\"\\nCompute NEW confusion matrix...\")\n",
        "y_true = test_label\n",
        "n_y_pred = new_pred\n",
        "tn, fp, fn, tp = confusion_matrix(y_true, n_y_pred).ravel()\n",
        "print(\"TN\", tn)\n",
        "print(\"FP\", fp)\n",
        "print(\"FN\", fn)\n",
        "print(\"TP\", tp)\n",
        "other = 100*tn/(tn+fp)\n",
        "pasto = 100*tp/(fn+tp)\n",
        "print(\"Other corretti: %.2f %%\" % other)\n",
        "print(\"Pasto corretti: %.2f %%\" % pasto)\n",
        "\"\"\""
      ],
      "execution_count": 10,
      "outputs": [
        {
          "output_type": "execute_result",
          "data": {
            "text/plain": [
              "'\\nprint(\"\\nCompute NEW confusion matrix...\")\\ny_true = test_label\\nn_y_pred = new_pred\\ntn, fp, fn, tp = confusion_matrix(y_true, n_y_pred).ravel()\\nprint(\"TN\", tn)\\nprint(\"FP\", fp)\\nprint(\"FN\", fn)\\nprint(\"TP\", tp)\\nother = 100*tn/(tn+fp)\\npasto = 100*tp/(fn+tp)\\nprint(\"Other corretti: %.2f %%\" % other)\\nprint(\"Pasto corretti: %.2f %%\" % pasto)\\n'"
            ]
          },
          "metadata": {
            "tags": []
          },
          "execution_count": 10
        }
      ]
    },
    {
      "metadata": {
        "id": "Pj40Swm8_98K",
        "colab_type": "code",
        "colab": {
          "base_uri": "https://localhost:8080/",
          "height": 35
        },
        "outputId": "316e1b89-2ac7-433f-e043-2affb0a6fb58"
      },
      "cell_type": "code",
      "source": [
        "'''\n",
        "@Description: PLOTTING\n",
        "'''\n",
        "'''\n",
        "plotting.plot_model_results(history)\n",
        "plotting.plot_co2_temp(flat_pred, val)\n",
        "'''"
      ],
      "execution_count": 11,
      "outputs": [
        {
          "output_type": "execute_result",
          "data": {
            "text/plain": [
              "'\\nplotting.plot_model_results(history)\\nplotting.plot_co2_temp(flat_pred, val)\\n'"
            ]
          },
          "metadata": {
            "tags": []
          },
          "execution_count": 11
        }
      ]
    },
    {
      "metadata": {
        "id": "C5L-xXizgnw5",
        "colab_type": "code",
        "colab": {}
      },
      "cell_type": "code",
      "source": [
        "#model.save('my_model1.h5')\n",
        "#model = load_model('my_model.h5')"
      ],
      "execution_count": 0,
      "outputs": []
    }
  ]
}