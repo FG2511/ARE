{
  "nbformat": 4,
  "nbformat_minor": 0,
  "metadata": {
    "colab": {
      "name": "Untitled0.ipynb",
      "version": "0.3.2",
      "provenance": [],
      "include_colab_link": true
    },
    "kernelspec": {
      "name": "python3",
      "display_name": "Python 3"
    }
  },
  "cells": [
    {
      "cell_type": "markdown",
      "metadata": {
        "id": "view-in-github",
        "colab_type": "text"
      },
      "source": [
        "<a href=\"https://colab.research.google.com/github/FG2511/ARE/blob/master/high_level_postprocessing/confusion_matrix_activity_pre_sw.ipynb\" target=\"_parent\"><img src=\"https://colab.research.google.com/assets/colab-badge.svg\" alt=\"Open In Colab\"/></a>"
      ]
    },
    {
      "metadata": {
        "id": "R-vgDhIud0iI",
        "colab_type": "code",
        "colab": {}
      },
      "cell_type": "code",
      "source": [
        "  !mkdir -p local_modules/postprocessing_sw_HL"
      ],
      "execution_count": 0,
      "outputs": []
    },
    {
      "metadata": {
        "id": "I9c8VxRJecbe",
        "colab_type": "code",
        "colab": {
          "base_uri": "https://localhost:8080/",
          "height": 35
        },
        "outputId": "43d13dc7-786d-44b9-a202-48c123787242"
      },
      "cell_type": "code",
      "source": [
        "%%writefile local_modules/postprocessing_sw_HL/__init__.py\n",
        "\n",
        "import numpy as np\n",
        "from sklearn.metrics import confusion_matrix\n",
        "\n",
        "def confusion_matrix_activity_pre_sw(test_label, pred,time,lim_inf_colazione,lim_sup_colazione,lim_inf_pranzo,lim_sup_pranzo,lim_inf_cena, lim_sup_cena):\n",
        "  label_time = (test_label,time)\n",
        "  pred_time = (pred,time)\n",
        "\n",
        "  for j in range(0,3):\n",
        "    if j == 0: \n",
        "      lim_inf = lim_inf_colazione\n",
        "      lim_sup = lim_sup_colazione\n",
        "      activity = 'colazione'\n",
        "    if j == 1: \n",
        "      lim_inf = lim_inf_pranzo\n",
        "      lim_sup = lim_sup_pranzo\n",
        "      activity = 'pranzo'\n",
        "    if j == 2: \n",
        "      lim_inf = lim_inf_cena\n",
        "      lim_sup = lim_sup_cena\n",
        "      activity = 'cena'\n",
        "\n",
        "    #prendo le label che ci indicano l'attività svolta solo nella finestra di tempo compresa tra lim_inf e lim_sup \n",
        "    real= []\n",
        "\n",
        "    i = 0 \n",
        "    while i < len(label_time[0]):\n",
        "      if label_time[1][i]> lim_inf and label_time[1][i]<lim_sup:\n",
        "        real.append(label_time[0][i])\n",
        "      i = i+1\n",
        "\n",
        "    #prendo le predizioni che ci indicano l'attività svolta solo nella finestra di tempo compresa tra lim_inf e lim_sup\n",
        "    pred_sintesi = []\n",
        "\n",
        "    i = 0 \n",
        "    while i < len(pred_time[0]):\n",
        "      if pred_time[1][i]>lim_inf and pred_time[1][i]<lim_sup:\n",
        "        pred_sintesi.append(pred_time[0][i])\n",
        "      i = i+1\n",
        "\n",
        "    #calcolo la matrice di confusione solo per il pasto indicato dalla variabile activity\n",
        "    print(\"\\nCompute confusion matrix senza sw \" + activity)\n",
        "    y_true = real\n",
        "    y_true = np.array(y_true,dtype=np.int)\n",
        "    n_y_pred = pred_sintesi\n",
        "    tn, fp, fn, tp = confusion_matrix(y_true, n_y_pred).ravel()\n",
        "    print(\"TN\", tn)\n",
        "    print(\"FP\", fp)\n",
        "    print(\"FN\", fn)\n",
        "    print(\"TP\", tp)\n",
        "    other = 100*tn/(tn+fp)\n",
        "    pasto = 100*tp/(fn+tp)\n",
        "    print(\"Other corretti: %.2f %%\" % other)\n",
        "    print(\"Pasto corretti: %.2f %%\" % pasto)\n",
        "    \n",
        "    \n",
        "\n"
      ],
      "execution_count": 2,
      "outputs": [
        {
          "output_type": "stream",
          "text": [
            "Overwriting local_modules/postprocessing_sw_HL/__init__.py\n"
          ],
          "name": "stdout"
        }
      ]
    }
  ]
}